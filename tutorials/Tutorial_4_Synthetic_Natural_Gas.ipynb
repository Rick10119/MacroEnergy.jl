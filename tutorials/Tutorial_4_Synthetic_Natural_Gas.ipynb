{
 "cells": [
  {
   "cell_type": "markdown",
   "metadata": {},
   "source": [
    "This tutorial shows the multi-sectoral capabilities of Macro with synthetic natural gas (SNG) resource. Instead of using a natural gas source node to purchase natural gas for power and hydrogen generators, here a new natural gas (NG) node with demand input from csv file is created. The resources utilized used are PV power, electrolyzer H2, direct air capture (DAC) of CO2, and SNG plant. The system will uses electricity, hydrogen, and atmospheric CO2 to produce SNG to fulfill the NG demand. "
   ]
  },
  {
   "cell_type": "code",
   "execution_count": 189,
   "metadata": {},
   "outputs": [
    {
     "name": "stderr",
     "output_type": "stream",
     "text": [
      "\u001b[32m\u001b[1m  Activating\u001b[22m\u001b[39m project at `c:\\Users\\pecci\\Code\\MACRO-dev\\tutorials`\n"
     ]
    }
   ],
   "source": [
    "using Pkg\n",
    "Pkg.activate(\".\")"
   ]
  },
  {
   "cell_type": "code",
   "execution_count": 190,
   "metadata": {},
   "outputs": [],
   "source": [
    "using Macro,CSV,DataFrames"
   ]
  },
  {
   "cell_type": "markdown",
   "metadata": {},
   "source": [
    "Start MACRO model generation (units: MWh for energy, $ for costs)"
   ]
  },
  {
   "cell_type": "code",
   "execution_count": 191,
   "metadata": {},
   "outputs": [],
   "source": [
    "T = 8760;\n",
    "macro_settings = (Commodities = Dict(Electricity=>Dict(:HoursPerTimeStep=>1,:HoursPerSubperiod=>T),\n",
    "                                    Hydrogen=>Dict(:HoursPerTimeStep=>1,:HoursPerSubperiod=>T),\n",
    "                                    NaturalGas=>Dict(:HoursPerTimeStep=>1,:HoursPerSubperiod=>T),\n",
    "                                    CO2=>Dict(:HoursPerTimeStep=>1,:HoursPerSubperiod=>T)),\n",
    "                PeriodLength = T);"
   ]
  },
  {
   "cell_type": "code",
   "execution_count": 192,
   "metadata": {},
   "outputs": [
    {
     "data": {
      "text/plain": [
       "(Commodities = Dict{DataType, Dict{Symbol, Int64}}(CO2 => Dict(:HoursPerSubperiod => 8760, :HoursPerTimeStep => 1), Electricity => Dict(:HoursPerSubperiod => 8760, :HoursPerTimeStep => 1), Hydrogen => Dict(:HoursPerSubperiod => 8760, :HoursPerTimeStep => 1), NaturalGas => Dict(:HoursPerSubperiod => 8760, :HoursPerTimeStep => 1)), PeriodLength = 8760)"
      ]
     },
     "metadata": {},
     "output_type": "display_data"
    }
   ],
   "source": [
    "macro_settings"
   ]
  },
  {
   "cell_type": "code",
   "execution_count": 193,
   "metadata": {},
   "outputs": [],
   "source": [
    "\n",
    "H2_MWh = 33.33 # MWh per tonne of H2\n",
    "NG_MWh = 0.29307107 # MWh per MMBTU of NG\n",
    "\n",
    "df = CSV.read(\"time_series_data_for_synthetic_natural_gas_tutorial.csv\",DataFrame)\n",
    "\n",
    "electricity_demand = df[1:T,:Electricity_Demand_MW]; # MWh\n",
    "solar_capacity_factor = df[1:T,:Solar_Capacity_Factor]; # factor between 0 and 1\n",
    "h2_demand = H2_MWh*df[1:T,:H2_Demand_tonne]; # MWh of hydrogen\n",
    "ng_demand = NG_MWh*df[1:T,:NG_Demand_MMBtu]; # MWh of natural gas\n",
    "\n",
    "solar_inv_cost = 85300; # $/MW\n",
    "solar_fom_cost = 18760.0; # $/MW\n",
    "\n",
    "battery_inv_cost = 19584.0; #$/MW\n",
    "battery_fom_cost = 4895; # $/MW\n",
    "battery_vom_cost = 0.15; #$/MW\n",
    "battery_inv_cost_storage = 22494.0; #$/MWh\n",
    "battery_fom_cost_storage = 5622; #$/MWh\n",
    "battery_vom_cost_storage = 0.15; #$/MWh\n",
    "battery_eff_up = 0.92;\n",
    "battery_eff_down = 0.92;\n",
    "\n",
    "electric_dac_inv_cost = 9390;# $/Tonnes of CO2 captured/h\n",
    "electric_dac_fom_cost = 7470;# $/Tonnes of CO2 captured/h\n",
    "electric_dac_vom_cost = 22; #$/Tonnes of CO2 captured\n",
    "electric_dac_power_input = 4.38; #MWh/Tonnes of CO2 captured\n",
    "electric_dac_capsize = 20;# Tonnes of CO2 captured/h\n",
    "\n",
    "sng_inv_cost = 390;# $/MW of NG\n",
    "sng_fom_cost = 470;# $/MW of NG\n",
    "sng_vom_cost = 2; #$/MWh of NG\n",
    "sng_power_input = 2; #MWh of power/MWh of NG\n",
    "sng_h2_input = 2; #MWh of H2/MWh of NG\n",
    "sng_co2_input = 2; #Tonnes of CO2 captured/MWh of NG\n",
    "sng_capsize = 20;# MW of NG\n",
    "\n",
    "electrolyzer_capsize = 2*H2_MWh; # MWh of H2\n",
    "electrolyzer_efficiency = 1/(45/H2_MWh); # MWh of H2 / MWh of electricity\n",
    "electrolyzer_inv_cost = 2033333/H2_MWh; # $/MW of H2\n",
    "electrolyzer_fom_cost = 30500/H2_MWh; # $/MW of H2\n",
    "electrolyzer_vom_cost = 0.0;\n"
   ]
  },
  {
   "cell_type": "code",
   "execution_count": 194,
   "metadata": {},
   "outputs": [
    {
     "data": {
      "text/plain": [
       "subperiods (generic function with 1 method)"
      ]
     },
     "metadata": {},
     "output_type": "display_data"
    }
   ],
   "source": [
    "### For now, we use the same temporal resolution and subperiods for every commodity, but MACRO will allow to use different temporal resolution for different commodities\n",
    "\n",
    "hours_per_timestep(c) = macro_settings.Commodities[c][:HoursPerTimeStep];\n",
    "hours_per_subperiod(c) = macro_settings.Commodities[c][:HoursPerSubperiod]\n",
    "time_interval(c)= 1:hours_per_timestep(c):macro_settings.PeriodLength\n",
    "\n",
    "subperiods(c) = collect(Iterators.partition(time_interval(c), Int(hours_per_subperiod(c) / hours_per_timestep(c))),)"
   ]
  },
  {
   "cell_type": "markdown",
   "metadata": {},
   "source": [
    "Let's start from creating an electricity node:"
   ]
  },
  {
   "cell_type": "code",
   "execution_count": 195,
   "metadata": {},
   "outputs": [
    {
     "data": {
      "text/plain": [
       "Node{Electricity}(:E_node, [7850.0, 7424.0, 7107.0, 6947.0, 6922.0, 7045.0, 7307.0, 7544.0, 7946.0, 8340.0  …  10438.0, 10469.0, 11228.0, 11908.0, 11562.0, 9923.0, 9461.0, 9018.0, 8551.0, 8089.0], 1:1:8760, StepRange{Int64, Int64}[1:1:8760], [0.0], [50000.0], Dict{Any, Any}(), Dict{Any, Any}(), Macro.AbstractTypeConstraint[Macro.DemandBalanceConstraint(missing, missing, missing), Macro.MaxNonServedDemandConstraint(missing, missing, missing)])"
      ]
     },
     "metadata": {},
     "output_type": "display_data"
    }
   ],
   "source": [
    "e_node = Node{Electricity}(;\n",
    "    id = Symbol(\"E_node\"),\n",
    "    demand =  electricity_demand,\n",
    "    time_interval = time_interval(Electricity),\n",
    "    subperiods = subperiods(Electricity),\n",
    "    max_nsd = [0.0],\n",
    "    price_nsd = [50000],\n",
    "    constraints = [Macro.DemandBalanceConstraint(),Macro.MaxNonServedDemandConstraint()]\n",
    ")"
   ]
  },
  {
   "cell_type": "markdown",
   "metadata": {},
   "source": [
    "We assign a solar PV generator to this electricity node:"
   ]
  },
  {
   "cell_type": "code",
   "execution_count": 196,
   "metadata": {},
   "outputs": [
    {
     "data": {
      "text/plain": [
       "Resource{Electricity}(Node{Electricity}(:E_node, [7850.0, 7424.0, 7107.0, 6947.0, 6922.0, 7045.0, 7307.0, 7544.0, 7946.0, 8340.0  …  10438.0, 10469.0, 11228.0, 11908.0, 11562.0, 9923.0, 9461.0, 9018.0, 8551.0, 8089.0], 1:1:8760, StepRange{Int64, Int64}[1:1:8760], [0.0], [50000.0], Dict{Any, Any}(), Dict{Any, Any}(), Macro.AbstractTypeConstraint[Macro.DemandBalanceConstraint(missing, missing, missing), Macro.MaxNonServedDemandConstraint(missing, missing, missing)]), :Solar_PV, [0.0, 0.0, 0.0, 0.0, 0.0, 0.0, 0.0, 0.0, 0.1779, 0.429  …  0.3834, 0.2594, 0.078, 0.0, 0.0, 0.0, 0.0, 0.0, 0.0, 0.0], 1.0, Float64[], 1:1:8760, StepRange{Int64, Int64}[1:1:8760], 0.0, Inf, 0.0, true, false, 85300.0, 18760.0, 0.0, Dict{Symbol, Any}(), Dict{Symbol, Any}(), Macro.AbstractTypeConstraint[CapacityConstraint(missing, missing, missing)])"
      ]
     },
     "metadata": {},
     "output_type": "display_data"
    }
   ],
   "source": [
    "solar_pv = Resource{Electricity}(;\n",
    "    id = :Solar_PV,\n",
    "    node = e_node,\n",
    "    time_interval = time_interval(Electricity),\n",
    "    subperiods = subperiods(Electricity),\n",
    "    capacity_factor = solar_capacity_factor,\n",
    "    can_expand = true, \n",
    "    can_retire = false,\n",
    "    existing_capacity = 0.0,\n",
    "    investment_cost = solar_inv_cost,\n",
    "    fixed_om_cost = solar_fom_cost,\n",
    "    constraints = [Macro.CapacityConstraint()]\n",
    ")"
   ]
  },
  {
   "cell_type": "markdown",
   "metadata": {},
   "source": [
    "We can also assigne a battery storage to the node:"
   ]
  },
  {
   "cell_type": "code",
   "execution_count": 197,
   "metadata": {},
   "outputs": [
    {
     "data": {
      "text/plain": [
       "SymmetricStorage{Electricity}(Node{Electricity}(:E_node, [7850.0, 7424.0, 7107.0, 6947.0, 6922.0, 7045.0, 7307.0, 7544.0, 7946.0, 8340.0  …  10438.0, 10469.0, 11228.0, 11908.0, 11562.0, 9923.0, 9461.0, 9018.0, 8551.0, 8089.0], 1:1:8760, StepRange{Int64, Int64}[1:1:8760], [0.0], [50000.0], Dict{Any, Any}(), Dict{Any, Any}(), Macro.AbstractTypeConstraint[Macro.DemandBalanceConstraint(missing, missing, missing), Macro.MaxNonServedDemandConstraint(missing, missing, missing)]), :battery, 1:1:8760, StepRange{Int64, Int64}[1:1:8760], [1.0, 1.0, 1.0, 1.0, 1.0, 1.0, 1.0, 1.0, 1.0, 1.0  …  1.0, 1.0, 1.0, 1.0, 1.0, 1.0, 1.0, 1.0, 1.0, 1.0], 0.0, Inf, 0.0, Inf, 0.0, 0.0, true, false, 19584.0, 22494.0, 0.0, 4895.0, 5622.0, 0.0, 0.15, 0.15, 0.0, 0.92, 0.92, 0.0, 1.0, 10.0, 0.0, Dict{Any, Any}(), Dict{Any, Any}(), Macro.AbstractTypeConstraint[CapacityConstraint(missing, missing, missing), Macro.StorageCapacityConstraint(missing, missing, missing)])"
      ]
     },
     "metadata": {},
     "output_type": "display_data"
    }
   ],
   "source": [
    "battery = SymmetricStorage{Electricity}(;\n",
    "    id = :battery,\n",
    "    node = e_node,\n",
    "    time_interval = time_interval(Electricity),\n",
    "    subperiods = subperiods(Electricity),\n",
    "    can_expand = true,\n",
    "    can_retire = false,\n",
    "    existing_capacity = 0.0,\n",
    "    investment_cost = battery_inv_cost,\n",
    "    investment_cost_storage = battery_inv_cost_storage,\n",
    "    fixed_om_cost = battery_fom_cost,\n",
    "    fixed_om_cost_storage = battery_fom_cost_storage,\n",
    "    variable_om_cost = battery_vom_cost,\n",
    "    variable_om_cost_storage = battery_vom_cost_storage,\n",
    "    efficiency_injection = battery_eff_down,\n",
    "    efficiency_withdrawal = battery_eff_up,\n",
    "    constraints = [Macro.CapacityConstraint(),Macro.StorageCapacityConstraint()]\n",
    ")"
   ]
  },
  {
   "cell_type": "markdown",
   "metadata": {},
   "source": [
    "We also consider a hydrogen demand node:"
   ]
  },
  {
   "cell_type": "code",
   "execution_count": 198,
   "metadata": {},
   "outputs": [
    {
     "data": {
      "text/plain": [
       "Node{Hydrogen}(:H2_node, [53.9946, 40.6626, 58.3275, 133.32, 274.6392, 446.95529999999997, 559.6107, 641.2692, 674.5991999999999, 714.2619  …  901.9097999999999, 864.5802, 820.2512999999999, 725.2608, 603.9396, 460.2873, 349.965, 243.9756, 150.9849, 89.3244], 1:1:8760, StepRange{Int64, Int64}[1:1:8760], [0.0], [0.0], Dict{Any, Any}(), Dict{Any, Any}(), Macro.AbstractTypeConstraint[Macro.DemandBalanceConstraint(missing, missing, missing)])"
      ]
     },
     "metadata": {},
     "output_type": "display_data"
    }
   ],
   "source": [
    "h2_node = Node{Hydrogen}(;\n",
    "    id = Symbol(\"H2_node\"),\n",
    "    demand =  h2_demand,\n",
    "    time_interval = time_interval(Hydrogen),\n",
    "    subperiods = subperiods(Hydrogen),\n",
    "    max_nsd = [0.0],\n",
    "    price_nsd = [0.0],\n",
    "    constraints = [Macro.DemandBalanceConstraint()]\n",
    ")"
   ]
  },
  {
   "cell_type": "markdown",
   "metadata": {},
   "source": [
    "We also consider a natural gas demand node:"
   ]
  },
  {
   "cell_type": "code",
   "execution_count": 199,
   "metadata": {},
   "outputs": [
    {
     "data": {
      "text/plain": [
       "Node{NaturalGas}(:NG_node, [0.4747751334, 0.3575467054, 0.5128743725, 1.17228428, 2.4149056168, 3.9300830487, 4.9206632653, 5.638687386799999, 5.931758456799999, 6.2805130301  …  7.930503154199999, 7.6022635558000005, 7.212479032699999, 6.3772264832, 5.3104477884, 4.0473114767, 3.077246235, 2.1452802324, 1.3276119471, 0.7854304676], 1:1:8760, StepRange{Int64, Int64}[1:1:8760], [0.0], [0.0], Dict{Any, Any}(), Dict{Any, Any}(), Macro.AbstractTypeConstraint[Macro.DemandBalanceConstraint(missing, missing, missing)])"
      ]
     },
     "metadata": {},
     "output_type": "display_data"
    }
   ],
   "source": [
    "ng_node = Node{NaturalGas}(;\n",
    "    id = Symbol(\"NG_node\"),\n",
    "    demand =  ng_demand,\n",
    "    time_interval = time_interval(NaturalGas),\n",
    "    subperiods = subperiods(NaturalGas),\n",
    "    max_nsd = [0.0],\n",
    "    price_nsd = [0.0],\n",
    "    constraints = [Macro.DemandBalanceConstraint()]\n",
    ")"
   ]
  },
  {
   "cell_type": "markdown",
   "metadata": {},
   "source": [
    "We also define a CO2 node with sink and source:"
   ]
  },
  {
   "cell_type": "code",
   "execution_count": 200,
   "metadata": {},
   "outputs": [
    {
     "data": {
      "text/plain": [
       "Node{CO2}(:CO2_node, [0.0, 0.0, 0.0, 0.0, 0.0, 0.0, 0.0, 0.0, 0.0, 0.0  …  0.0, 0.0, 0.0, 0.0, 0.0, 0.0, 0.0, 0.0, 0.0, 0.0], 1:1:8760, StepRange{Int64, Int64}[1:1:8760], [0.0], [0.0], Dict{Any, Any}(), Dict{Any, Any}(), Macro.AbstractTypeConstraint[])"
      ]
     },
     "metadata": {},
     "output_type": "display_data"
    }
   ],
   "source": [
    "co2_node = Node{CO2}(;\n",
    "id = Symbol(\"CO2_node\"),\n",
    "time_interval = time_interval(CO2),\n",
    "subperiods = subperiods(CO2),\n",
    "demand = zeros(length(time_interval(CO2))),\n",
    "max_nsd = [0.0],\n",
    "price_nsd = [0.0],\n",
    ")"
   ]
  },
  {
   "cell_type": "markdown",
   "metadata": {},
   "source": [
    "We define captured CO2 node and sink to account for the inventory of captured CO2 (input from CO2 capture, output to SNG or potential storage):"
   ]
  },
  {
   "cell_type": "code",
   "execution_count": 201,
   "metadata": {},
   "outputs": [
    {
     "data": {
      "text/plain": [
       "Node{CO2}(:CO2_Captured_node, [0.0, 0.0, 0.0, 0.0, 0.0, 0.0, 0.0, 0.0, 0.0, 0.0  …  0.0, 0.0, 0.0, 0.0, 0.0, 0.0, 0.0, 0.0, 0.0, 0.0], 1:1:8760, StepRange{Int64, Int64}[1:1:8760], [0.0], [0.0], Dict{Any, Any}(), Dict{Any, Any}(), Macro.AbstractTypeConstraint[Macro.DemandBalanceConstraint(missing, missing, missing)])"
      ]
     },
     "metadata": {},
     "output_type": "display_data"
    }
   ],
   "source": [
    "co2_captured_node = Node{CO2}(;\n",
    "id = Symbol(\"CO2_Captured_node\"),\n",
    "time_interval = time_interval(CO2),\n",
    "subperiods = subperiods(CO2),\n",
    "demand = zeros(length(time_interval(CO2))),\n",
    "max_nsd = [0.0],\n",
    "price_nsd = [0.0],\n",
    "constraints = [Macro.DemandBalanceConstraint()]\n",
    ")\n",
    "\n",
    "co2_captured_sink = Sink{CO2}(;\n",
    "node = co2_captured_node,\n",
    "id = Symbol(\"CO2_sink\"),\n",
    "time_interval = time_interval(CO2),\n",
    "subperiods = subperiods(CO2),\n",
    ")\n",
    "\n"
   ]
  },
  {
   "cell_type": "markdown",
   "metadata": {},
   "source": [
    "We can also create an electrolyzer, which is defined by a single stoichiometry balance: electrolyzer_efficiency $\\times$ Electricity = H2"
   ]
  },
  {
   "cell_type": "code",
   "execution_count": 202,
   "metadata": {},
   "outputs": [
    {
     "data": {
      "text/plain": [
       "TEdge{Electricity}(:E, Node{Electricity}(:E_node, [7850.0, 7424.0, 7107.0, 6947.0, 6922.0, 7045.0, 7307.0, 7544.0, 7946.0, 8340.0  …  10438.0, 10469.0, 11228.0, 11908.0, 11562.0, 9923.0, 9461.0, 9018.0, 8551.0, 8089.0], 1:1:8760, StepRange{Int64, Int64}[1:1:8760], [0.0], [50000.0], Dict{Any, Any}(), Dict{Any, Any}(), Macro.AbstractTypeConstraint[Macro.DemandBalanceConstraint(missing, missing, missing), Macro.MaxNonServedDemandConstraint(missing, missing, missing)]), Transformation{Electrolyzer}(:Electrolyzer, 1:1:8760, [:energy], Dict{Symbol, TEdge}(:H2 => TEdge{Hydrogen}(:H2, Node{Hydrogen}(:H2_node, [53.9946, 40.6626, 58.3275, 133.32, 274.6392, 446.95529999999997, 559.6107, 641.2692, 674.5991999999999, 714.2619  …  901.9097999999999, 864.5802, 820.2512999999999, 725.2608, 603.9396, 460.2873, 349.965, 243.9756, 150.9849, 89.3244], 1:1:8760, StepRange{Int64, Int64}[1:1:8760], [0.0], [0.0], Dict{Any, Any}(), Dict{Any, Any}(), Macro.AbstractTypeConstraint[Macro.DemandBalanceConstraint(missing, missing, missing)]), Transformation{Electrolyzer}(#= circular reference @-3 =#), :output, true, false, true, 66.66, 1:1:8760, StepRange{Int64, Int64}[1:1:8760], Dict(:energy => 1.0), 0.0, Inf, 0.0, 61006.090609060906, 915.0915091509152, 0.0, 0.0, false, 0.0, 0.0, 0, 0, 0.0, Dict{Any, Any}(), Dict{Any, Any}(), Macro.AbstractTypeConstraint[CapacityConstraint(missing, missing, missing)]), :E => TEdge{Electricity}(#= circular reference @-3 =#)), Dict{Any, Any}(), Macro.AbstractTypeConstraint[Macro.StoichiometryBalanceConstraint(missing, missing, missing)]), :input, false, false, false, 1.0, 1:1:8760, StepRange{Int64, Int64}[1:1:8760], Dict(:energy => 0.7406666666666667), 0.0, Inf, 0.0, 0.0, 0.0, 0.0, 0.0, false, 0.0, 0.0, 0, 0, 0.0, Dict{Any, Any}(), Dict{Any, Any}(), Macro.AbstractTypeConstraint[])"
      ]
     },
     "metadata": {},
     "output_type": "display_data"
    }
   ],
   "source": [
    "electrolyzer = Transformation{Electrolyzer}(;\n",
    "                id = :Electrolyzer,\n",
    "                time_interval = time_interval(Electricity),\n",
    "                stoichiometry_balance_names = [:energy],\n",
    "                constraints = [Macro.StoichiometryBalanceConstraint()]\n",
    "                )\n",
    "\n",
    "electrolyzer.TEdges[:H2] = TEdge{Hydrogen}(;\n",
    "    id = :H2,\n",
    "    node = h2_node,\n",
    "    transformation = electrolyzer,\n",
    "    direction = :output,\n",
    "    has_planning_variables = true,\n",
    "    can_expand = true,\n",
    "    can_retire = false,\n",
    "    capacity_size = electrolyzer_capsize,\n",
    "    time_interval = time_interval(Hydrogen),\n",
    "    subperiods = subperiods(Hydrogen),\n",
    "    st_coeff = Dict(:energy=>1.0),\n",
    "    existing_capacity = 0.0,\n",
    "    investment_cost = electrolyzer_inv_cost,\n",
    "    fixed_om_cost = electrolyzer_fom_cost,\n",
    "    variable_om_cost = electrolyzer_vom_cost,\n",
    "    constraints = [CapacityConstraint()]\n",
    ")\n",
    "\n",
    "electrolyzer.TEdges[:E] = TEdge{Electricity}(;\n",
    "    id = :E,\n",
    "    node = e_node,\n",
    "    transformation = electrolyzer,\n",
    "    direction = :input,\n",
    "    has_planning_variables = false,\n",
    "    time_interval = time_interval(Electricity),\n",
    "    subperiods = subperiods(Electricity),\n",
    "    st_coeff = Dict(:energy=>electrolyzer_efficiency)\n",
    ")"
   ]
  },
  {
   "cell_type": "markdown",
   "metadata": {},
   "source": [
    "Let's add a direct air capture unit consuming electricity and capturing CO2 from the atmosphere into the captured CO2 inventory"
   ]
  },
  {
   "cell_type": "code",
   "execution_count": 203,
   "metadata": {},
   "outputs": [
    {
     "data": {
      "text/plain": [
       "TEdge{Electricity}(:E, Node{Electricity}(:E_node, [7850.0, 7424.0, 7107.0, 6947.0, 6922.0, 7045.0, 7307.0, 7544.0, 7946.0, 8340.0  …  10438.0, 10469.0, 11228.0, 11908.0, 11562.0, 9923.0, 9461.0, 9018.0, 8551.0, 8089.0], 1:1:8760, StepRange{Int64, Int64}[1:1:8760], [0.0], [50000.0], Dict{Any, Any}(), Dict{Any, Any}(), Macro.AbstractTypeConstraint[Macro.DemandBalanceConstraint(missing, missing, missing), Macro.MaxNonServedDemandConstraint(missing, missing, missing)]), Transformation{DACElectric}(:DAC, 1:1:8760, [:energy, :captured_co2], Dict{Symbol, TEdge}(:CO2_Captured => TEdge{CO2}(:CO2_Captured, Node{CO2}(:CO2_Captured_node, [0.0, 0.0, 0.0, 0.0, 0.0, 0.0, 0.0, 0.0, 0.0, 0.0  …  0.0, 0.0, 0.0, 0.0, 0.0, 0.0, 0.0, 0.0, 0.0, 0.0], 1:1:8760, StepRange{Int64, Int64}[1:1:8760], [0.0], [0.0], Dict{Any, Any}(), Dict{Any, Any}(), Macro.AbstractTypeConstraint[Macro.DemandBalanceConstraint(missing, missing, missing)]), Transformation{DACElectric}(#= circular reference @-3 =#), :output, true, false, true, 20.0, 1:1:8760, StepRange{Int64, Int64}[1:1:8760], Dict(:energy => 4.38, :captured_co2 => 1.0), 0.0, Inf, 0.0, 9390.0, 7470.0, 22.0, 0.0, false, 0.0, 0.0, 0, 0, 0.0, Dict{Any, Any}(), Dict{Any, Any}(), Macro.AbstractTypeConstraint[CapacityConstraint(missing, missing, missing)]), :CO2_Input => TEdge{CO2}(:CO2_Input, Node{CO2}(:CO2_node, [0.0, 0.0, 0.0, 0.0, 0.0, 0.0, 0.0, 0.0, 0.0, 0.0  …  0.0, 0.0, 0.0, 0.0, 0.0, 0.0, 0.0, 0.0, 0.0, 0.0], 1:1:8760, StepRange{Int64, Int64}[1:1:8760], [0.0], [0.0], Dict{Any, Any}(), Dict{Any, Any}(), Macro.AbstractTypeConstraint[]), Transformation{DACElectric}(#= circular reference @-3 =#), :input, false, false, false, 1.0, 1:1:8760, StepRange{Int64, Int64}[1:1:8760], Dict(:energy => 0.0, :captured_co2 => 1.0), 0.0, Inf, 0.0, 0.0, 0.0, 0.0, 0.0, false, 0.0, 0.0, 0, 0, 0.0, Dict{Any, Any}(), Dict{Any, Any}(), Macro.AbstractTypeConstraint[]), :E => TEdge{Electricity}(#= circular reference @-3 =#)), Dict{Any, Any}(), Macro.AbstractTypeConstraint[Macro.StoichiometryBalanceConstraint(missing, missing, missing)]), :input, false, false, false, 1.0, 1:1:8760, StepRange{Int64, Int64}[1:1:8760], Dict(:energy => 1.0, :captured_co2 => 0.0), 0.0, Inf, 0.0, 0.0, 0.0, 0.0, 0.0, false, 0.0, 0.0, 0, 0, 0.0, Dict{Any, Any}(), Dict{Any, Any}(), Macro.AbstractTypeConstraint[])"
      ]
     },
     "metadata": {},
     "output_type": "display_data"
    }
   ],
   "source": [
    "electric_dac = Transformation{DACElectric}(;\n",
    "                id = :DAC,\n",
    "                time_interval = time_interval(CO2),\n",
    "                stoichiometry_balance_names  = [:energy,:captured_co2],\n",
    "                constraints = [Macro.StoichiometryBalanceConstraint()]\n",
    "                )\n",
    "\n",
    "electric_dac.TEdges[:CO2_Captured] = TEdge{CO2}(;\n",
    "    id = :CO2_Captured,\n",
    "    node = co2_captured_node,\n",
    "    transformation = electric_dac,\n",
    "    direction = :output,\n",
    "    has_planning_variables = true,\n",
    "    can_expand = true,\n",
    "    can_retire = false,\n",
    "    capacity_size = electric_dac_capsize,\n",
    "    time_interval = time_interval(CO2),\n",
    "    subperiods = subperiods(CO2),\n",
    "    st_coeff = Dict(:energy=>electric_dac_power_input,:captured_co2=>1.0),\n",
    "    existing_capacity = 0.0,\n",
    "    investment_cost = electric_dac_inv_cost,\n",
    "    fixed_om_cost = electric_dac_fom_cost,\n",
    "    variable_om_cost = electric_dac_vom_cost,\n",
    "    constraints = [CapacityConstraint()]\n",
    ")\n",
    "\n",
    "electric_dac.TEdges[:CO2_Input] = TEdge{CO2}(;\n",
    "    id = :CO2_Input,\n",
    "    node = co2_node,\n",
    "    transformation = electric_dac,\n",
    "    direction = :input,\n",
    "    has_planning_variables = false,\n",
    "    time_interval = time_interval(CO2),\n",
    "    subperiods = subperiods(CO2),\n",
    "    st_coeff = Dict(:energy=>0.0,:captured_co2=>1.0)\n",
    ")\n",
    "\n",
    "electric_dac.TEdges[:E] = TEdge{Electricity}(;\n",
    "    id = :E,\n",
    "    node = e_node,\n",
    "    transformation = electric_dac,\n",
    "    direction = :input,\n",
    "    has_planning_variables = false,\n",
    "    time_interval = time_interval(Electricity),\n",
    "    subperiods = subperiods(Electricity),\n",
    "    st_coeff = Dict(:energy=>1.0,:captured_co2=>0.0)\n",
    ")"
   ]
  },
  {
   "cell_type": "markdown",
   "metadata": {},
   "source": [
    "Let's add a synthetic natural gas unit consuming electricity, hydrogen, and captured CO2 to produce natural gas output"
   ]
  },
  {
   "cell_type": "code",
   "execution_count": 204,
   "metadata": {},
   "outputs": [
    {
     "data": {
      "text/plain": [
       "TEdge{CO2}(:CO2, Node{CO2}(:CO2_Captured_node, [0.0, 0.0, 0.0, 0.0, 0.0, 0.0, 0.0, 0.0, 0.0, 0.0  …  0.0, 0.0, 0.0, 0.0, 0.0, 0.0, 0.0, 0.0, 0.0, 0.0], 1:1:8760, StepRange{Int64, Int64}[1:1:8760], [0.0], [0.0], Dict{Any, Any}(), Dict{Any, Any}(), Macro.AbstractTypeConstraint[Macro.DemandBalanceConstraint(missing, missing, missing)]), Transformation{SyntheticNG}(:SNG, 1:1:8760, [:electricity, :hydrogen, :co2], Dict{Symbol, TEdge}(:NG => TEdge{NaturalGas}(:NG, Node{NaturalGas}(:NG_node, [0.4747751334, 0.3575467054, 0.5128743725, 1.17228428, 2.4149056168, 3.9300830487, 4.9206632653, 5.638687386799999, 5.931758456799999, 6.2805130301  …  7.930503154199999, 7.6022635558000005, 7.212479032699999, 6.3772264832, 5.3104477884, 4.0473114767, 3.077246235, 2.1452802324, 1.3276119471, 0.7854304676], 1:1:8760, StepRange{Int64, Int64}[1:1:8760], [0.0], [0.0], Dict{Any, Any}(), Dict{Any, Any}(), Macro.AbstractTypeConstraint[Macro.DemandBalanceConstraint(missing, missing, missing)]), Transformation{SyntheticNG}(#= circular reference @-3 =#), :output, true, false, true, 20.0, 1:1:8760, StepRange{Int64, Int64}[1:1:8760], Dict(:hydrogen => 2.0, :co2 => 2.0, :electricity => 2.0), 0.0, Inf, 0.0, 390.0, 470.0, 2.0, 0.0, false, 0.0, 0.0, 0, 0, 0.0, Dict{Any, Any}(), Dict{Any, Any}(), Macro.AbstractTypeConstraint[CapacityConstraint(missing, missing, missing)]), :H2 => TEdge{Hydrogen}(:H2, Node{Hydrogen}(:H2_node, [53.9946, 40.6626, 58.3275, 133.32, 274.6392, 446.95529999999997, 559.6107, 641.2692, 674.5991999999999, 714.2619  …  901.9097999999999, 864.5802, 820.2512999999999, 725.2608, 603.9396, 460.2873, 349.965, 243.9756, 150.9849, 89.3244], 1:1:8760, StepRange{Int64, Int64}[1:1:8760], [0.0], [0.0], Dict{Any, Any}(), Dict{Any, Any}(), Macro.AbstractTypeConstraint[Macro.DemandBalanceConstraint(missing, missing, missing)]), Transformation{SyntheticNG}(#= circular reference @-3 =#), :input, false, false, false, 1.0, 1:1:8760, StepRange{Int64, Int64}[1:1:8760], Dict(:hydrogen => 1.0, :co2 => 0.0, :electricity => 0.0), 0.0, Inf, 0.0, 0.0, 0.0, 0.0, 0.0, false, 0.0, 0.0, 0, 0, 0.0, Dict{Any, Any}(), Dict{Any, Any}(), Macro.AbstractTypeConstraint[]), :CO2 => TEdge{CO2}(#= circular reference @-3 =#), :E => TEdge{Electricity}(:E, Node{Electricity}(:E_node, [7850.0, 7424.0, 7107.0, 6947.0, 6922.0, 7045.0, 7307.0, 7544.0, 7946.0, 8340.0  …  10438.0, 10469.0, 11228.0, 11908.0, 11562.0, 9923.0, 9461.0, 9018.0, 8551.0, 8089.0], 1:1:8760, StepRange{Int64, Int64}[1:1:8760], [0.0], [50000.0], Dict{Any, Any}(), Dict{Any, Any}(), Macro.AbstractTypeConstraint[Macro.DemandBalanceConstraint(missing, missing, missing), Macro.MaxNonServedDemandConstraint(missing, missing, missing)]), Transformation{SyntheticNG}(#= circular reference @-3 =#), :input, false, false, false, 1.0, 1:1:8760, StepRange{Int64, Int64}[1:1:8760], Dict(:hydrogen => 0.0, :co2 => 0.0, :electricity => 1.0), 0.0, Inf, 0.0, 0.0, 0.0, 0.0, 0.0, false, 0.0, 0.0, 0, 0, 0.0, Dict{Any, Any}(), Dict{Any, Any}(), Macro.AbstractTypeConstraint[])), Dict{Any, Any}(), Macro.AbstractTypeConstraint[Macro.StoichiometryBalanceConstraint(missing, missing, missing)]), :input, false, false, false, 1.0, 1:1:8760, StepRange{Int64, Int64}[1:1:8760], Dict(:hydrogen => 0.0, :co2 => 1.0, :electricity => 0.0), 0.0, Inf, 0.0, 0.0, 0.0, 0.0, 0.0, false, 0.0, 0.0, 0, 0, 0.0, Dict{Any, Any}(), Dict{Any, Any}(), Macro.AbstractTypeConstraint[])"
      ]
     },
     "metadata": {},
     "output_type": "display_data"
    }
   ],
   "source": [
    "sng = Transformation{SyntheticNG}(;\n",
    "                id = :SNG,\n",
    "                time_interval = time_interval(NaturalGas),\n",
    "                stoichiometry_balance_names  = [:electricity,:hydrogen,:co2],\n",
    "                constraints = [Macro.StoichiometryBalanceConstraint()]\n",
    "                )\n",
    "\n",
    "sng.TEdges[:NG] = TEdge{NaturalGas}(;\n",
    "    id = :NG,\n",
    "    node = ng_node,\n",
    "    transformation = sng,\n",
    "    direction = :output,\n",
    "    has_planning_variables = true,\n",
    "    can_expand = true,\n",
    "    can_retire = false,\n",
    "    capacity_size = sng_capsize,\n",
    "    time_interval = time_interval(NaturalGas),\n",
    "    subperiods = subperiods(NaturalGas),\n",
    "    st_coeff = Dict(:electricity=>sng_power_input,:hydrogen=>sng_h2_input,:co2=>sng_co2_input),\n",
    "    existing_capacity = 0.0,\n",
    "    investment_cost = sng_inv_cost,\n",
    "    fixed_om_cost = sng_fom_cost,\n",
    "    variable_om_cost = sng_vom_cost,\n",
    "    constraints = [CapacityConstraint()]\n",
    ")\n",
    "\n",
    "sng.TEdges[:E] = TEdge{Electricity}(;\n",
    "    id = :E,\n",
    "    node = e_node,\n",
    "    transformation = sng,\n",
    "    direction = :input,\n",
    "    has_planning_variables = false,\n",
    "    time_interval = time_interval(Electricity),\n",
    "    subperiods = subperiods(Electricity),\n",
    "    st_coeff = Dict(:electricity=>1.0,:hydrogen=>0.0,:co2=>0.0)\n",
    ")\n",
    "\n",
    "        \n",
    "sng.TEdges[:H2] = TEdge{Hydrogen}(;\n",
    "    id = :H2,\n",
    "    node = h2_node,\n",
    "    transformation = sng,\n",
    "    direction = :input,\n",
    "    has_planning_variables = false,\n",
    "    time_interval = time_interval(Hydrogen),\n",
    "    subperiods = subperiods(Hydrogen),\n",
    "    st_coeff = Dict(:electricity=>0.0,:hydrogen=>1.0,:co2=>0.0)\n",
    ")\n",
    "\n",
    "sng.TEdges[:CO2] = TEdge{CO2}(;\n",
    "    id = :CO2,\n",
    "    node = co2_captured_node,\n",
    "    transformation = sng,\n",
    "    direction = :input,\n",
    "    has_planning_variables = false,\n",
    "    time_interval = time_interval(CO2),\n",
    "    subperiods = subperiods(CO2),\n",
    "    st_coeff = Dict(:electricity=>0.0,:hydrogen=>0.0,:co2=>1.0)\n",
    ")\n",
    "\n"
   ]
  },
  {
   "cell_type": "markdown",
   "metadata": {},
   "source": [
    "Now that we have implemented different technologies, we can create the JuMP model."
   ]
  },
  {
   "cell_type": "code",
   "execution_count": 205,
   "metadata": {},
   "outputs": [],
   "source": [
    "components = [solar_pv; battery; electrolyzer; electric_dac; sng;co2_captured_sink];\n",
    "nodes = [e_node; h2_node; ng_node; co2_node; co2_captured_node];\n",
    "system = [nodes;components];"
   ]
  },
  {
   "cell_type": "code",
   "execution_count": 206,
   "metadata": {},
   "outputs": [],
   "source": [
    "model = Macro.JuMP.Model();\n",
    "Macro.@variable(model,vREF==1) ## Variable used to initialize empty expressions\n",
    "Macro.@expression(model, eFixedCost, 0 * model[:vREF]);\n",
    "Macro.@expression(model, eVariableCost, 0 * model[:vREF]);"
   ]
  },
  {
   "cell_type": "code",
   "execution_count": 207,
   "metadata": {},
   "outputs": [],
   "source": [
    "add_planning_variables!.(components,model);"
   ]
  },
  {
   "cell_type": "code",
   "execution_count": 208,
   "metadata": {},
   "outputs": [],
   "source": [
    "add_operation_variables!.(system, model);"
   ]
  },
  {
   "cell_type": "code",
   "execution_count": 209,
   "metadata": {},
   "outputs": [
    {
     "name": "stderr",
     "output_type": "stream",
     "text": [
      "┌ Warning: MaxNonServedDemandConstraint required for a node that does not have a non-served demand variable so MACRO will not create this constraint\n",
      "└ @ Macro c:\\Users\\pecci\\Code\\MACRO-dev\\src\\node.jl:84\n"
     ]
    }
   ],
   "source": [
    "add_all_model_constraints!.(system, model);"
   ]
  },
  {
   "cell_type": "code",
   "execution_count": 210,
   "metadata": {},
   "outputs": [],
   "source": [
    "Macro.@objective(model, Min, model[:eFixedCost] + model[:eVariableCost]);\n"
   ]
  },
  {
   "cell_type": "code",
   "execution_count": 211,
   "metadata": {},
   "outputs": [],
   "source": [
    "#Macro.@constraint(model,CO2Cap,sum(Macro.outflow(co2_captured_node)[t] for t in time_interval(CO2_Captured)) == 100000);"
   ]
  },
  {
   "cell_type": "code",
   "execution_count": 212,
   "metadata": {},
   "outputs": [
    {
     "name": "stdout",
     "output_type": "stream",
     "text": [
      "vFLOW_Electrolyzer_H2[5] - 0.7406666666666667 vFLOW_Electrolyzer_E[5] == 0\n"
     ]
    }
   ],
   "source": [
    "println(electrolyzer.constraints[1].constraint_ref[:energy,5])"
   ]
  },
  {
   "cell_type": "code",
   "execution_count": 213,
   "metadata": {},
   "outputs": [
    {
     "name": "stdout",
     "output_type": "stream",
     "text": [
      "vFLOW_DAC_CO2_Captured[5] - vFLOW_DAC_CO2_Input[5] == 0\n"
     ]
    }
   ],
   "source": [
    "println(electric_dac.constraints[1].constraint_ref[:captured_co2,5])"
   ]
  },
  {
   "cell_type": "code",
   "execution_count": 214,
   "metadata": {},
   "outputs": [
    {
     "name": "stdout",
     "output_type": "stream",
     "text": [
      "4.38 vFLOW_DAC_CO2_Captured[5] - vFLOW_DAC_E[5] == 0\n"
     ]
    }
   ],
   "source": [
    "println(electric_dac.constraints[1].constraint_ref[:energy,5])"
   ]
  },
  {
   "cell_type": "code",
   "execution_count": 215,
   "metadata": {},
   "outputs": [
    {
     "name": "stdout",
     "output_type": "stream",
     "text": [
      "2 vFLOW_SNG_NG[5] - vFLOW_SNG_E[5] == 0\n"
     ]
    }
   ],
   "source": [
    "println(sng.constraints[1].constraint_ref[:electricity,5])"
   ]
  },
  {
   "cell_type": "code",
   "execution_count": 216,
   "metadata": {},
   "outputs": [
    {
     "name": "stdout",
     "output_type": "stream",
     "text": [
      "2 vFLOW_SNG_NG[5] - vFLOW_SNG_H2[5] == 0\n"
     ]
    }
   ],
   "source": [
    "println(sng.constraints[1].constraint_ref[:hydrogen,5])"
   ]
  },
  {
   "cell_type": "code",
   "execution_count": 217,
   "metadata": {},
   "outputs": [
    {
     "name": "stdout",
     "output_type": "stream",
     "text": [
      "2 vFLOW_SNG_NG[5] - vFLOW_SNG_CO2[5] == 0\n"
     ]
    }
   ],
   "source": [
    "println(sng.constraints[1].constraint_ref[:co2,5])"
   ]
  },
  {
   "cell_type": "code",
   "execution_count": 218,
   "metadata": {},
   "outputs": [],
   "source": [
    "using Gurobi"
   ]
  },
  {
   "cell_type": "code",
   "execution_count": 219,
   "metadata": {},
   "outputs": [
    {
     "name": "stdout",
     "output_type": "stream",
     "text": [
      "Set parameter Username\n",
      "Academic license - for non-commercial use only - expires 2025-03-18\n"
     ]
    }
   ],
   "source": [
    "Macro.set_optimizer(model,Gurobi.Optimizer)"
   ]
  },
  {
   "cell_type": "code",
   "execution_count": 220,
   "metadata": {},
   "outputs": [
    {
     "name": "stdout",
     "output_type": "stream",
     "text": [
      "Gurobi Optimizer version 10.0.2 build v10.0.2rc0 (win64)\n",
      "\n",
      "CPU model: Intel(R) Core(TM) i9-9980HK CPU @ 2.40GHz, instruction set [SSE2|AVX|AVX2]\n",
      "Thread count: 8 physical cores, 16 logical processors, using up to 16 threads\n",
      "\n",
      "Optimize a model with 148928 rows, 113899 columns and 337131 nonzeros\n",
      "Model fingerprint: 0x0dcf7403\n",
      "Coefficient statistics:\n",
      "  Matrix range     [1e-04, 7e+01]\n",
      "  Objective range  [1e-01, 4e+06]\n",
      "  Bounds range     [1e+00, 1e+00]\n",
      "  RHS range        [4e-01, 2e+04]\n",
      "Presolve removed 118536 rows and 92264 columns\n",
      "Presolve time: 0.17s\n",
      "Presolved: 30392 rows, 21635 columns, 103608 nonzeros\n",
      "\n",
      "Concurrent LP optimizer: primal simplex, dual simplex, and barrier\n",
      "Showing barrier log only...\n",
      "\n",
      "Ordering time: 0.01s\n",
      "\n",
      "Barrier statistics:\n",
      " Dense cols : 3\n",
      " AA' NZ     : 1.180e+05\n",
      " Factor NZ  : 4.150e+05 (roughly 24 MB of memory)\n",
      " Factor Ops : 6.630e+06 (less than 1 second per iteration)\n",
      " Threads    : 6\n",
      "\n",
      "                  Objective                Residual\n",
      "Iter       Primal          Dual         Primal    Dual     Compl     Time\n",
      "   0   2.70431131e+12  5.75051685e+09  6.56e+06 0.00e+00  9.15e+09     0s\n",
      "   1   3.64877015e+12  1.98637332e+11  7.30e+05 2.01e+03  3.30e+09     0s\n",
      "   2   2.35799030e+12  2.55522813e+09  2.61e-08 1.46e+02  2.76e+08     0s\n",
      "   3   6.17506673e+11  9.62316072e+09  4.73e-08 1.71e+01  3.83e+07     0s\n",
      "   4   2.93774177e+11  7.51907571e+09  3.46e-08 4.81e+00  1.25e+07     0s\n",
      "   5   1.15960058e+11  6.42439948e+09  1.34e-08 3.49e-01  2.78e+06     0s\n",
      "   6   4.32374182e+10  7.34288105e+09  5.00e-08 0.00e+00  8.28e+05     0s\n",
      "   7   3.48785190e+10  1.00025475e+10  5.00e-08 3.58e-09  5.73e+05     0s\n",
      "   8   3.02845727e+10  1.34052434e+10  2.26e-07 0.00e+00  3.89e+05     0s\n",
      "   9   2.79641479e+10  2.00209087e+10  2.17e-06 0.00e+00  1.83e+05     0s\n",
      "  10   2.53944964e+10  2.38389908e+10  1.31e-05 1.90e-09  3.59e+04     0s\n",
      "  11   2.46374184e+10  2.40980843e+10  4.03e-06 1.36e-09  1.24e+04     0s\n",
      "  12   2.47774643e+10  2.43822638e+10  3.17e-07 0.00e+00  9.11e+03     0s\n",
      "  13   2.45165399e+10  2.44388018e+10  2.63e-09 0.00e+00  1.79e+03     0s\n",
      "  14   2.45137126e+10  2.44909794e+10  5.18e-08 9.35e-09  5.24e+02     0s\n",
      "  15   2.45127006e+10  2.45003922e+10  4.83e-09 4.53e-09  2.84e+02     0s\n",
      "  16   2.45103809e+10  2.45075529e+10  1.51e-09 2.94e-11  6.52e+01     1s\n",
      "  17   2.45094766e+10  2.45088453e+10  2.91e-10 0.00e+00  1.46e+01     1s\n",
      "\n",
      "Barrier performed 17 iterations in 0.52 seconds (0.45 work units)\n",
      "Barrier solve interrupted - model solved by another algorithm\n",
      "\n",
      "\n",
      "Solved with dual simplex\n",
      "Iteration    Objective       Primal Inf.    Dual Inf.      Time\n",
      "    5776    2.4509215e+10   0.000000e+00   0.000000e+00      1s\n",
      "\n",
      "Solved in 5776 iterations and 0.59 seconds (0.89 work units)\n",
      "Optimal objective  2.450921456e+10\n",
      "\n",
      "User-callback calls 139, time in user-callback 0.00 sec\n"
     ]
    }
   ],
   "source": [
    "Macro.optimize!(model)"
   ]
  },
  {
   "cell_type": "markdown",
   "metadata": {},
   "source": [
    "The installed electrolyzer capacity is:"
   ]
  },
  {
   "cell_type": "code",
   "execution_count": 221,
   "metadata": {},
   "outputs": [
    {
     "data": {
      "text/plain": [
       "1057.8444733466"
      ]
     },
     "metadata": {},
     "output_type": "display_data"
    }
   ],
   "source": [
    "Macro.value(Macro.capacity(electrolyzer.TEdges[:H2]))"
   ]
  },
  {
   "cell_type": "markdown",
   "metadata": {},
   "source": [
    "The installed solar capacity in MW is:"
   ]
  },
  {
   "cell_type": "code",
   "execution_count": 222,
   "metadata": {},
   "outputs": [
    {
     "data": {
      "text/plain": [
       "133848.42527364765"
      ]
     },
     "metadata": {},
     "output_type": "display_data"
    }
   ],
   "source": [
    "Macro.value(Macro.capacity(solar_pv))"
   ]
  },
  {
   "cell_type": "markdown",
   "metadata": {},
   "source": [
    "The installed battery capacity in MW is:"
   ]
  },
  {
   "cell_type": "code",
   "execution_count": 223,
   "metadata": {},
   "outputs": [
    {
     "data": {
      "text/plain": [
       "16431.746098987787"
      ]
     },
     "metadata": {},
     "output_type": "display_data"
    }
   ],
   "source": [
    "Macro.value(Macro.capacity(battery))"
   ]
  },
  {
   "cell_type": "markdown",
   "metadata": {},
   "source": [
    "The installed Electric DAC capacity in Tons CO2/h is:"
   ]
  },
  {
   "cell_type": "code",
   "execution_count": 224,
   "metadata": {},
   "outputs": [
    {
     "data": {
      "text/plain": [
       "18.2817733466"
      ]
     },
     "metadata": {},
     "output_type": "display_data"
    }
   ],
   "source": [
    "Macro.value(Macro.capacity(electric_dac.TEdges[:CO2_Captured]))"
   ]
  },
  {
   "cell_type": "markdown",
   "metadata": {},
   "source": [
    "The installed SNG capacity in MW NG is:"
   ]
  },
  {
   "cell_type": "code",
   "execution_count": 225,
   "metadata": {},
   "outputs": [
    {
     "data": {
      "text/plain": [
       "9.1408866733"
      ]
     },
     "metadata": {},
     "output_type": "display_data"
    }
   ],
   "source": [
    "Macro.value(Macro.capacity(sng.TEdges[:NG]))"
   ]
  },
  {
   "cell_type": "markdown",
   "metadata": {},
   "source": [
    "The resulting CO2 removed from the atmosphere by DAC in tonnes are:"
   ]
  },
  {
   "cell_type": "code",
   "execution_count": 226,
   "metadata": {},
   "outputs": [
    {
     "data": {
      "text/plain": [
       "79189.19227087137"
      ]
     },
     "metadata": {},
     "output_type": "display_data"
    }
   ],
   "source": [
    "atm_CO2_captured  = Macro.sum(Macro.value.(Macro.flow(electric_dac.TEdges[:CO2_Captured])))"
   ]
  },
  {
   "cell_type": "markdown",
   "metadata": {},
   "source": [
    "Which should be equal to the CO2 input to the electric DAC unit:"
   ]
  },
  {
   "cell_type": "code",
   "execution_count": 227,
   "metadata": {},
   "outputs": [
    {
     "data": {
      "text/plain": [
       "79189.19227087137"
      ]
     },
     "metadata": {},
     "output_type": "display_data"
    }
   ],
   "source": [
    "Macro.sum(Macro.value.(Macro.flow(electric_dac.TEdges[:CO2_Input])))"
   ]
  },
  {
   "cell_type": "markdown",
   "metadata": {},
   "source": [
    "And to the CO2 going into the SNG unit:"
   ]
  },
  {
   "cell_type": "code",
   "execution_count": 228,
   "metadata": {},
   "outputs": [
    {
     "data": {
      "text/plain": [
       "79189.19227087137"
      ]
     },
     "metadata": {},
     "output_type": "display_data"
    }
   ],
   "source": [
    "Macro.sum(Macro.value.(Macro.flow(sng.TEdges[:CO2])))"
   ]
  },
  {
   "cell_type": "markdown",
   "metadata": {},
   "source": [
    "The correct operation of DAC and SNG unit is enforced by the balance constraint at the captured CO2 node:"
   ]
  },
  {
   "cell_type": "code",
   "execution_count": 229,
   "metadata": {},
   "outputs": [
    {
     "data": {
      "text/latex": [
       "$$ vFLOW\\_DAC\\_CO2\\_Captured_{5} - vFLOW\\_SNG\\_CO2_{5} = 0 $$"
      ],
      "text/plain": [
       "vFLOW_DAC_CO2_Captured[5] - vFLOW_SNG_CO2[5] == 0"
      ]
     },
     "metadata": {},
     "output_type": "display_data"
    }
   ],
   "source": [
    "co2_captured_node.constraints[1].constraint_ref[5]"
   ]
  },
  {
   "cell_type": "code",
   "execution_count": 230,
   "metadata": {},
   "outputs": [
    {
     "data": {
      "text/plain": [
       "Macro.AbstractTypeConstraint[]"
      ]
     },
     "metadata": {},
     "output_type": "display_data"
    }
   ],
   "source": [
    "co2_node.constraints"
   ]
  },
  {
   "cell_type": "code",
   "execution_count": 232,
   "metadata": {},
   "outputs": [
    {
     "data": {
      "text/latex": [
       "$ -vFLOW\\_DAC\\_CO2\\_Input_{5} $"
      ],
      "text/plain": [
       "-vFLOW_DAC_CO2_Input[5]"
      ]
     },
     "metadata": {},
     "output_type": "display_data"
    }
   ],
   "source": [
    "Macro.net_production(co2_node)[5]"
   ]
  }
 ],
 "metadata": {
  "kernelspec": {
   "display_name": "Julia 1.10.2",
   "language": "julia",
   "name": "julia-1.10"
  },
  "language_info": {
   "file_extension": ".jl",
   "mimetype": "application/julia",
   "name": "julia",
   "version": "1.10.2"
  }
 },
 "nbformat": 4,
 "nbformat_minor": 4
}
