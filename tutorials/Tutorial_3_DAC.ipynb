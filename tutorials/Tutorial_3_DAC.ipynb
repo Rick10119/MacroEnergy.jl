{
 "cells": [
  {
   "cell_type": "markdown",
   "metadata": {},
   "source": [
    "This tutorial shows the potential of using CO2 capture resources in Macro such as Natural Gas Power CCS, SMR H2 CCS, and direct air capture (DAC). Natural Gas Power CCS and SMR H2 CCS works by specifying a CO2 capture rate (for example 0.9) of the total CO2 emitted by natural gas used in producing power and H2 which effectively reduces the total emissions by 90%. On the other hand, DAC leads to a true removal of CO2 from the atmosphere and not just a reduction of emissions. "
   ]
  },
  {
   "cell_type": "code",
   "execution_count": 1,
   "metadata": {},
   "outputs": [
    {
     "name": "stderr",
     "output_type": "stream",
     "text": [
      "\u001b[32m\u001b[1m  Activating\u001b[22m\u001b[39m project at `c:\\Users\\pecci\\Code\\MACRO-dev\\tutorials`\n"
     ]
    }
   ],
   "source": [
    "using Pkg\n",
    "Pkg.activate(\".\")"
   ]
  },
  {
   "cell_type": "code",
   "execution_count": 2,
   "metadata": {},
   "outputs": [],
   "source": [
    "using Macro,CSV,DataFrames"
   ]
  },
  {
   "cell_type": "markdown",
   "metadata": {},
   "source": [
    "Start MACRO model generation (units: MWh for energy, $ for costs)"
   ]
  },
  {
   "cell_type": "code",
   "execution_count": 3,
   "metadata": {},
   "outputs": [],
   "source": [
    "T = 8760;\n",
    "macro_settings = (Commodities = Dict(Electricity=>Dict(:HoursPerTimeStep=>1,:HoursPerSubperiod=>T),\n",
    "                                    Hydrogen=>Dict(:HoursPerTimeStep=>1,:HoursPerSubperiod=>T),\n",
    "                                    NaturalGas=>Dict(:HoursPerTimeStep=>1,:HoursPerSubperiod=>T),\n",
    "                                    CO2=>Dict(:HoursPerTimeStep=>1,:HoursPerSubperiod=>T)),\n",
    "                PeriodLength = T);"
   ]
  },
  {
   "cell_type": "code",
   "execution_count": 4,
   "metadata": {},
   "outputs": [
    {
     "data": {
      "text/plain": [
       "(Commodities = Dict{DataType, Dict{Symbol, Int64}}(Hydrogen => Dict(:HoursPerSubperiod => 8760, :HoursPerTimeStep => 1), CO2 => Dict(:HoursPerSubperiod => 8760, :HoursPerTimeStep => 1), Electricity => Dict(:HoursPerSubperiod => 8760, :HoursPerTimeStep => 1), NaturalGas => Dict(:HoursPerSubperiod => 8760, :HoursPerTimeStep => 1)), PeriodLength = 8760)"
      ]
     },
     "metadata": {},
     "output_type": "display_data"
    }
   ],
   "source": [
    "macro_settings"
   ]
  },
  {
   "cell_type": "code",
   "execution_count": 5,
   "metadata": {},
   "outputs": [],
   "source": [
    "\n",
    "H2_MWh = 33.33 # MWh per tonne of H2\n",
    "NG_MWh = 0.29307107 # MWh per MMBTU of NG\n",
    "\n",
    "df = CSV.read(\"time_series_data.csv\",DataFrame)\n",
    "\n",
    "electricity_demand = df[1:T,:Electricity_Demand_MW]; # MWh\n",
    "solar_capacity_factor = df[1:T,:Solar_Capacity_Factor]; # factor between 0 and 1\n",
    "ng_fuel_price = df[1:T,:NG_Price]/NG_MWh; # $/MWh of natural gas\n",
    "h2_demand = H2_MWh*df[1:T,:H2_Demand_tonne] # MWh of hydrogen\n",
    "\n",
    "solar_inv_cost = 85300; # $/MW\n",
    "solar_fom_cost = 18760.0; # $/MW\n",
    "\n",
    "battery_inv_cost = 19584.0; #$/MW\n",
    "battery_fom_cost = 4895; # $/MW\n",
    "battery_vom_cost = 0.15; #$/MW\n",
    "battery_inv_cost_storage = 22494.0; #$/MWh\n",
    "battery_fom_cost_storage = 5622; #$/MWh\n",
    "battery_vom_cost_storage = 0.15; #$/MWh\n",
    "battery_eff_up = 0.92;\n",
    "battery_eff_down = 0.92;\n",
    "\n",
    "ngcc_inv_cost = 65400;# $/MW\n",
    "ngcc_fom_cost = 10287.0;# $/MW\n",
    "ngcc_vom_cost = 3.55; #$/MW\n",
    "ngcc_capsize = 250.0;\n",
    "ngcc_heatrate = 7.43*NG_MWh; # MWh of natural gas / MWh of electricity\n",
    "ngcc_fuel_CO2 = 0.05306/NG_MWh; # Tons of CO2 / MWh of natural gas\n",
    "\n",
    "ngcc_ccs_inv_cost = 66400;# $/MW\n",
    "ngcc_ccs_fom_cost = 12287.0;# $/MW\n",
    "ngcc_ccs_vom_cost = 3.65; #$/MW\n",
    "ngcc_ccs_capsize = 250.0;\n",
    "ngcc_ccs_heatrate = 7.43*NG_MWh; # MWh of natural gas / MWh of electricity\n",
    "ngcc_ccs_fuel_CO2 = 0.05306/NG_MWh; # Tons of CO2 / MWh of natural gas\n",
    "ngcc_ccs_CO2_captured_rate = 0.9; #Tons of CO2 captured/Tons of CO2 produced by fuel\n",
    "\n",
    "electric_dac_inv_cost = 9390;# $/Tonnes of CO2 captured/h\n",
    "electric_dac_fom_cost = 7470;# $/Tonnes of CO2 captured/h\n",
    "electric_dac_vom_cost = 22; #$/Tonnes of CO2 captured\n",
    "electric_dac_power_input = 4.38; #MWh/Tonnes of CO2 captured\n",
    "electric_dac_capsize = 20;# Tonnes of CO2 captured/h\n",
    "\n",
    "electrolyzer_capsize = 2*H2_MWh # MWh of H2\n",
    "electrolyzer_efficiency = 1/(45/H2_MWh) # MWh of H2 / MWh of electricity\n",
    "electrolyzer_inv_cost = 2033333/H2_MWh # $/MW of H2\n",
    "electrolyzer_fom_cost = 30500/H2_MWh # $/MW of H2\n",
    "electrolyzer_vom_cost = 0.0;\n",
    "\n",
    "smr_inv_cost = 1033333/H2_MWh;# $/MW of H2\n",
    "smr_fom_cost = 20500/H2_MWh;# $/MW of H2\n",
    "smr_vom_cost = 0.0; #$/MW of H2\n",
    "smr_capsize = 20*H2_MWh;\n",
    "smr_heatrate = 7.43*NG_MWh; # MWh of natural gas / MWh of H2\n",
    "smr_fuel_CO2 = 0.05306/NG_MWh; # Tons of CO2 / MWh of natural gas\n",
    "\n",
    "smr_ccs_inv_cost = 1133333/H2_MWh;# $/MW of H2\n",
    "smr_ccs_fom_cost = 21500/H2_MWh;# $/MW of H2\n",
    "smr_ccs_vom_cost = 0.0; #$/MW of H2\n",
    "smr_ccs_capsize = 20*H2_MWh;\n",
    "smr_ccs_heatrate = 7.43*NG_MWh; # MWh of natural gas / MWh of H2\n",
    "smr_ccs_fuel_CO2 = 0.05306/NG_MWh; # Tons of CO2 / MWh of natural gas\n",
    "smr_ccs_CO2_captured_rate = 0.9; #Tons of CO2 captured/Tons of CO2 produced by fuel\n"
   ]
  },
  {
   "cell_type": "code",
   "execution_count": 6,
   "metadata": {},
   "outputs": [
    {
     "data": {
      "text/plain": [
       "subperiods (generic function with 1 method)"
      ]
     },
     "metadata": {},
     "output_type": "display_data"
    }
   ],
   "source": [
    "### For now, we use the same temporal resolution and subperiods for every commodity, but MACRO will allow to use different temporal resolution for different commodities\n",
    "\n",
    "hours_per_timestep(c) = macro_settings.Commodities[c][:HoursPerTimeStep];\n",
    "hours_per_subperiod(c) = macro_settings.Commodities[c][:HoursPerSubperiod]\n",
    "time_interval(c)= 1:hours_per_timestep(c):macro_settings.PeriodLength\n",
    "\n",
    "subperiods(c) = collect(Iterators.partition(time_interval(c), Int(hours_per_subperiod(c) / hours_per_timestep(c))),)"
   ]
  },
  {
   "cell_type": "markdown",
   "metadata": {},
   "source": [
    "Let's start from creating an electricity node:"
   ]
  },
  {
   "cell_type": "code",
   "execution_count": 7,
   "metadata": {},
   "outputs": [
    {
     "data": {
      "text/plain": [
       "Node{Electricity}(:E_node, [7850.0, 7424.0, 7107.0, 6947.0, 6922.0, 7045.0, 7307.0, 7544.0, 7946.0, 8340.0  …  10438.0, 10469.0, 11228.0, 11908.0, 11562.0, 9923.0, 9461.0, 9018.0, 8551.0, 8089.0], 1:1:8760, StepRange{Int64, Int64}[1:1:8760], [0.0], [50000.0], Dict{Any, Any}(), Dict{Any, Any}(), Macro.AbstractTypeConstraint[Macro.DemandBalanceConstraint(missing, missing, missing), Macro.MaxNonServedDemandConstraint(missing, missing, missing)])"
      ]
     },
     "metadata": {},
     "output_type": "display_data"
    }
   ],
   "source": [
    "e_node = Node{Electricity}(;\n",
    "    id = Symbol(\"E_node\"),\n",
    "    demand =  electricity_demand,\n",
    "    time_interval = time_interval(Electricity),\n",
    "    subperiods = subperiods(Electricity),\n",
    "    max_nsd = [0.0],\n",
    "    price_nsd = [50000],\n",
    "    constraints = [Macro.DemandBalanceConstraint(),Macro.MaxNonServedDemandConstraint()]\n",
    ")"
   ]
  },
  {
   "cell_type": "markdown",
   "metadata": {},
   "source": [
    "We assign a solar PV generator to this electricity node:"
   ]
  },
  {
   "cell_type": "code",
   "execution_count": 8,
   "metadata": {},
   "outputs": [
    {
     "data": {
      "text/plain": [
       "Resource{Electricity}(Node{Electricity}(:E_node, [7850.0, 7424.0, 7107.0, 6947.0, 6922.0, 7045.0, 7307.0, 7544.0, 7946.0, 8340.0  …  10438.0, 10469.0, 11228.0, 11908.0, 11562.0, 9923.0, 9461.0, 9018.0, 8551.0, 8089.0], 1:1:8760, StepRange{Int64, Int64}[1:1:8760], [0.0], [50000.0], Dict{Any, Any}(), Dict{Any, Any}(), Macro.AbstractTypeConstraint[Macro.DemandBalanceConstraint(missing, missing, missing), Macro.MaxNonServedDemandConstraint(missing, missing, missing)]), :Solar_PV, [0.0, 0.0, 0.0, 0.0, 0.0, 0.0, 0.0, 0.0, 0.1779, 0.429  …  0.3834, 0.2594, 0.078, 0.0, 0.0, 0.0, 0.0, 0.0, 0.0, 0.0], 1.0, Float64[], 1:1:8760, StepRange{Int64, Int64}[1:1:8760], 0.0, Inf, 0.0, true, false, 85300.0, 18760.0, 0.0, Dict{Symbol, Any}(), Dict{Symbol, Any}(), Macro.AbstractTypeConstraint[CapacityConstraint(missing, missing, missing)])"
      ]
     },
     "metadata": {},
     "output_type": "display_data"
    }
   ],
   "source": [
    "solar_pv = Resource{Electricity}(;\n",
    "    id = :Solar_PV,\n",
    "    node = e_node,\n",
    "    time_interval = time_interval(Electricity),\n",
    "    subperiods = subperiods(Electricity),\n",
    "    capacity_factor = solar_capacity_factor,\n",
    "    can_expand = true, \n",
    "    can_retire = false,\n",
    "    existing_capacity = 0.0,\n",
    "    investment_cost = solar_inv_cost,\n",
    "    fixed_om_cost = solar_fom_cost,\n",
    "    constraints = [Macro.CapacityConstraint()]\n",
    ")"
   ]
  },
  {
   "cell_type": "markdown",
   "metadata": {},
   "source": [
    "We can also assigne a battery storage to the node:"
   ]
  },
  {
   "cell_type": "code",
   "execution_count": 9,
   "metadata": {},
   "outputs": [
    {
     "data": {
      "text/plain": [
       "SymmetricStorage{Electricity}(Node{Electricity}(:E_node, [7850.0, 7424.0, 7107.0, 6947.0, 6922.0, 7045.0, 7307.0, 7544.0, 7946.0, 8340.0  …  10438.0, 10469.0, 11228.0, 11908.0, 11562.0, 9923.0, 9461.0, 9018.0, 8551.0, 8089.0], 1:1:8760, StepRange{Int64, Int64}[1:1:8760], [0.0], [50000.0], Dict{Any, Any}(), Dict{Any, Any}(), Macro.AbstractTypeConstraint[Macro.DemandBalanceConstraint(missing, missing, missing), Macro.MaxNonServedDemandConstraint(missing, missing, missing)]), :battery, 1:1:8760, StepRange{Int64, Int64}[1:1:8760], [1.0, 1.0, 1.0, 1.0, 1.0, 1.0, 1.0, 1.0, 1.0, 1.0  …  1.0, 1.0, 1.0, 1.0, 1.0, 1.0, 1.0, 1.0, 1.0, 1.0], 0.0, Inf, 0.0, Inf, 0.0, 0.0, true, false, 19584.0, 22494.0, 0.0, 4895.0, 5622.0, 0.0, 0.15, 0.15, 0.0, 0.92, 0.92, 0.0, 1.0, 10.0, 0.0, Dict{Any, Any}(), Dict{Any, Any}(), Macro.AbstractTypeConstraint[CapacityConstraint(missing, missing, missing), Macro.StorageCapacityConstraint(missing, missing, missing)])"
      ]
     },
     "metadata": {},
     "output_type": "display_data"
    }
   ],
   "source": [
    "battery = SymmetricStorage{Electricity}(;\n",
    "    id = :battery,\n",
    "    node = e_node,\n",
    "    time_interval = time_interval(Electricity),\n",
    "    subperiods = subperiods(Electricity),\n",
    "    can_expand = true,\n",
    "    can_retire = false,\n",
    "    existing_capacity = 0.0,\n",
    "    investment_cost = battery_inv_cost,\n",
    "    investment_cost_storage = battery_inv_cost_storage,\n",
    "    fixed_om_cost = battery_fom_cost,\n",
    "    fixed_om_cost_storage = battery_fom_cost_storage,\n",
    "    variable_om_cost = battery_vom_cost,\n",
    "    variable_om_cost_storage = battery_vom_cost_storage,\n",
    "    efficiency_injection = battery_eff_down,\n",
    "    efficiency_withdrawal = battery_eff_up,\n",
    "    constraints = [Macro.CapacityConstraint(),Macro.StorageCapacityConstraint()]\n",
    ")"
   ]
  },
  {
   "cell_type": "markdown",
   "metadata": {},
   "source": [
    "We also consider a hydrogen demand node:"
   ]
  },
  {
   "cell_type": "code",
   "execution_count": 10,
   "metadata": {},
   "outputs": [
    {
     "data": {
      "text/plain": [
       "Node{Hydrogen}(:H2_node, [53.9946, 40.6626, 58.3275, 133.32, 274.6392, 446.95529999999997, 559.6107, 641.2692, 674.5991999999999, 714.2619  …  901.9097999999999, 864.5802, 820.2512999999999, 725.2608, 603.9396, 460.2873, 349.965, 243.9756, 150.9849, 89.3244], 1:1:8760, StepRange{Int64, Int64}[1:1:8760], [0.0], [0.0], Dict{Any, Any}(), Dict{Any, Any}(), Macro.AbstractTypeConstraint[Macro.DemandBalanceConstraint(missing, missing, missing), Macro.MaxNonServedDemandConstraint(missing, missing, missing)])"
      ]
     },
     "metadata": {},
     "output_type": "display_data"
    }
   ],
   "source": [
    "h2_node = Node{Hydrogen}(;\n",
    "    id = Symbol(\"H2_node\"),\n",
    "    demand =  h2_demand,\n",
    "    time_interval = time_interval(Hydrogen),\n",
    "    subperiods = subperiods(Hydrogen),\n",
    "    max_nsd = [0.0],\n",
    "    price_nsd = [0.0],\n",
    "    constraints = [Macro.DemandBalanceConstraint(),Macro.MaxNonServedDemandConstraint()]\n",
    ")"
   ]
  },
  {
   "cell_type": "markdown",
   "metadata": {},
   "source": [
    "We model an exogenous inflow of natural gas into the system using by introducing a natural gas source node (with zero demand):"
   ]
  },
  {
   "cell_type": "code",
   "execution_count": 11,
   "metadata": {},
   "outputs": [
    {
     "data": {
      "text/plain": [
       "Resource{NaturalGas}(Node{NaturalGas}(:NG_node, [0.0, 0.0, 0.0, 0.0, 0.0, 0.0, 0.0, 0.0, 0.0, 0.0  …  0.0, 0.0, 0.0, 0.0, 0.0, 0.0, 0.0, 0.0, 0.0, 0.0], 1:1:8760, StepRange{Int64, Int64}[1:1:8760], [0.0], [0.0], Dict{Any, Any}(), Dict{Any, Any}(), Macro.AbstractTypeConstraint[Macro.DemandBalanceConstraint(missing, missing, missing), Macro.MaxNonServedDemandConstraint(missing, missing, missing)]), :NG_Source, Float64[], 1.0, [18.01610783350264, 18.01610783350264, 18.01610783350264, 18.01610783350264, 18.01610783350264, 18.01610783350264, 18.01610783350264, 18.01610783350264, 18.01610783350264, 18.01610783350264  …  14.603966198369564, 14.603966198369564, 14.603966198369564, 14.603966198369564, 14.603966198369564, 14.603966198369564, 14.603966198369564, 14.603966198369564, 14.603966198369564, 14.603966198369564], 1:1:8760, StepRange{Int64, Int64}[1:1:8760], 0.0, Inf, Inf, false, false, 0.0, 0.0, 0.0, Dict{Symbol, Any}(), Dict{Symbol, Any}(), Macro.AbstractTypeConstraint[])"
      ]
     },
     "metadata": {},
     "output_type": "display_data"
    }
   ],
   "source": [
    "ng_node = Node{NaturalGas}(;\n",
    "    id = Symbol(\"NG_node\"),\n",
    "    time_interval = time_interval(NaturalGas),\n",
    "    subperiods = subperiods(NaturalGas),\n",
    "    demand = zeros(length(time_interval(NaturalGas))),\n",
    "    max_nsd = [0.0],\n",
    "    price_nsd = [0.0],\n",
    "    constraints = [Macro.DemandBalanceConstraint(),Macro.MaxNonServedDemandConstraint()]\n",
    ")\n",
    "\n",
    "ng_source = Resource{NaturalGas}(;\n",
    "id = :NG_Source,\n",
    "node = ng_node,\n",
    "time_interval = time_interval(NaturalGas),\n",
    "subperiods = subperiods(NaturalGas),\n",
    "can_expand = false, \n",
    "can_retire = false,\n",
    "price = ng_fuel_price,\n",
    "existing_capacity = Inf,\n",
    ")"
   ]
  },
  {
   "cell_type": "markdown",
   "metadata": {},
   "source": [
    "We also define a CO2 node with both a sink and source:"
   ]
  },
  {
   "cell_type": "code",
   "execution_count": 12,
   "metadata": {},
   "outputs": [
    {
     "data": {
      "text/plain": [
       "Resource{CO2}(Node{CO2}(:CO2_node, [0.0, 0.0, 0.0, 0.0, 0.0, 0.0, 0.0, 0.0, 0.0, 0.0  …  0.0, 0.0, 0.0, 0.0, 0.0, 0.0, 0.0, 0.0, 0.0, 0.0], 1:1:8760, StepRange{Int64, Int64}[1:1:8760], [0.0], [0.0], Dict{Any, Any}(), Dict{Any, Any}(), Macro.AbstractTypeConstraint[Macro.DemandBalanceConstraint(missing, missing, missing), Macro.MaxNonServedDemandConstraint(missing, missing, missing)]), :CO2_Source, Float64[], 1.0, [0.0, 0.0, 0.0, 0.0, 0.0, 0.0, 0.0, 0.0, 0.0, 0.0  …  0.0, 0.0, 0.0, 0.0, 0.0, 0.0, 0.0, 0.0, 0.0, 0.0], 1:1:8760, StepRange{Int64, Int64}[1:1:8760], 0.0, Inf, Inf, false, false, 0.0, 0.0, 0.0, Dict{Symbol, Any}(), Dict{Symbol, Any}(), Macro.AbstractTypeConstraint[])"
      ]
     },
     "metadata": {},
     "output_type": "display_data"
    }
   ],
   "source": [
    "co2_node = Node{CO2}(;\n",
    "id = Symbol(\"CO2_node\"),\n",
    "time_interval = time_interval(CO2),\n",
    "subperiods = subperiods(CO2),\n",
    "demand = zeros(length(time_interval(CO2))),\n",
    "max_nsd = [0.0],\n",
    "price_nsd = [0.0],\n",
    "constraints = [Macro.DemandBalanceConstraint(),Macro.MaxNonServedDemandConstraint()]\n",
    ")\n",
    "\n",
    "co2_sink = Sink{CO2}(;\n",
    "node = co2_node,\n",
    "id = Symbol(\"CO2_sink\"),\n",
    "time_interval = time_interval(CO2),\n",
    "subperiods = subperiods(CO2),\n",
    ")\n",
    "\n",
    "co2_source = Resource{CO2}(;\n",
    "id = :CO2_Source,\n",
    "node = co2_node,\n",
    "time_interval = time_interval(CO2),\n",
    "subperiods = subperiods(CO2),\n",
    "can_expand = false, \n",
    "can_retire = false,\n",
    "price = zeros(length(time_interval(CO2))),\n",
    "existing_capacity = Inf,\n",
    ")"
   ]
  },
  {
   "cell_type": "markdown",
   "metadata": {},
   "source": [
    "We define a captured CO2 node and sink to account for the inventory of captured CO2 (input from CO2 capture, output to SNG or potential storage):"
   ]
  },
  {
   "cell_type": "code",
   "execution_count": 13,
   "metadata": {},
   "outputs": [
    {
     "data": {
      "text/plain": [
       "Sink{CO2}(Node{CO2}(:CO2_captured_node, [0.0, 0.0, 0.0, 0.0, 0.0, 0.0, 0.0, 0.0, 0.0, 0.0  …  0.0, 0.0, 0.0, 0.0, 0.0, 0.0, 0.0, 0.0, 0.0, 0.0], 1:1:8760, StepRange{Int64, Int64}[1:1:8760], [0.0], [0.0], Dict{Any, Any}(), Dict{Any, Any}(), Macro.AbstractTypeConstraint[Macro.DemandBalanceConstraint(missing, missing, missing), Macro.MaxNonServedDemandConstraint(missing, missing, missing)]), :CO2_captured_sink, Float64[], 1:1:8760, StepRange{Int64, Int64}[1:1:8760], Dict{Symbol, Any}(), Macro.AbstractTypeConstraint[])"
      ]
     },
     "metadata": {},
     "output_type": "display_data"
    }
   ],
   "source": [
    "co2_captured_node = Node{CO2}(;\n",
    "id = Symbol(\"CO2_captured_node\"),\n",
    "time_interval = time_interval(CO2),\n",
    "subperiods = subperiods(CO2),\n",
    "demand = zeros(length(time_interval(CO2))),\n",
    "max_nsd = [0.0],\n",
    "price_nsd = [0.0],\n",
    "constraints = [Macro.DemandBalanceConstraint(),Macro.MaxNonServedDemandConstraint()]\n",
    ")\n",
    "\n",
    "co2_captured_sink = Sink{CO2}(;\n",
    "node = co2_captured_node,\n",
    "id = Symbol(\"CO2_captured_sink\"),\n",
    "time_interval = time_interval(CO2),\n",
    "subperiods = subperiods(CO2),\n",
    ")"
   ]
  },
  {
   "cell_type": "markdown",
   "metadata": {},
   "source": [
    "We are now ready to define a natural gas plant! Note that we require two stoichiometry balances:\n",
    "\n",
    "Heat_Rate $\\times$ Electricity = NaturalGas\n",
    "\n",
    "Fuel_CO2 $\\times$ NaturalGas = CO2\n",
    "\n",
    "This transformation has 3 edges: each edge carries a specific commodity flow"
   ]
  },
  {
   "cell_type": "code",
   "execution_count": 14,
   "metadata": {},
   "outputs": [
    {
     "data": {
      "text/plain": [
       "TEdge{CO2}(:CO2, Node{CO2}(:CO2_node, [0.0, 0.0, 0.0, 0.0, 0.0, 0.0, 0.0, 0.0, 0.0, 0.0  …  0.0, 0.0, 0.0, 0.0, 0.0, 0.0, 0.0, 0.0, 0.0, 0.0], 1:1:8760, StepRange{Int64, Int64}[1:1:8760], [0.0], [0.0], Dict{Any, Any}(), Dict{Any, Any}(), Macro.AbstractTypeConstraint[Macro.DemandBalanceConstraint(missing, missing, missing), Macro.MaxNonServedDemandConstraint(missing, missing, missing)]), Transformation{NaturalGasPower}(:NGCC, 1:1:8760, [:energy, :emissions], Dict{Symbol, TEdge}(:NG => TEdge{NaturalGas}(:NG, Node{NaturalGas}(:NG_node, [0.0, 0.0, 0.0, 0.0, 0.0, 0.0, 0.0, 0.0, 0.0, 0.0  …  0.0, 0.0, 0.0, 0.0, 0.0, 0.0, 0.0, 0.0, 0.0, 0.0], 1:1:8760, StepRange{Int64, Int64}[1:1:8760], [0.0], [0.0], Dict{Any, Any}(), Dict{Any, Any}(), Macro.AbstractTypeConstraint[Macro.DemandBalanceConstraint(missing, missing, missing), Macro.MaxNonServedDemandConstraint(missing, missing, missing)]), Transformation{NaturalGasPower}(#= circular reference @-3 =#), :input, false, false, false, 1.0, 1:1:8760, StepRange{Int64, Int64}[1:1:8760], Dict(:emissions => 0.181048235160161, :energy => 1.0), 0.0, Inf, 0.0, 0.0, 0.0, 0.0, 0.0, false, 0.0, 0.0, 0, 0, 0.0, Dict{Any, Any}(), Dict{Any, Any}(), Macro.AbstractTypeConstraint[]), :CO2 => TEdge{CO2}(#= circular reference @-3 =#), :E => TEdge{Electricity}(:E, Node{Electricity}(:E_node, [7850.0, 7424.0, 7107.0, 6947.0, 6922.0, 7045.0, 7307.0, 7544.0, 7946.0, 8340.0  …  10438.0, 10469.0, 11228.0, 11908.0, 11562.0, 9923.0, 9461.0, 9018.0, 8551.0, 8089.0], 1:1:8760, StepRange{Int64, Int64}[1:1:8760], [0.0], [50000.0], Dict{Any, Any}(), Dict{Any, Any}(), Macro.AbstractTypeConstraint[Macro.DemandBalanceConstraint(missing, missing, missing), Macro.MaxNonServedDemandConstraint(missing, missing, missing)]), Transformation{NaturalGasPower}(#= circular reference @-3 =#), :output, true, false, true, 250.0, 1:1:8760, StepRange{Int64, Int64}[1:1:8760], Dict(:emissions => 0.0, :energy => 2.1775180500999998), 0.0, Inf, 0.0, 65400.0, 10287.0, 3.55, 0.0, false, 0.0, 0.0, 0, 0, 0.0, Dict{Any, Any}(), Dict{Any, Any}(), Macro.AbstractTypeConstraint[CapacityConstraint(missing, missing, missing)])), Dict{Any, Any}(), Macro.AbstractTypeConstraint[Macro.StoichiometryBalanceConstraint(missing, missing, missing)]), :output, false, false, false, 1.0, 1:1:8760, StepRange{Int64, Int64}[1:1:8760], Dict(:emissions => 1.0, :energy => 0.0), 0.0, Inf, 0.0, 0.0, 0.0, 0.0, 0.0, false, 0.0, 0.0, 0, 0, 0.0, Dict{Any, Any}(), Dict{Any, Any}(), Macro.AbstractTypeConstraint[])"
      ]
     },
     "metadata": {},
     "output_type": "display_data"
    }
   ],
   "source": [
    "ngcc = Transformation{NaturalGasPower}(;\n",
    "id = :NGCC,\n",
    "time_interval = time_interval(Electricity),\n",
    "stoichiometry_balance_names = [:energy,:emissions],\n",
    "constraints = [Macro.StoichiometryBalanceConstraint()]\n",
    ")\n",
    "\n",
    "ngcc.TEdges[:E] = TEdge{Electricity}(;\n",
    "id = :E,\n",
    "node = e_node,\n",
    "transformation = ngcc,\n",
    "direction = :output,\n",
    "has_planning_variables = true,\n",
    "can_expand = true,\n",
    "can_retire = false,\n",
    "capacity_size = ngcc_capsize,\n",
    "time_interval = time_interval(Electricity),\n",
    "subperiods = subperiods(Electricity),\n",
    "st_coeff = Dict(:energy=>ngcc_heatrate,:emissions=>0.0),\n",
    "existing_capacity = 0.0,\n",
    "investment_cost = ngcc_inv_cost,\n",
    "fixed_om_cost = ngcc_fom_cost,\n",
    "variable_om_cost = ngcc_vom_cost,\n",
    "constraints = [CapacityConstraint()]\n",
    ")\n",
    "\n",
    "ngcc.TEdges[:NG] = TEdge{NaturalGas}(;\n",
    "id =  :NG,\n",
    "node = ng_node,\n",
    "transformation = ngcc,\n",
    "direction = :input,\n",
    "has_planning_variables = false,\n",
    "time_interval = time_interval(NaturalGas),\n",
    "subperiods = subperiods(NaturalGas),\n",
    "st_coeff = Dict(:energy=>1.0,:emissions=>ngcc_fuel_CO2)\n",
    ")\n",
    "\n",
    "ngcc.TEdges[:CO2] = TEdge{CO2}(;\n",
    "    id = :CO2,\n",
    "    node = co2_node,\n",
    "    transformation = ngcc,\n",
    "    direction = :output,\n",
    "    has_planning_variables = false,\n",
    "    time_interval = time_interval(CO2),\n",
    "    subperiods = subperiods(CO2),\n",
    "    st_coeff = Dict(:energy=>0.0,:emissions=>1.0)\n",
    ")"
   ]
  },
  {
   "cell_type": "markdown",
   "metadata": {},
   "source": [
    "We are now ready to define a natural gas plant with CCS! Note that we require three stoichiometry balances:\n",
    "\n",
    "Heat_Rate $\\times$ Electricity = NaturalGas\n",
    "\n",
    "Fuel_CO2 $\\times$ NaturalGas $\\times$ (1-CCS rate) = CO2\n",
    "\n",
    "Fuel_CO2 $\\times$ NaturalGas $\\times$ CCS rate = CO2_Captured\n",
    "\n",
    "This transformation has 4 edges: each edge carries a specific commodity flow"
   ]
  },
  {
   "cell_type": "code",
   "execution_count": 15,
   "metadata": {},
   "outputs": [
    {
     "data": {
      "text/plain": [
       "TEdge{CO2}(:CO2_Captured, Node{CO2}(:CO2_captured_node, [0.0, 0.0, 0.0, 0.0, 0.0, 0.0, 0.0, 0.0, 0.0, 0.0  …  0.0, 0.0, 0.0, 0.0, 0.0, 0.0, 0.0, 0.0, 0.0, 0.0], 1:1:8760, StepRange{Int64, Int64}[1:1:8760], [0.0], [0.0], Dict{Any, Any}(), Dict{Any, Any}(), Macro.AbstractTypeConstraint[Macro.DemandBalanceConstraint(missing, missing, missing), Macro.MaxNonServedDemandConstraint(missing, missing, missing)]), Transformation{NaturalGasPowerCCS}(:NGCC_CCS, 1:1:8760, [:energy, :emissions, :captured_emissions], Dict{Symbol, TEdge}(:CO2_Captured => TEdge{CO2}(#= circular reference @-3 =#), :NG => TEdge{NaturalGas}(:NG, Node{NaturalGas}(:NG_node, [0.0, 0.0, 0.0, 0.0, 0.0, 0.0, 0.0, 0.0, 0.0, 0.0  …  0.0, 0.0, 0.0, 0.0, 0.0, 0.0, 0.0, 0.0, 0.0, 0.0], 1:1:8760, StepRange{Int64, Int64}[1:1:8760], [0.0], [0.0], Dict{Any, Any}(), Dict{Any, Any}(), Macro.AbstractTypeConstraint[Macro.DemandBalanceConstraint(missing, missing, missing), Macro.MaxNonServedDemandConstraint(missing, missing, missing)]), Transformation{NaturalGasPowerCCS}(#= circular reference @-3 =#), :input, false, false, false, 1.0, 1:1:8760, StepRange{Int64, Int64}[1:1:8760], Dict(:emissions => 0.018104823516016097, :energy => 1.0, :captured_emissions => 0.16294341164414491), 0.0, Inf, 0.0, 0.0, 0.0, 0.0, 0.0, false, 0.0, 0.0, 0, 0, 0.0, Dict{Any, Any}(), Dict{Any, Any}(), Macro.AbstractTypeConstraint[]), :CO2 => TEdge{CO2}(:CO2, Node{CO2}(:CO2_node, [0.0, 0.0, 0.0, 0.0, 0.0, 0.0, 0.0, 0.0, 0.0, 0.0  …  0.0, 0.0, 0.0, 0.0, 0.0, 0.0, 0.0, 0.0, 0.0, 0.0], 1:1:8760, StepRange{Int64, Int64}[1:1:8760], [0.0], [0.0], Dict{Any, Any}(), Dict{Any, Any}(), Macro.AbstractTypeConstraint[Macro.DemandBalanceConstraint(missing, missing, missing), Macro.MaxNonServedDemandConstraint(missing, missing, missing)]), Transformation{NaturalGasPowerCCS}(#= circular reference @-3 =#), :output, false, false, false, 1.0, 1:1:8760, StepRange{Int64, Int64}[1:1:8760], Dict(:emissions => 1.0, :energy => 0.0, :captured_emissions => 0.0), 0.0, Inf, 0.0, 0.0, 0.0, 0.0, 0.0, false, 0.0, 0.0, 0, 0, 0.0, Dict{Any, Any}(), Dict{Any, Any}(), Macro.AbstractTypeConstraint[]), :E => TEdge{Electricity}(:E, Node{Electricity}(:E_node, [7850.0, 7424.0, 7107.0, 6947.0, 6922.0, 7045.0, 7307.0, 7544.0, 7946.0, 8340.0  …  10438.0, 10469.0, 11228.0, 11908.0, 11562.0, 9923.0, 9461.0, 9018.0, 8551.0, 8089.0], 1:1:8760, StepRange{Int64, Int64}[1:1:8760], [0.0], [50000.0], Dict{Any, Any}(), Dict{Any, Any}(), Macro.AbstractTypeConstraint[Macro.DemandBalanceConstraint(missing, missing, missing), Macro.MaxNonServedDemandConstraint(missing, missing, missing)]), Transformation{NaturalGasPowerCCS}(#= circular reference @-3 =#), :output, true, false, true, 250.0, 1:1:8760, StepRange{Int64, Int64}[1:1:8760], Dict(:emissions => 0.0, :energy => 2.1775180500999998, :captured_emissions => 0.0), 0.0, Inf, 0.0, 66400.0, 12287.0, 3.65, 0.0, false, 0.0, 0.0, 0, 0, 0.0, Dict{Any, Any}(), Dict{Any, Any}(), Macro.AbstractTypeConstraint[CapacityConstraint(missing, missing, missing)])), Dict{Any, Any}(), Macro.AbstractTypeConstraint[Macro.StoichiometryBalanceConstraint(missing, missing, missing)]), :output, false, false, false, 1.0, 1:1:8760, StepRange{Int64, Int64}[1:1:8760], Dict(:emissions => 0.0, :energy => 0.0, :captured_emissions => 1.0), 0.0, Inf, 0.0, 0.0, 0.0, 0.0, 0.0, false, 0.0, 0.0, 0, 0, 0.0, Dict{Any, Any}(), Dict{Any, Any}(), Macro.AbstractTypeConstraint[])"
      ]
     },
     "metadata": {},
     "output_type": "display_data"
    }
   ],
   "source": [
    "ngcc_ccs = Transformation{NaturalGasPowerCCS}(;\n",
    "id = :NGCC_CCS,\n",
    "time_interval = time_interval(Electricity),\n",
    "stoichiometry_balance_names = [:energy,:emissions,:captured_emissions],\n",
    "constraints = [Macro.StoichiometryBalanceConstraint()]\n",
    ")\n",
    "\n",
    "ngcc_ccs.TEdges[:E] = TEdge{Electricity}(;\n",
    "id = :E,\n",
    "node = e_node,\n",
    "transformation = ngcc_ccs,\n",
    "direction = :output,\n",
    "has_planning_variables = true,\n",
    "can_expand = true,\n",
    "can_retire = false,\n",
    "capacity_size = ngcc_ccs_capsize,\n",
    "time_interval = time_interval(Electricity),\n",
    "subperiods = subperiods(Electricity),\n",
    "st_coeff = Dict(:energy=>ngcc_ccs_heatrate,:emissions=>0.0,:captured_emissions=>0.0),\n",
    "existing_capacity = 0.0,\n",
    "investment_cost = ngcc_ccs_inv_cost,\n",
    "fixed_om_cost = ngcc_ccs_fom_cost,\n",
    "variable_om_cost = ngcc_ccs_vom_cost,\n",
    "constraints = [CapacityConstraint()]\n",
    ")\n",
    "\n",
    "ngcc_ccs.TEdges[:NG] = TEdge{NaturalGas}(;\n",
    "id =  :NG,\n",
    "node = ng_node,\n",
    "transformation = ngcc_ccs,\n",
    "direction = :input,\n",
    "has_planning_variables = false,\n",
    "time_interval = time_interval(NaturalGas),\n",
    "subperiods = subperiods(NaturalGas),\n",
    "st_coeff = Dict(:energy=>1.0,:emissions=>ngcc_ccs_fuel_CO2*(1-ngcc_ccs_CO2_captured_rate),:captured_emissions=>ngcc_ccs_fuel_CO2*ngcc_ccs_CO2_captured_rate)\n",
    ")\n",
    "\n",
    "ngcc_ccs.TEdges[:CO2] = TEdge{CO2}(;\n",
    "    id = :CO2,\n",
    "    node = co2_node,\n",
    "    transformation = ngcc_ccs,\n",
    "    direction = :output,\n",
    "    has_planning_variables = false,\n",
    "    time_interval = time_interval(CO2),\n",
    "    subperiods = subperiods(CO2),\n",
    "    st_coeff = Dict(:energy=>0.0,:emissions=>1.0,:captured_emissions=>0.0)\n",
    ")\n",
    "\n",
    "ngcc_ccs.TEdges[:CO2_Captured]=TEdge{CO2}(;\n",
    "    id = :CO2_Captured,\n",
    "    node = co2_captured_node,\n",
    "    transformation = ngcc_ccs,\n",
    "    direction = :output,\n",
    "    has_planning_variables = false,\n",
    "    time_interval = time_interval(CO2),\n",
    "    subperiods = subperiods(CO2),\n",
    "    st_coeff = Dict(:energy=>0.0,:emissions=>0.0,:captured_emissions=>1.0)\n",
    ")"
   ]
  },
  {
   "cell_type": "markdown",
   "metadata": {},
   "source": [
    "We can also create an electrolyzer, which is defined by a single stoichiometry balance: electrolyzer_efficiency $\\times$ Electricity = H2"
   ]
  },
  {
   "cell_type": "code",
   "execution_count": 16,
   "metadata": {},
   "outputs": [
    {
     "data": {
      "text/plain": [
       "TEdge{Electricity}(:E, Node{Electricity}(:E_node, [7850.0, 7424.0, 7107.0, 6947.0, 6922.0, 7045.0, 7307.0, 7544.0, 7946.0, 8340.0  …  10438.0, 10469.0, 11228.0, 11908.0, 11562.0, 9923.0, 9461.0, 9018.0, 8551.0, 8089.0], 1:1:8760, StepRange{Int64, Int64}[1:1:8760], [0.0], [50000.0], Dict{Any, Any}(), Dict{Any, Any}(), Macro.AbstractTypeConstraint[Macro.DemandBalanceConstraint(missing, missing, missing), Macro.MaxNonServedDemandConstraint(missing, missing, missing)]), Transformation{Electrolyzer}(:Electrolyzer, 1:1:8760, [:energy], Dict{Symbol, TEdge}(:H2 => TEdge{Hydrogen}(:H2, Node{Hydrogen}(:H2_node, [53.9946, 40.6626, 58.3275, 133.32, 274.6392, 446.95529999999997, 559.6107, 641.2692, 674.5991999999999, 714.2619  …  901.9097999999999, 864.5802, 820.2512999999999, 725.2608, 603.9396, 460.2873, 349.965, 243.9756, 150.9849, 89.3244], 1:1:8760, StepRange{Int64, Int64}[1:1:8760], [0.0], [0.0], Dict{Any, Any}(), Dict{Any, Any}(), Macro.AbstractTypeConstraint[Macro.DemandBalanceConstraint(missing, missing, missing), Macro.MaxNonServedDemandConstraint(missing, missing, missing)]), Transformation{Electrolyzer}(#= circular reference @-3 =#), :output, true, false, true, 66.66, 1:1:8760, StepRange{Int64, Int64}[1:1:8760], Dict(:energy => 1.0), 0.0, Inf, 0.0, 61006.090609060906, 915.0915091509152, 0.0, 0.0, false, 0.0, 0.0, 0, 0, 0.0, Dict{Any, Any}(), Dict{Any, Any}(), Macro.AbstractTypeConstraint[CapacityConstraint(missing, missing, missing)]), :E => TEdge{Electricity}(#= circular reference @-3 =#)), Dict{Any, Any}(), Macro.AbstractTypeConstraint[Macro.StoichiometryBalanceConstraint(missing, missing, missing)]), :input, false, false, false, 1.0, 1:1:8760, StepRange{Int64, Int64}[1:1:8760], Dict(:energy => 0.7406666666666667), 0.0, Inf, 0.0, 0.0, 0.0, 0.0, 0.0, false, 0.0, 0.0, 0, 0, 0.0, Dict{Any, Any}(), Dict{Any, Any}(), Macro.AbstractTypeConstraint[])"
      ]
     },
     "metadata": {},
     "output_type": "display_data"
    }
   ],
   "source": [
    "electrolyzer = Transformation{Electrolyzer}(;\n",
    "                id = :Electrolyzer,\n",
    "                time_interval = time_interval(Electricity),\n",
    "                stoichiometry_balance_names = [:energy],\n",
    "                constraints = [Macro.StoichiometryBalanceConstraint()]\n",
    "                )\n",
    "\n",
    "electrolyzer.TEdges[:H2] = TEdge{Hydrogen}(;\n",
    "    id = :H2,\n",
    "    node = h2_node,\n",
    "    transformation = electrolyzer,\n",
    "    direction = :output,\n",
    "    has_planning_variables = true,\n",
    "    can_expand = true,\n",
    "    can_retire = false,\n",
    "    capacity_size = electrolyzer_capsize,\n",
    "    time_interval = time_interval(Hydrogen),\n",
    "    subperiods = subperiods(Hydrogen),\n",
    "    st_coeff = Dict(:energy=>1.0),\n",
    "    existing_capacity = 0.0,\n",
    "    investment_cost = electrolyzer_inv_cost,\n",
    "    fixed_om_cost = electrolyzer_fom_cost,\n",
    "    variable_om_cost = electrolyzer_vom_cost,\n",
    "    constraints = [CapacityConstraint()]\n",
    ")\n",
    "\n",
    "electrolyzer.TEdges[:E] = TEdge{Electricity}(;\n",
    "    id = :E,\n",
    "    node = e_node,\n",
    "    transformation = electrolyzer,\n",
    "    direction = :input,\n",
    "    has_planning_variables = false,\n",
    "    time_interval = time_interval(Electricity),\n",
    "    subperiods = subperiods(Electricity),\n",
    "    st_coeff = Dict(:energy=>electrolyzer_efficiency)\n",
    ")"
   ]
  },
  {
   "cell_type": "markdown",
   "metadata": {},
   "source": [
    "We are now ready to define a natural gas hydrogen plant or SMR similar to a natural gas power plant"
   ]
  },
  {
   "cell_type": "code",
   "execution_count": 17,
   "metadata": {},
   "outputs": [
    {
     "data": {
      "text/plain": [
       "TEdge{CO2}(:CO2, Node{CO2}(:CO2_node, [0.0, 0.0, 0.0, 0.0, 0.0, 0.0, 0.0, 0.0, 0.0, 0.0  …  0.0, 0.0, 0.0, 0.0, 0.0, 0.0, 0.0, 0.0, 0.0, 0.0], 1:1:8760, StepRange{Int64, Int64}[1:1:8760], [0.0], [0.0], Dict{Any, Any}(), Dict{Any, Any}(), Macro.AbstractTypeConstraint[Macro.DemandBalanceConstraint(missing, missing, missing), Macro.MaxNonServedDemandConstraint(missing, missing, missing)]), Transformation{NaturalGasHydrogen}(:SMR, 1:1:8760, [:energy, :emissions], Dict{Symbol, TEdge}(:NG => TEdge{NaturalGas}(:NG, Node{NaturalGas}(:NG_node, [0.0, 0.0, 0.0, 0.0, 0.0, 0.0, 0.0, 0.0, 0.0, 0.0  …  0.0, 0.0, 0.0, 0.0, 0.0, 0.0, 0.0, 0.0, 0.0, 0.0], 1:1:8760, StepRange{Int64, Int64}[1:1:8760], [0.0], [0.0], Dict{Any, Any}(), Dict{Any, Any}(), Macro.AbstractTypeConstraint[Macro.DemandBalanceConstraint(missing, missing, missing), Macro.MaxNonServedDemandConstraint(missing, missing, missing)]), Transformation{NaturalGasHydrogen}(#= circular reference @-3 =#), :input, false, false, false, 1.0, 1:1:8760, StepRange{Int64, Int64}[1:1:8760], Dict(:emissions => 0.181048235160161, :energy => 1.0), 0.0, Inf, 0.0, 0.0, 0.0, 0.0, 0.0, false, 0.0, 0.0, 0, 0, 0.0, Dict{Any, Any}(), Dict{Any, Any}(), Macro.AbstractTypeConstraint[]), :H2 => TEdge{Hydrogen}(:H2, Node{Hydrogen}(:H2_node, [53.9946, 40.6626, 58.3275, 133.32, 274.6392, 446.95529999999997, 559.6107, 641.2692, 674.5991999999999, 714.2619  …  901.9097999999999, 864.5802, 820.2512999999999, 725.2608, 603.9396, 460.2873, 349.965, 243.9756, 150.9849, 89.3244], 1:1:8760, StepRange{Int64, Int64}[1:1:8760], [0.0], [0.0], Dict{Any, Any}(), Dict{Any, Any}(), Macro.AbstractTypeConstraint[Macro.DemandBalanceConstraint(missing, missing, missing), Macro.MaxNonServedDemandConstraint(missing, missing, missing)]), Transformation{NaturalGasHydrogen}(#= circular reference @-3 =#), :output, true, false, true, 666.5999999999999, 1:1:8760, StepRange{Int64, Int64}[1:1:8760], Dict(:emissions => 0.0, :energy => 2.1775180500999998), 0.0, Inf, 0.0, 31003.090309030904, 615.0615061506151, 0.0, 0.0, false, 0.0, 0.0, 0, 0, 0.0, Dict{Any, Any}(), Dict{Any, Any}(), Macro.AbstractTypeConstraint[CapacityConstraint(missing, missing, missing)]), :CO2 => TEdge{CO2}(#= circular reference @-3 =#)), Dict{Any, Any}(), Macro.AbstractTypeConstraint[Macro.StoichiometryBalanceConstraint(missing, missing, missing)]), :output, false, false, false, 1.0, 1:1:8760, StepRange{Int64, Int64}[1:1:8760], Dict(:emissions => 1.0, :energy => 0.0), 0.0, Inf, 0.0, 0.0, 0.0, 0.0, 0.0, false, 0.0, 0.0, 0, 0, 0.0, Dict{Any, Any}(), Dict{Any, Any}(), Macro.AbstractTypeConstraint[])"
      ]
     },
     "metadata": {},
     "output_type": "display_data"
    }
   ],
   "source": [
    "smr = Transformation{NaturalGasHydrogen}(;\n",
    "                id = :SMR,\n",
    "                time_interval = time_interval(Hydrogen),\n",
    "                stoichiometry_balance_names = [:energy,:emissions],\n",
    "                constraints = [Macro.StoichiometryBalanceConstraint()]\n",
    "                )\n",
    "\n",
    "smr.TEdges[:H2] = TEdge{Hydrogen}(;\n",
    "    id = :H2,\n",
    "    node = h2_node,\n",
    "    transformation = smr,\n",
    "    direction = :output,\n",
    "    has_planning_variables = true,\n",
    "    can_expand = true,\n",
    "    can_retire = false,\n",
    "    capacity_size = smr_capsize,\n",
    "    time_interval = time_interval(Hydrogen),\n",
    "    subperiods = subperiods(Hydrogen),\n",
    "    st_coeff = Dict(:energy=>smr_heatrate,:emissions=>0.0),\n",
    "    existing_capacity = 0.0,\n",
    "    investment_cost = smr_inv_cost,\n",
    "    fixed_om_cost = smr_fom_cost,\n",
    "    variable_om_cost = smr_vom_cost,\n",
    "    constraints = [CapacityConstraint()]\n",
    ")\n",
    "\n",
    "smr.TEdges[:NG] = TEdge{NaturalGas}(;\n",
    "id =  :NG,\n",
    "node = ng_node,\n",
    "transformation = smr,\n",
    "direction = :input,\n",
    "has_planning_variables = false,\n",
    "time_interval = time_interval(NaturalGas),\n",
    "subperiods = subperiods(NaturalGas),\n",
    "st_coeff = Dict(:energy=>1.0,:emissions=>smr_fuel_CO2)\n",
    ")\n",
    "\n",
    "smr.TEdges[:CO2] = TEdge{CO2}(;\n",
    "    id = :CO2,\n",
    "    node = co2_node,\n",
    "    transformation = smr,\n",
    "    direction = :output,\n",
    "    has_planning_variables = false,\n",
    "    time_interval = time_interval(CO2),\n",
    "    subperiods = subperiods(CO2),\n",
    "    st_coeff = Dict(:energy=>0.0,:emissions=>1.0)\n",
    ")"
   ]
  },
  {
   "cell_type": "markdown",
   "metadata": {},
   "source": [
    "Now, let's add a SMR hydrogen plant with CCS, similar to a natural gas power plant with CCS"
   ]
  },
  {
   "cell_type": "code",
   "execution_count": 18,
   "metadata": {},
   "outputs": [
    {
     "data": {
      "text/plain": [
       "TEdge{CO2}(:CO2_Captured, Node{CO2}(:CO2_captured_node, [0.0, 0.0, 0.0, 0.0, 0.0, 0.0, 0.0, 0.0, 0.0, 0.0  …  0.0, 0.0, 0.0, 0.0, 0.0, 0.0, 0.0, 0.0, 0.0, 0.0], 1:1:8760, StepRange{Int64, Int64}[1:1:8760], [0.0], [0.0], Dict{Any, Any}(), Dict{Any, Any}(), Macro.AbstractTypeConstraint[Macro.DemandBalanceConstraint(missing, missing, missing), Macro.MaxNonServedDemandConstraint(missing, missing, missing)]), Transformation{NaturalGasHydrogenCCS}(:SMR_CCS, 1:1:8760, [:energy, :emissions, :captured_emissions], Dict{Symbol, TEdge}(:CO2_Captured => TEdge{CO2}(#= circular reference @-3 =#), :NG => TEdge{NaturalGas}(:NG, Node{NaturalGas}(:NG_node, [0.0, 0.0, 0.0, 0.0, 0.0, 0.0, 0.0, 0.0, 0.0, 0.0  …  0.0, 0.0, 0.0, 0.0, 0.0, 0.0, 0.0, 0.0, 0.0, 0.0], 1:1:8760, StepRange{Int64, Int64}[1:1:8760], [0.0], [0.0], Dict{Any, Any}(), Dict{Any, Any}(), Macro.AbstractTypeConstraint[Macro.DemandBalanceConstraint(missing, missing, missing), Macro.MaxNonServedDemandConstraint(missing, missing, missing)]), Transformation{NaturalGasHydrogenCCS}(#= circular reference @-3 =#), :input, false, false, false, 1.0, 1:1:8760, StepRange{Int64, Int64}[1:1:8760], Dict(:emissions => 0.018104823516016097, :energy => 1.0, :captured_emissions => 0.16294341164414491), 0.0, Inf, 0.0, 0.0, 0.0, 0.0, 0.0, false, 0.0, 0.0, 0, 0, 0.0, Dict{Any, Any}(), Dict{Any, Any}(), Macro.AbstractTypeConstraint[]), :H2 => TEdge{Hydrogen}(:H2, Node{Hydrogen}(:H2_node, [53.9946, 40.6626, 58.3275, 133.32, 274.6392, 446.95529999999997, 559.6107, 641.2692, 674.5991999999999, 714.2619  …  901.9097999999999, 864.5802, 820.2512999999999, 725.2608, 603.9396, 460.2873, 349.965, 243.9756, 150.9849, 89.3244], 1:1:8760, StepRange{Int64, Int64}[1:1:8760], [0.0], [0.0], Dict{Any, Any}(), Dict{Any, Any}(), Macro.AbstractTypeConstraint[Macro.DemandBalanceConstraint(missing, missing, missing), Macro.MaxNonServedDemandConstraint(missing, missing, missing)]), Transformation{NaturalGasHydrogenCCS}(#= circular reference @-3 =#), :output, true, false, true, 666.5999999999999, 1:1:8760, StepRange{Int64, Int64}[1:1:8760], Dict(:emissions => 0.0, :energy => 2.1775180500999998, :captured_emissions => 0.0), 0.0, Inf, 0.0, 34003.390339033904, 645.0645064506451, 0.0, 0.0, false, 0.0, 0.0, 0, 0, 0.0, Dict{Any, Any}(), Dict{Any, Any}(), Macro.AbstractTypeConstraint[CapacityConstraint(missing, missing, missing)]), :CO2 => TEdge{CO2}(:CO2, Node{CO2}(:CO2_node, [0.0, 0.0, 0.0, 0.0, 0.0, 0.0, 0.0, 0.0, 0.0, 0.0  …  0.0, 0.0, 0.0, 0.0, 0.0, 0.0, 0.0, 0.0, 0.0, 0.0], 1:1:8760, StepRange{Int64, Int64}[1:1:8760], [0.0], [0.0], Dict{Any, Any}(), Dict{Any, Any}(), Macro.AbstractTypeConstraint[Macro.DemandBalanceConstraint(missing, missing, missing), Macro.MaxNonServedDemandConstraint(missing, missing, missing)]), Transformation{NaturalGasHydrogenCCS}(#= circular reference @-3 =#), :output, false, false, false, 1.0, 1:1:8760, StepRange{Int64, Int64}[1:1:8760], Dict(:emissions => 1.0, :energy => 0.0, :captured_emissions => 0.0), 0.0, Inf, 0.0, 0.0, 0.0, 0.0, 0.0, false, 0.0, 0.0, 0, 0, 0.0, Dict{Any, Any}(), Dict{Any, Any}(), Macro.AbstractTypeConstraint[])), Dict{Any, Any}(), Macro.AbstractTypeConstraint[Macro.StoichiometryBalanceConstraint(missing, missing, missing)]), :output, false, false, false, 1.0, 1:1:8760, StepRange{Int64, Int64}[1:1:8760], Dict(:emissions => 0.0, :energy => 0.0, :captured_emissions => 1.0), 0.0, Inf, 0.0, 0.0, 0.0, 0.0, 0.0, false, 0.0, 0.0, 0, 0, 0.0, Dict{Any, Any}(), Dict{Any, Any}(), Macro.AbstractTypeConstraint[])"
      ]
     },
     "metadata": {},
     "output_type": "display_data"
    }
   ],
   "source": [
    "smr_ccs = Transformation{NaturalGasHydrogenCCS}(;\n",
    "                id = :SMR_CCS,\n",
    "                time_interval = time_interval(Hydrogen),\n",
    "                stoichiometry_balance_names = [:energy,:emissions,:captured_emissions],\n",
    "                constraints = [Macro.StoichiometryBalanceConstraint()]\n",
    "                )\n",
    "\n",
    "smr_ccs.TEdges[:H2] = TEdge{Hydrogen}(;\n",
    "    id = :H2,\n",
    "    node = h2_node,\n",
    "    transformation = smr_ccs,\n",
    "    direction = :output,\n",
    "    has_planning_variables = true,\n",
    "    can_expand = true,\n",
    "    can_retire = false,\n",
    "    capacity_size = smr_ccs_capsize,\n",
    "    time_interval = time_interval(Hydrogen),\n",
    "    subperiods = subperiods(Hydrogen),\n",
    "    st_coeff = Dict(:energy=>smr_ccs_heatrate,:emissions=>0.0,:captured_emissions=>0.0),\n",
    "    existing_capacity = 0.0,\n",
    "    investment_cost = smr_ccs_inv_cost,\n",
    "    fixed_om_cost = smr_ccs_fom_cost,\n",
    "    variable_om_cost = smr_ccs_vom_cost,\n",
    "    constraints = [CapacityConstraint()]\n",
    ")\n",
    "\n",
    "smr_ccs.TEdges[:NG] = TEdge{NaturalGas}(;\n",
    "id =  :NG,\n",
    "node = ng_node,\n",
    "transformation = smr_ccs,\n",
    "direction = :input,\n",
    "has_planning_variables = false,\n",
    "time_interval = time_interval(NaturalGas),\n",
    "subperiods = subperiods(NaturalGas),\n",
    "st_coeff = Dict(:energy=>1.0,:emissions=>smr_ccs_fuel_CO2*(1-smr_ccs_CO2_captured_rate),:captured_emissions=>smr_ccs_fuel_CO2*smr_ccs_CO2_captured_rate)\n",
    ")\n",
    "\n",
    "smr_ccs.TEdges[:CO2] = TEdge{CO2}(;\n",
    "    id = :CO2,\n",
    "    node = co2_node,\n",
    "    transformation = smr_ccs,\n",
    "    direction = :output,\n",
    "    has_planning_variables = false,\n",
    "    time_interval = time_interval(CO2),\n",
    "    subperiods = subperiods(CO2),\n",
    "    st_coeff = Dict(:energy=>0.0,:emissions=>1.0,:captured_emissions=>0.0)\n",
    ")\n",
    "\n",
    "smr_ccs.TEdges[:CO2_Captured] = TEdge{CO2}(;\n",
    "    id = :CO2_Captured,\n",
    "    node = co2_captured_node,\n",
    "    transformation = smr_ccs,\n",
    "    direction = :output,\n",
    "    has_planning_variables = false,\n",
    "    time_interval = time_interval(CO2),\n",
    "    subperiods = subperiods(CO2),\n",
    "    st_coeff = Dict(:energy=>0.0,:emissions=>0.0,:captured_emissions=>1.0)\n",
    ")"
   ]
  },
  {
   "cell_type": "markdown",
   "metadata": {},
   "source": [
    "Let's add a direct air capture unit consuming electricity and capturing CO2 from the atmosphere into the captured CO2 inventory"
   ]
  },
  {
   "cell_type": "code",
   "execution_count": 19,
   "metadata": {},
   "outputs": [
    {
     "data": {
      "text/plain": [
       "TEdge{Electricity}(:E, Node{Electricity}(:E_node, [7850.0, 7424.0, 7107.0, 6947.0, 6922.0, 7045.0, 7307.0, 7544.0, 7946.0, 8340.0  …  10438.0, 10469.0, 11228.0, 11908.0, 11562.0, 9923.0, 9461.0, 9018.0, 8551.0, 8089.0], 1:1:8760, StepRange{Int64, Int64}[1:1:8760], [0.0], [50000.0], Dict{Any, Any}(), Dict{Any, Any}(), Macro.AbstractTypeConstraint[Macro.DemandBalanceConstraint(missing, missing, missing), Macro.MaxNonServedDemandConstraint(missing, missing, missing)]), Transformation{DACElectric}(:Electric_DAC, 1:1:8760, [:energy, :captured_co2], Dict{Symbol, TEdge}(:CO2_Captured => TEdge{CO2}(:CO2_Captured, Node{CO2}(:CO2_captured_node, [0.0, 0.0, 0.0, 0.0, 0.0, 0.0, 0.0, 0.0, 0.0, 0.0  …  0.0, 0.0, 0.0, 0.0, 0.0, 0.0, 0.0, 0.0, 0.0, 0.0], 1:1:8760, StepRange{Int64, Int64}[1:1:8760], [0.0], [0.0], Dict{Any, Any}(), Dict{Any, Any}(), Macro.AbstractTypeConstraint[Macro.DemandBalanceConstraint(missing, missing, missing), Macro.MaxNonServedDemandConstraint(missing, missing, missing)]), Transformation{DACElectric}(#= circular reference @-3 =#), :output, true, false, true, 20.0, 1:1:8760, StepRange{Int64, Int64}[1:1:8760], Dict(:energy => 4.38, :captured_co2 => 1.0), 0.0, Inf, 0.0, 9390.0, 7470.0, 22.0, 0.0, false, 0.0, 0.0, 0, 0, 0.0, Dict{Any, Any}(), Dict{Any, Any}(), Macro.AbstractTypeConstraint[CapacityConstraint(missing, missing, missing)]), :CO2_input => TEdge{CO2}(:CO2_input, Node{CO2}(:CO2_node, [0.0, 0.0, 0.0, 0.0, 0.0, 0.0, 0.0, 0.0, 0.0, 0.0  …  0.0, 0.0, 0.0, 0.0, 0.0, 0.0, 0.0, 0.0, 0.0, 0.0], 1:1:8760, StepRange{Int64, Int64}[1:1:8760], [0.0], [0.0], Dict{Any, Any}(), Dict{Any, Any}(), Macro.AbstractTypeConstraint[Macro.DemandBalanceConstraint(missing, missing, missing), Macro.MaxNonServedDemandConstraint(missing, missing, missing)]), Transformation{DACElectric}(#= circular reference @-3 =#), :input, false, false, false, 1.0, 1:1:8760, StepRange{Int64, Int64}[1:1:8760], Dict(:energy => 0.0, :captured_co2 => 1.0), 0.0, Inf, 0.0, 0.0, 0.0, 0.0, 0.0, false, 0.0, 0.0, 0, 0, 0.0, Dict{Any, Any}(), Dict{Any, Any}(), Macro.AbstractTypeConstraint[]), :E => TEdge{Electricity}(#= circular reference @-3 =#)), Dict{Any, Any}(), Macro.AbstractTypeConstraint[Macro.StoichiometryBalanceConstraint(missing, missing, missing)]), :input, false, false, false, 1.0, 1:1:8760, StepRange{Int64, Int64}[1:1:8760], Dict(:energy => 1.0, :captured_co2 => 0.0), 0.0, Inf, 0.0, 0.0, 0.0, 0.0, 0.0, false, 0.0, 0.0, 0, 0, 0.0, Dict{Any, Any}(), Dict{Any, Any}(), Macro.AbstractTypeConstraint[])"
      ]
     },
     "metadata": {},
     "output_type": "display_data"
    }
   ],
   "source": [
    "electric_dac = Transformation{DACElectric}(;\n",
    "                id = :Electric_DAC,\n",
    "                time_interval = time_interval(CO2),\n",
    "                stoichiometry_balance_names  = [:energy,:captured_co2],\n",
    "                constraints = [Macro.StoichiometryBalanceConstraint()]\n",
    "                )\n",
    "\n",
    "electric_dac.TEdges[:CO2_Captured] = TEdge{CO2}(;\n",
    "    id = :CO2_Captured,\n",
    "    node = co2_captured_node,\n",
    "    transformation = electric_dac,\n",
    "    direction = :output,\n",
    "    has_planning_variables = true,\n",
    "    can_expand = true,\n",
    "    can_retire = false,\n",
    "    capacity_size = electric_dac_capsize,\n",
    "    time_interval = time_interval(CO2),\n",
    "    subperiods = subperiods(CO2),\n",
    "    st_coeff = Dict(:energy=>electric_dac_power_input,:captured_co2=>1.0),\n",
    "    existing_capacity = 0.0,\n",
    "    investment_cost = electric_dac_inv_cost,\n",
    "    fixed_om_cost = electric_dac_fom_cost,\n",
    "    variable_om_cost = electric_dac_vom_cost,\n",
    "    constraints = [CapacityConstraint()]\n",
    ")\n",
    "\n",
    "electric_dac.TEdges[:CO2_input] = TEdge{CO2}(;\n",
    "    id = :CO2_input,\n",
    "    node = co2_node,\n",
    "    transformation = electric_dac,\n",
    "    direction = :input,\n",
    "    has_planning_variables = false,\n",
    "    time_interval = time_interval(CO2),\n",
    "    subperiods = subperiods(CO2),\n",
    "    st_coeff = Dict(:energy=>0.0,:captured_co2=>1.0)\n",
    ")\n",
    "\n",
    "electric_dac.TEdges[:E] = TEdge{Electricity}(;\n",
    "    id = :E,\n",
    "    node = e_node,\n",
    "    transformation = electric_dac,\n",
    "    direction = :input,\n",
    "    has_planning_variables = false,\n",
    "    time_interval = time_interval(Electricity),\n",
    "    subperiods = subperiods(Electricity),\n",
    "    st_coeff = Dict(:energy=>1.0,:captured_co2=>0.0)\n",
    ")"
   ]
  },
  {
   "cell_type": "markdown",
   "metadata": {},
   "source": [
    "Now that we have implemented different technologies, we can create the JuMP model."
   ]
  },
  {
   "cell_type": "code",
   "execution_count": 20,
   "metadata": {},
   "outputs": [],
   "source": [
    "components = [solar_pv; battery; ngcc; ngcc_ccs; electrolyzer; smr; smr_ccs; electric_dac;ng_source;co2_source;co2_sink;co2_captured_sink];\n",
    "nodes = [e_node; h2_node; ng_node; co2_node; co2_captured_node];\n",
    "system = [nodes;components];"
   ]
  },
  {
   "cell_type": "code",
   "execution_count": 21,
   "metadata": {},
   "outputs": [],
   "source": [
    "model = Macro.JuMP.Model();\n",
    "Macro.@variable(model,vREF==1) ## Variable used to initialize empty expressions\n",
    "Macro.@expression(model, eFixedCost, 0 * model[:vREF]);\n",
    "Macro.@expression(model, eVariableCost, 0 * model[:vREF]);"
   ]
  },
  {
   "cell_type": "code",
   "execution_count": 22,
   "metadata": {},
   "outputs": [],
   "source": [
    "add_planning_variables!.(components,model);"
   ]
  },
  {
   "cell_type": "code",
   "execution_count": 23,
   "metadata": {},
   "outputs": [],
   "source": [
    "add_operation_variables!.(system, model);"
   ]
  },
  {
   "cell_type": "code",
   "execution_count": 24,
   "metadata": {},
   "outputs": [],
   "source": [
    "add_all_model_constraints!.(system, model);"
   ]
  },
  {
   "cell_type": "code",
   "execution_count": 25,
   "metadata": {},
   "outputs": [],
   "source": [
    "Macro.@objective(model, Min, model[:eFixedCost] + model[:eVariableCost]);\n"
   ]
  },
  {
   "cell_type": "code",
   "execution_count": 26,
   "metadata": {},
   "outputs": [
    {
     "name": "stdout",
     "output_type": "stream",
     "text": [
      "-vFLOW_NGCC_NG[5] + 2.1775180500999998 vFLOW_NGCC_E[5] == 0\n"
     ]
    }
   ],
   "source": [
    "println(ngcc.constraints[1].constraint_ref[:energy,5])"
   ]
  },
  {
   "cell_type": "code",
   "execution_count": 27,
   "metadata": {},
   "outputs": [
    {
     "name": "stdout",
     "output_type": "stream",
     "text": [
      "-0.181048235160161 vFLOW_NGCC_NG[5] + vFLOW_NGCC_CO2[5] == 0\n"
     ]
    }
   ],
   "source": [
    "println(ngcc.constraints[1].constraint_ref[:emissions,5])"
   ]
  },
  {
   "cell_type": "code",
   "execution_count": 28,
   "metadata": {},
   "outputs": [
    {
     "name": "stdout",
     "output_type": "stream",
     "text": [
      "-vFLOW_NGCC_CCS_NG[5] + 2.1775180500999998 vFLOW_NGCC_CCS_E[5] == 0\n"
     ]
    }
   ],
   "source": [
    "println(ngcc_ccs.constraints[1].constraint_ref[:energy,5])"
   ]
  },
  {
   "cell_type": "code",
   "execution_count": 29,
   "metadata": {},
   "outputs": [
    {
     "name": "stdout",
     "output_type": "stream",
     "text": [
      "-0.018104823516016097 vFLOW_NGCC_CCS_NG[5] + vFLOW_NGCC_CCS_CO2[5] == 0\n"
     ]
    }
   ],
   "source": [
    "println(ngcc_ccs.constraints[1].constraint_ref[:emissions,5])"
   ]
  },
  {
   "cell_type": "code",
   "execution_count": 30,
   "metadata": {},
   "outputs": [
    {
     "name": "stdout",
     "output_type": "stream",
     "text": [
      "vFLOW_NGCC_CCS_CO2_Captured[5] - 0.16294341164414491 vFLOW_NGCC_CCS_NG[5] == 0\n"
     ]
    }
   ],
   "source": [
    "println(ngcc_ccs.constraints[1].constraint_ref[:captured_emissions,5])"
   ]
  },
  {
   "cell_type": "code",
   "execution_count": 31,
   "metadata": {},
   "outputs": [
    {
     "name": "stdout",
     "output_type": "stream",
     "text": [
      "vFLOW_Electrolyzer_H2[5] - 0.7406666666666667 vFLOW_Electrolyzer_E[5] == 0\n"
     ]
    }
   ],
   "source": [
    "println(electrolyzer.constraints[1].constraint_ref[:energy,5])"
   ]
  },
  {
   "cell_type": "code",
   "execution_count": 32,
   "metadata": {},
   "outputs": [
    {
     "name": "stdout",
     "output_type": "stream",
     "text": [
      "-vFLOW_SMR_NG[5] + 2.1775180500999998 vFLOW_SMR_H2[5] == 0\n"
     ]
    }
   ],
   "source": [
    "println(smr.constraints[1].constraint_ref[:energy,5])"
   ]
  },
  {
   "cell_type": "code",
   "execution_count": 33,
   "metadata": {},
   "outputs": [
    {
     "name": "stdout",
     "output_type": "stream",
     "text": [
      "-0.181048235160161 vFLOW_SMR_NG[5] + vFLOW_SMR_CO2[5] == 0\n"
     ]
    }
   ],
   "source": [
    "println(smr.constraints[1].constraint_ref[:emissions,5])"
   ]
  },
  {
   "cell_type": "code",
   "execution_count": 34,
   "metadata": {},
   "outputs": [
    {
     "name": "stdout",
     "output_type": "stream",
     "text": [
      "-vFLOW_SMR_CCS_NG[5] + 2.1775180500999998 vFLOW_SMR_CCS_H2[5] == 0\n"
     ]
    }
   ],
   "source": [
    "println(smr_ccs.constraints[1].constraint_ref[:energy,5])"
   ]
  },
  {
   "cell_type": "code",
   "execution_count": 35,
   "metadata": {},
   "outputs": [
    {
     "name": "stdout",
     "output_type": "stream",
     "text": [
      "-0.018104823516016097 vFLOW_SMR_CCS_NG[5] + vFLOW_SMR_CCS_CO2[5] == 0\n"
     ]
    }
   ],
   "source": [
    "println(smr_ccs.constraints[1].constraint_ref[:emissions,5])"
   ]
  },
  {
   "cell_type": "code",
   "execution_count": 36,
   "metadata": {},
   "outputs": [
    {
     "name": "stdout",
     "output_type": "stream",
     "text": [
      "vFLOW_SMR_CCS_CO2_Captured[5] - 0.16294341164414491 vFLOW_SMR_CCS_NG[5] == 0\n"
     ]
    }
   ],
   "source": [
    "println(smr_ccs.constraints[1].constraint_ref[:captured_emissions,5])"
   ]
  },
  {
   "cell_type": "code",
   "execution_count": 37,
   "metadata": {},
   "outputs": [
    {
     "name": "stdout",
     "output_type": "stream",
     "text": [
      "vFLOW_Electric_DAC_CO2_Captured[5] - vFLOW_Electric_DAC_CO2_input[5] == 0\n"
     ]
    }
   ],
   "source": [
    "println(electric_dac.constraints[1].constraint_ref[:captured_co2,5])"
   ]
  },
  {
   "cell_type": "code",
   "execution_count": 38,
   "metadata": {},
   "outputs": [
    {
     "name": "stdout",
     "output_type": "stream",
     "text": [
      "4.38 vFLOW_Electric_DAC_CO2_Captured[5] - vFLOW_Electric_DAC_E[5] == 0\n"
     ]
    }
   ],
   "source": [
    "println(electric_dac.constraints[1].constraint_ref[:energy,5])"
   ]
  },
  {
   "cell_type": "code",
   "execution_count": 39,
   "metadata": {},
   "outputs": [],
   "source": [
    "using Gurobi"
   ]
  },
  {
   "cell_type": "code",
   "execution_count": 40,
   "metadata": {},
   "outputs": [
    {
     "name": "stdout",
     "output_type": "stream",
     "text": [
      "Set parameter Username\n",
      "\n",
      "--------------------------------------------\n",
      "Warning: your license will expire in 2 days\n",
      "--------------------------------------------\n",
      "\n",
      "Academic license - for non-commercial use only - expires 2024-03-14\n"
     ]
    }
   ],
   "source": [
    "Macro.set_optimizer(model,Gurobi.Optimizer)"
   ]
  },
  {
   "cell_type": "code",
   "execution_count": 41,
   "metadata": {},
   "outputs": [
    {
     "name": "stdout",
     "output_type": "stream",
     "text": [
      "Gurobi Optimizer version 10.0.2 build v10.0.2rc0 (win64)\n",
      "\n",
      "CPU model: Intel(R) Core(TM) i9-9980HK CPU @ 2.40GHz, instruction set [SSE2|AVX|AVX2]\n",
      "Thread count: 8 physical cores, 16 logical processors, using up to 16 threads\n",
      "\n",
      "Optimize a model with 289091 rows, 280348 columns and 731340 nonzeros\n",
      "Model fingerprint: 0x44164a23\n",
      "Coefficient statistics:\n",
      "  Matrix range     [1e-04, 7e+02]\n",
      "  Objective range  [1e-01, 2e+07]\n",
      "  Bounds range     [1e+00, 1e+00]\n",
      "  RHS range        [4e+01, 2e+04]\n",
      "Presolve removed 188500 rows and 197268 columns\n",
      "Presolve time: 0.27s\n",
      "Presolved: 100591 rows, 83080 columns, 266733 nonzeros\n",
      "\n",
      "Concurrent LP optimizer: primal simplex, dual simplex, and barrier\n",
      "Showing barrier log only...\n",
      "\n",
      "Ordering time: 0.00s\n",
      "\n",
      "Barrier statistics:\n",
      " Dense cols : 9\n",
      " AA' NZ     : 2.012e+05\n",
      " Factor NZ  : 1.735e+06 (roughly 90 MB of memory)\n",
      " Factor Ops : 3.105e+07 (less than 1 second per iteration)\n",
      " Threads    : 6\n",
      "\n",
      "                  Objective                Residual\n",
      "Iter       Primal          Dual         Primal    Dual     Compl     Time\n",
      "   0   2.17013270e+11  0.00000000e+00  1.41e+05 0.00e+00  2.44e+08     1s\n",
      "   1   2.60654269e+11 -6.74255259e+10  1.84e+04 7.44e+02  5.42e+07     1s\n",
      "   2   1.26870071e+11 -2.68477691e+10  6.48e+02 2.86e+01  2.61e+06     1s\n",
      "   3   4.37602155e+10 -7.07766560e+09  9.74e+00 1.63e+00  3.55e+05     1s\n",
      "   4   2.04905088e+10  6.31494855e+08  3.54e+00 5.62e-02  1.12e+05     1s\n",
      "   5   7.84410674e+09  1.25901017e+09  1.02e+00 1.56e-02  3.65e+04     2s\n",
      "   6   5.69734481e+09  2.02281830e+09  5.63e-01 2.87e-02  2.02e+04     2s\n",
      "   7   4.96800547e+09  2.75757318e+09  4.00e-01 7.07e-09  1.21e+04     2s\n",
      "\n",
      "Barrier performed 7 iterations in 1.90 seconds (0.60 work units)\n",
      "Barrier solve interrupted - model solved by another algorithm\n",
      "\n",
      "\n",
      "Solved with dual simplex\n",
      "Iteration    Objective       Primal Inf.    Dual Inf.      Time\n",
      "   46142    3.5077394e+09   0.000000e+00   0.000000e+00      2s\n",
      "\n",
      "Solved in 46142 iterations and 2.15 seconds (1.68 work units)\n",
      "Optimal objective  3.507739423e+09\n",
      "\n",
      "User-callback calls 166, time in user-callback 0.00 sec\n"
     ]
    }
   ],
   "source": [
    "Macro.optimize!(model)"
   ]
  },
  {
   "cell_type": "markdown",
   "metadata": {},
   "source": [
    "The installed electrolyzer capacity is:"
   ]
  },
  {
   "cell_type": "code",
   "execution_count": 42,
   "metadata": {},
   "outputs": [
    {
     "data": {
      "text/plain": [
       "0.0"
      ]
     },
     "metadata": {},
     "output_type": "display_data"
    }
   ],
   "source": [
    "Macro.value(Macro.capacity(electrolyzer.TEdges[:H2]))"
   ]
  },
  {
   "cell_type": "markdown",
   "metadata": {},
   "source": [
    "The installed SMR capacity is"
   ]
  },
  {
   "cell_type": "code",
   "execution_count": 43,
   "metadata": {},
   "outputs": [
    {
     "data": {
      "text/plain": [
       "1039.5627"
      ]
     },
     "metadata": {},
     "output_type": "display_data"
    }
   ],
   "source": [
    "Macro.value(Macro.capacity(smr.TEdges[:H2]))"
   ]
  },
  {
   "cell_type": "markdown",
   "metadata": {},
   "source": [
    "The installed SMR CCS capacity is"
   ]
  },
  {
   "cell_type": "code",
   "execution_count": 44,
   "metadata": {},
   "outputs": [
    {
     "data": {
      "text/plain": [
       "0.0"
      ]
     },
     "metadata": {},
     "output_type": "display_data"
    }
   ],
   "source": [
    "Macro.value(Macro.capacity(smr_ccs.TEdges[:H2]))"
   ]
  },
  {
   "cell_type": "markdown",
   "metadata": {},
   "source": [
    "The installed solar capacity in MW is:"
   ]
  },
  {
   "cell_type": "code",
   "execution_count": 45,
   "metadata": {},
   "outputs": [
    {
     "data": {
      "text/plain": [
       "0.0"
      ]
     },
     "metadata": {},
     "output_type": "display_data"
    }
   ],
   "source": [
    "Macro.value(Macro.capacity(solar_pv))"
   ]
  },
  {
   "cell_type": "markdown",
   "metadata": {},
   "source": [
    "The installed battery capacity in MW is:"
   ]
  },
  {
   "cell_type": "code",
   "execution_count": 46,
   "metadata": {},
   "outputs": [
    {
     "data": {
      "text/plain": [
       "100.0"
      ]
     },
     "metadata": {},
     "output_type": "display_data"
    }
   ],
   "source": [
    "Macro.value(Macro.capacity(battery))"
   ]
  },
  {
   "cell_type": "markdown",
   "metadata": {},
   "source": [
    "The installed NGCC capacity in MW is:"
   ]
  },
  {
   "cell_type": "code",
   "execution_count": 47,
   "metadata": {},
   "outputs": [
    {
     "data": {
      "text/plain": [
       "16617.0"
      ]
     },
     "metadata": {},
     "output_type": "display_data"
    }
   ],
   "source": [
    "Macro.value(Macro.capacity(ngcc.TEdges[:E]))"
   ]
  },
  {
   "cell_type": "markdown",
   "metadata": {},
   "source": [
    "The installed NGCC CCS capacity in MW is:"
   ]
  },
  {
   "cell_type": "code",
   "execution_count": 48,
   "metadata": {},
   "outputs": [
    {
     "data": {
      "text/plain": [
       "0.0"
      ]
     },
     "metadata": {},
     "output_type": "display_data"
    }
   ],
   "source": [
    "Macro.value(Macro.capacity(ngcc_ccs.TEdges[:E]))"
   ]
  },
  {
   "cell_type": "markdown",
   "metadata": {},
   "source": [
    "The installed Electric DAC capacity in Tons CO2/h is:"
   ]
  },
  {
   "cell_type": "code",
   "execution_count": 49,
   "metadata": {},
   "outputs": [
    {
     "data": {
      "text/plain": [
       "0.0"
      ]
     },
     "metadata": {},
     "output_type": "display_data"
    }
   ],
   "source": [
    "Macro.value(Macro.capacity(electric_dac.TEdges[:CO2_Captured]))"
   ]
  },
  {
   "cell_type": "markdown",
   "metadata": {},
   "source": [
    "The resulting CO2 emissions from fossil fuel power and H2 production in tonnes are:"
   ]
  },
  {
   "cell_type": "code",
   "execution_count": 50,
   "metadata": {},
   "outputs": [
    {
     "data": {
      "text/plain": [
       "3.42974550073138e7"
      ]
     },
     "metadata": {},
     "output_type": "display_data"
    }
   ],
   "source": [
    "base_emissions  = Macro.value(sum(Macro.withdrawal(co2_sink)[t] for t in time_interval(CO2)))"
   ]
  },
  {
   "cell_type": "markdown",
   "metadata": {},
   "source": [
    "The resulting CO2 removed from the atmosphere by DAC in tonnes are:"
   ]
  },
  {
   "cell_type": "code",
   "execution_count": 51,
   "metadata": {},
   "outputs": [
    {
     "data": {
      "text/plain": [
       "0.0"
      ]
     },
     "metadata": {},
     "output_type": "display_data"
    }
   ],
   "source": [
    "atm_CO2_captured  = Macro.value(sum(Macro.injection(co2_source)[t] for t in time_interval(CO2)))"
   ]
  },
  {
   "cell_type": "markdown",
   "metadata": {},
   "source": [
    "The net CO2 emissions (CO2 emissions - CO2 removed from the atmosphere by DAC) in tonnes are:"
   ]
  },
  {
   "cell_type": "code",
   "execution_count": 52,
   "metadata": {},
   "outputs": [
    {
     "data": {
      "text/plain": [
       "3.42974550073138e7"
      ]
     },
     "metadata": {},
     "output_type": "display_data"
    }
   ],
   "source": [
    "net_emissions = Macro.value(sum(Macro.withdrawal(co2_sink)[t] for t in time_interval(CO2))) - Macro.value(sum(Macro.injection(co2_source)[t] for t in time_interval(CO2)))"
   ]
  },
  {
   "cell_type": "markdown",
   "metadata": {},
   "source": [
    "The resulting captured CO2 (DAC + Power CCS + H2 CCS) in tonnes that can be transported to storage are:"
   ]
  },
  {
   "cell_type": "code",
   "execution_count": 53,
   "metadata": {},
   "outputs": [
    {
     "data": {
      "text/plain": [
       "0.0"
      ]
     },
     "metadata": {},
     "output_type": "display_data"
    }
   ],
   "source": [
    "base_CO2_captured  = Macro.value(sum(Macro.withdrawal(co2_captured_sink)[t] for t in time_interval(CO2)))"
   ]
  },
  {
   "cell_type": "markdown",
   "metadata": {},
   "source": [
    "However, if we add a net-zero CO2 cap accounting for both positive emissions from Natural gas power and H2, and negative emissions from DAC:"
   ]
  },
  {
   "cell_type": "code",
   "execution_count": 54,
   "metadata": {},
   "outputs": [],
   "source": [
    "Macro.@constraint(model,CO2Cap,sum(Macro.withdrawal(co2_sink)[t] - Macro.injection(co2_source)[t] for t in time_interval(CO2)) <= 0);"
   ]
  },
  {
   "cell_type": "code",
   "execution_count": 55,
   "metadata": {},
   "outputs": [
    {
     "name": "stdout",
     "output_type": "stream",
     "text": [
      "Gurobi Optimizer version 10.0.2 build v10.0.2rc0 (win64)\n",
      "\n",
      "CPU model: Intel(R) Core(TM) i9-9980HK CPU @ 2.40GHz, instruction set [SSE2|AVX|AVX2]\n",
      "Thread count: 8 physical cores, 16 logical processors, using up to 16 threads\n",
      "\n",
      "Optimize a model with 289092 rows, 280348 columns and 748860 nonzeros\n",
      "Coefficient statistics:\n",
      "  Matrix range     [1e-04, 7e+02]\n",
      "  Objective range  [1e-01, 2e+07]\n",
      "  Bounds range     [1e+00, 1e+00]\n",
      "  RHS range        [4e+01, 2e+04]\n",
      "Iteration    Objective       Primal Inf.    Dual Inf.      Time\n",
      "       0    3.5077394e+09   3.429746e+07   0.000000e+00      0s\n",
      "    1100    3.5174056e+09   4.609842e+08   0.000000e+00      5s\n",
      "    2220    3.5174063e+09   4.235046e+08   0.000000e+00     11s\n",
      "    3120    3.5174068e+09   3.936423e+08   0.000000e+00     16s\n",
      "    3940    3.5174071e+09   3.687694e+08   0.000000e+00     21s\n",
      "    4760    3.5174074e+09   3.308622e+08   0.000000e+00     25s\n",
      "    5730    3.5174076e+09   2.931337e+08   0.000000e+00     31s\n",
      "    6680    3.5174078e+09   2.575929e+08   0.000000e+00     36s\n",
      "    7680    3.5174080e+09   2.279596e+08   0.000000e+00     41s\n",
      "    8750    3.5174083e+09   2.089212e+08   0.000000e+00     45s\n",
      "   10660    3.5174092e+09   3.770371e+08   0.000000e+00     50s\n",
      "   14080    3.5174260e+09   1.660125e+09   0.000000e+00     55s\n",
      "   19581    3.5328427e+09   3.398908e+08   0.000000e+00     60s\n",
      "   22164    3.5367409e+09   3.463386e+08   0.000000e+00     65s\n",
      "   23025    3.5388675e+09   3.529335e+08   0.000000e+00     73s\n",
      "   23312    3.5399177e+09   3.555600e+08   0.000000e+00     77s\n",
      "   23599    3.5410446e+09   3.583203e+08   0.000000e+00     81s\n",
      "   23886    3.5422558e+09   3.614296e+08   0.000000e+00     86s\n",
      "   24460    3.5449709e+09   3.682846e+08   0.000000e+00     94s\n",
      "   24747    3.5465016e+09   3.723739e+08   0.000000e+00     99s\n",
      "   25034    3.5481635e+09   3.769417e+08   0.000000e+00    103s\n",
      "   25321    3.5499763e+09   3.821911e+08   0.000000e+00    107s\n",
      "   25608    3.5519654e+09   3.878735e+08   0.000000e+00    111s\n",
      "   26639    3.5528362e+09   1.166128e+08   0.000000e+00    118s\n",
      "   26926    3.5532541e+09   7.601092e+07   0.000000e+00    121s\n",
      "   27500    3.5538975e+09   1.047099e+08   0.000000e+00    127s\n",
      "   27787    3.5542261e+09   1.210433e+08   0.000000e+00    130s\n",
      "   28361    3.5548712e+09   6.848594e+07   0.000000e+00    137s\n",
      "   28648    3.5551498e+09   6.559551e+07   0.000000e+00    140s\n",
      "   29222    3.5557229e+09   6.192312e+07   0.000000e+00    146s\n",
      "   29796    3.5562953e+09   7.627409e+07   0.000000e+00    153s\n",
      "   30083    3.5565944e+09   5.711579e+07   0.000000e+00    156s\n",
      "   30657    3.5572690e+09   5.616841e+07   0.000000e+00    162s\n",
      "   30944    3.5576170e+09   7.972120e+07   0.000000e+00    166s\n",
      "   31518    3.5582893e+09   7.974799e+07   0.000000e+00    172s\n",
      "   31805    3.5586197e+09   5.268354e+07   0.000000e+00    175s\n",
      "   32379    3.5593415e+09   8.003399e+07   0.000000e+00    182s\n",
      "   32666    3.5597277e+09   5.057896e+07   0.000000e+00    185s\n",
      "   33223    3.5605142e+09   7.060169e+07   0.000000e+00    191s\n",
      "   33750    3.5613234e+09   7.357675e+07   0.000000e+00    197s\n",
      "   34230    3.5620591e+09   1.000836e+08   0.000000e+00    202s\n",
      "   34580    3.5626674e+09   8.794536e+07   0.000000e+00    206s\n",
      "   35140    3.5636587e+09   4.691129e+07   0.000000e+00    211s\n",
      "   35610    3.5645254e+09   4.539099e+07   0.000000e+00    216s\n",
      "   36130    3.5659061e+09   8.803195e+07   0.000000e+00    221s\n",
      "   36550    3.5671734e+09   8.973994e+07   0.000000e+00    225s\n",
      "   37040    3.5690806e+09   4.627306e+07   0.000000e+00    231s\n",
      "   37490    3.5711379e+09   5.199738e+07   0.000000e+00    235s\n",
      "   38100    3.5732284e+09   7.159152e+07   0.000000e+00    241s\n",
      "   38630    3.5762336e+09   7.089133e+07   0.000000e+00    246s\n",
      "   39090    3.5802358e+09   8.297688e+07   0.000000e+00    251s\n",
      "   39510    3.5849769e+09   1.280353e+08   0.000000e+00    255s\n",
      "   40180    3.5936042e+09   1.597323e+08   0.000000e+00    260s\n",
      "   40880    3.6103838e+09   1.942972e+08   0.000000e+00    265s\n",
      "   41480    3.6937933e+09   1.503343e+09   0.000000e+00    270s\n",
      "   42050    3.8880472e+09   1.034766e+08   0.000000e+00    275s\n",
      "   42610    3.9033179e+09   1.037215e+08   0.000000e+00    280s\n",
      "   43170    3.9207703e+09   1.028484e+08   0.000000e+00    285s\n",
      "   43870    3.9207710e+09   1.455665e+08   0.000000e+00    291s\n",
      "   44909    3.9326809e+09   5.179928e+07   0.000000e+00    295s\n",
      "   47173    4.0174985e+09   5.651486e+06   0.000000e+00    300s\n",
      "   47823    4.0174985e+09   5.225556e+06   0.000000e+00    306s\n",
      "   48343    4.0174985e+09   4.301471e+06   0.000000e+00    311s\n",
      "   48863    4.0174985e+09   3.336579e+06   0.000000e+00    315s\n",
      "   49573    4.0179484e+09   2.814984e+06   0.000000e+00    321s\n",
      "   50343    4.0188108e+09   1.309197e+06   0.000000e+00    326s\n",
      "   51363    4.0190710e+09   3.070419e+06   0.000000e+00    330s\n",
      "   53612    4.0192348e+09   0.000000e+00   0.000000e+00    335s\n",
      "\n",
      "Solved in 53612 iterations and 335.19 seconds (755.69 work units)\n",
      "Optimal objective  4.019231551e+09\n",
      "\n",
      "User-callback calls 53698, time in user-callback 0.14 sec\n"
     ]
    }
   ],
   "source": [
    "Macro.optimize!(model)"
   ]
  },
  {
   "cell_type": "markdown",
   "metadata": {},
   "source": [
    "Now, the electrolyzer capacity is:"
   ]
  },
  {
   "cell_type": "code",
   "execution_count": 56,
   "metadata": {},
   "outputs": [
    {
     "data": {
      "text/plain": [
       "0.0"
      ]
     },
     "metadata": {},
     "output_type": "display_data"
    }
   ],
   "source": [
    "Macro.value(Macro.capacity(electrolyzer.TEdges[:H2]))"
   ]
  },
  {
   "cell_type": "markdown",
   "metadata": {},
   "source": [
    "The SMR capacity is:"
   ]
  },
  {
   "cell_type": "code",
   "execution_count": 57,
   "metadata": {},
   "outputs": [
    {
     "data": {
      "text/plain": [
       "26.330700000000093"
      ]
     },
     "metadata": {},
     "output_type": "display_data"
    }
   ],
   "source": [
    "Macro.value(Macro.capacity(smr.TEdges[:H2]))"
   ]
  },
  {
   "cell_type": "markdown",
   "metadata": {},
   "source": [
    "The SMR CCS capacity is:"
   ]
  },
  {
   "cell_type": "code",
   "execution_count": 58,
   "metadata": {},
   "outputs": [
    {
     "data": {
      "text/plain": [
       "1013.2319999999999"
      ]
     },
     "metadata": {},
     "output_type": "display_data"
    }
   ],
   "source": [
    "Macro.value(Macro.capacity(smr_ccs.TEdges[:H2]))"
   ]
  },
  {
   "cell_type": "markdown",
   "metadata": {},
   "source": [
    "Now the solar capacity is:"
   ]
  },
  {
   "cell_type": "code",
   "execution_count": 59,
   "metadata": {},
   "outputs": [
    {
     "data": {
      "text/plain": [
       "0.0"
      ]
     },
     "metadata": {},
     "output_type": "display_data"
    }
   ],
   "source": [
    "Macro.value(Macro.capacity(solar_pv))"
   ]
  },
  {
   "cell_type": "markdown",
   "metadata": {},
   "source": [
    "The installed battery capacity is:"
   ]
  },
  {
   "cell_type": "code",
   "execution_count": 60,
   "metadata": {},
   "outputs": [
    {
     "data": {
      "text/plain": [
       "100.0"
      ]
     },
     "metadata": {},
     "output_type": "display_data"
    }
   ],
   "source": [
    "Macro.value(Macro.capacity(battery))"
   ]
  },
  {
   "cell_type": "markdown",
   "metadata": {},
   "source": [
    "The installed NG capacity is:"
   ]
  },
  {
   "cell_type": "code",
   "execution_count": 61,
   "metadata": {},
   "outputs": [
    {
     "data": {
      "text/plain": [
       "916.0"
      ]
     },
     "metadata": {},
     "output_type": "display_data"
    }
   ],
   "source": [
    "Macro.value(Macro.capacity(ngcc.TEdges[:E]))"
   ]
  },
  {
   "cell_type": "markdown",
   "metadata": {},
   "source": [
    "The installed NG CCS capacity is:"
   ]
  },
  {
   "cell_type": "code",
   "execution_count": 62,
   "metadata": {},
   "outputs": [
    {
     "data": {
      "text/plain": [
       "15701.0"
      ]
     },
     "metadata": {},
     "output_type": "display_data"
    }
   ],
   "source": [
    "Macro.value(Macro.capacity(ngcc_ccs.TEdges[:E]))"
   ]
  },
  {
   "cell_type": "markdown",
   "metadata": {},
   "source": [
    "The installed Electric DAC capacity is:"
   ]
  },
  {
   "cell_type": "code",
   "execution_count": 63,
   "metadata": {},
   "outputs": [
    {
     "data": {
      "text/plain": [
       "1318.9497716894978"
      ]
     },
     "metadata": {},
     "output_type": "display_data"
    }
   ],
   "source": [
    "Macro.value(Macro.capacity(electric_dac.TEdges[:CO2_Captured]))"
   ]
  },
  {
   "cell_type": "markdown",
   "metadata": {},
   "source": [
    "The resulting CO2 emissions from fossil fuel power and H2 production in tonnes are:"
   ]
  },
  {
   "cell_type": "code",
   "execution_count": 64,
   "metadata": {},
   "outputs": [
    {
     "data": {
      "text/plain": [
       "2.1196417017425955e6"
      ]
     },
     "metadata": {},
     "output_type": "display_data"
    }
   ],
   "source": [
    "Macro.value(sum(Macro.withdrawal(co2_sink)[t] for t in time_interval(CO2)))"
   ]
  },
  {
   "cell_type": "markdown",
   "metadata": {},
   "source": [
    "The resulting CO2 removed from the atmosphere by DAC in tonnes are:"
   ]
  },
  {
   "cell_type": "code",
   "execution_count": 65,
   "metadata": {},
   "outputs": [
    {
     "data": {
      "text/plain": [
       "2.1196417017426006e6"
      ]
     },
     "metadata": {},
     "output_type": "display_data"
    }
   ],
   "source": [
    "atm_CO2_captured  = Macro.value(sum(Macro.injection(co2_source)[t] for t in time_interval(CO2)))"
   ]
  },
  {
   "cell_type": "markdown",
   "metadata": {},
   "source": [
    "The net CO2 emissions (CO2 emissions - CO2 removed from the atmosphere by DAC) in tonnes are:"
   ]
  },
  {
   "cell_type": "code",
   "execution_count": 66,
   "metadata": {},
   "outputs": [
    {
     "data": {
      "text/plain": [
       "-5.122274160385132e-9"
      ]
     },
     "metadata": {},
     "output_type": "display_data"
    }
   ],
   "source": [
    "net_emissions = Macro.value(sum(Macro.withdrawal(co2_sink)[t] for t in time_interval(CO2))) - Macro.value(sum(Macro.injection(co2_source)[t] for t in time_interval(CO2)))"
   ]
  },
  {
   "cell_type": "markdown",
   "metadata": {},
   "source": [
    "The resulting captured CO2 (DAC + Power CCS + H2 CCS) in tonnes that can be transported to storage are:"
   ]
  },
  {
   "cell_type": "code",
   "execution_count": 67,
   "metadata": {},
   "outputs": [
    {
     "data": {
      "text/plain": [
       "4.146808034918954e7"
      ]
     },
     "metadata": {},
     "output_type": "display_data"
    }
   ],
   "source": [
    "Macro.value(sum(Macro.withdrawal(co2_captured_sink)[t] for t in time_interval(CO2)))"
   ]
  },
  {
   "cell_type": "markdown",
   "metadata": {},
   "source": [
    "We see that in a net-zero emission case with negative emissions from DAC, a combination of Natural Gas Power CCS and SMR H2 CCS with DAC is deployed."
   ]
  },
  {
   "cell_type": "markdown",
   "metadata": {},
   "source": [
    "Here is the full hourly time series of captured demand:"
   ]
  },
  {
   "cell_type": "code",
   "execution_count": 68,
   "metadata": {},
   "outputs": [
    {
     "data": {
      "text/plain": [
       "1-dimensional DenseAxisArray{Float64,1,...} with index sets:\n",
       "    Dimension 1, 1:1:8760\n",
       "And data, a 8760-element Vector{Float64}:\n",
       " 2804.433870894012\n",
       " 2648.553508656972\n",
       " 2542.34575730205\n",
       " 2512.1840575104\n",
       " 2553.455531091024\n",
       " 2658.237292133766\n",
       " 2791.1696063427544\n",
       " 2904.2335361496243\n",
       " 3058.693939882224\n",
       " 3212.5627652004187\n",
       "    ⋮\n",
       " 4021.292751310044\n",
       " 4274.866790870887\n",
       " 4482.435310286976\n",
       " 4316.624037861912\n",
       " 3684.1172178108063\n",
       " 3481.0502719923\n",
       " 3286.262124221832\n",
       " 3087.5705807754784\n",
       " 2901.769436244168"
      ]
     },
     "metadata": {},
     "output_type": "display_data"
    }
   ],
   "source": [
    "Macro.value.(Macro.withdrawal(co2_captured_sink))"
   ]
  },
  {
   "cell_type": "code",
   "execution_count": 69,
   "metadata": {},
   "outputs": [],
   "source": [
    "#### We need to use dictionaries point at the edge ID, rather than vectors, but for now: "
   ]
  },
  {
   "cell_type": "markdown",
   "metadata": {},
   "source": [
    "The outflow of electricity from ngcc_ccs is:"
   ]
  },
  {
   "cell_type": "code",
   "execution_count": 69,
   "metadata": {},
   "outputs": [
    {
     "data": {
      "text/plain": [
       "1-dimensional DenseAxisArray{Float64,1,...} with index sets:\n",
       "    Dimension 1, 1:1:8760\n",
       "And data, a 8760-element Vector{Float64}:\n",
       "  7850.0\n",
       "  7424.0\n",
       "  7107.0\n",
       "  6947.0\n",
       "  6922.0\n",
       "  7045.0\n",
       "  7307.0\n",
       "  7544.0\n",
       "  7946.0\n",
       "  8340.0\n",
       "     ⋮\n",
       " 10469.0\n",
       " 11228.0\n",
       " 11908.0\n",
       " 11562.0\n",
       "  9923.0\n",
       "  9461.0\n",
       "  9018.0\n",
       "  8551.0\n",
       "  8089.0"
      ]
     },
     "metadata": {},
     "output_type": "display_data"
    }
   ],
   "source": [
    "Macro.value.(Macro.flow(ngcc_ccs.TEdges[:E]))"
   ]
  },
  {
   "cell_type": "markdown",
   "metadata": {},
   "source": [
    "The inflow of natural gas into ngcc_ccs is:"
   ]
  },
  {
   "cell_type": "code",
   "execution_count": 70,
   "metadata": {},
   "outputs": [
    {
     "data": {
      "text/plain": [
       "1-dimensional DenseAxisArray{Float64,1,...} with index sets:\n",
       "    Dimension 1, 1:1:8760\n",
       "And data, a 8760-element Vector{Float64}:\n",
       " 17093.516693284997\n",
       " 16165.894003942398\n",
       " 15475.620782060698\n",
       " 15127.2178940447\n",
       " 15072.779942792198\n",
       " 15340.614662954498\n",
       " 15911.1243920807\n",
       " 16427.196169954397\n",
       " 17302.558426094598\n",
       " 18160.500537834\n",
       "     ⋮\n",
       " 22796.436466496896\n",
       " 24449.172666522798\n",
       " 25929.884940590797\n",
       " 25176.463695256196\n",
       " 21607.511611142298\n",
       " 20601.498271996097\n",
       " 19636.857775801796\n",
       " 18619.956846405097\n",
       " 17613.943507258897"
      ]
     },
     "metadata": {},
     "output_type": "display_data"
    }
   ],
   "source": [
    "Macro.value.(Macro.flow(ngcc_ccs.TEdges[:NG]))"
   ]
  },
  {
   "cell_type": "markdown",
   "metadata": {},
   "source": [
    "The outflow of CO2 (emission) from ngcc_ccs is:"
   ]
  },
  {
   "cell_type": "code",
   "execution_count": 71,
   "metadata": {},
   "outputs": [
    {
     "data": {
      "text/plain": [
       "1-dimensional DenseAxisArray{Float64,1,...} with index sets:\n",
       "    Dimension 1, 1:1:8760\n",
       "And data, a 8760-element Vector{Float64}:\n",
       " 309.47510299999993\n",
       " 292.68065791999993\n",
       " 280.1833830599999\n",
       " 273.87561026\n",
       " 272.89002075999997\n",
       " 277.7391211\n",
       " 288.06809905999995\n",
       " 297.4114875199999\n",
       " 313.2597666799999\n",
       " 328.79265719999995\n",
       "   ⋮\n",
       " 412.7254590199999\n",
       " 442.6479562399999\n",
       " 469.4559906399999\n",
       " 455.8154319599999\n",
       " 391.2001843399999\n",
       " 372.9864903799999\n",
       " 355.52184443999994\n",
       " 337.1110325799999\n",
       " 318.8973386199999"
      ]
     },
     "metadata": {},
     "output_type": "display_data"
    }
   ],
   "source": [
    "Macro.value.(Macro.flow(ngcc_ccs.TEdges[:CO2]))"
   ]
  },
  {
   "cell_type": "markdown",
   "metadata": {},
   "source": [
    "The outflow of CO2 (captured) from ngcc_ccs is:"
   ]
  },
  {
   "cell_type": "code",
   "execution_count": 72,
   "metadata": {},
   "outputs": [
    {
     "data": {
      "text/plain": [
       "1-dimensional DenseAxisArray{Float64,1,...} with index sets:\n",
       "    Dimension 1, 1:1:8760\n",
       "And data, a 8760-element Vector{Float64}:\n",
       " 2785.275927\n",
       " 2634.12592128\n",
       " 2521.65044754\n",
       " 2464.8804923400003\n",
       " 2456.01018684\n",
       " 2499.6520899\n",
       " 2592.6128915400004\n",
       " 2676.70338768\n",
       " 2819.33790012\n",
       " 2959.1339148000006\n",
       "    ⋮\n",
       " 3714.52913118\n",
       " 3983.8316061600003\n",
       " 4225.103915760001\n",
       " 4102.33888764\n",
       " 3520.8016590600005\n",
       " 3356.87841342\n",
       " 3199.69659996\n",
       " 3033.9992932200003\n",
       " 2870.07604758"
      ]
     },
     "metadata": {},
     "output_type": "display_data"
    }
   ],
   "source": [
    "Macro.value.(Macro.flow(ngcc_ccs.TEdges[:CO2_Captured]))"
   ]
  },
  {
   "cell_type": "code",
   "execution_count": 74,
   "metadata": {},
   "outputs": [],
   "source": []
  }
 ],
 "metadata": {
  "kernelspec": {
   "display_name": "Julia 1.10.2",
   "language": "julia",
   "name": "julia-1.10"
  },
  "language_info": {
   "file_extension": ".jl",
   "mimetype": "application/julia",
   "name": "julia",
   "version": "1.10.2"
  }
 },
 "nbformat": 4,
 "nbformat_minor": 4
}
