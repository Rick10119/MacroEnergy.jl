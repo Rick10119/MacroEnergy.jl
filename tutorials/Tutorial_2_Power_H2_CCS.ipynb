{
 "cells": [
  {
   "cell_type": "markdown",
   "metadata": {},
   "source": [
    "This tutorial shows the potential of using CO2 capture resources in Macro such as Natural Gas Power CCS, SMR H2 CCS. Natural Gas Power CCS and SMR H2 CCS works by specifying a CO2 capture rate (for example 0.9) of the total CO2 emitted by natural gas used in producing power and H2 which effectively reduces the total emissions by 90%. There are a total of 2 CO2 node types: 1) Captured CO2 sink node, where its input is for captured CO2 from Natural Gas Power CCS and SMR H2 CCS, 2) Emission CO2 sink node to account for emission by fossil sources."
   ]
  },
  {
   "cell_type": "code",
   "execution_count": 84,
   "metadata": {},
   "outputs": [
    {
     "name": "stderr",
     "output_type": "stream",
     "text": [
      "\u001b[32m\u001b[1m  Activating\u001b[22m\u001b[39m project at `c:\\Users\\pecci\\Code\\MACRO-dev\\tutorials`\n"
     ]
    }
   ],
   "source": [
    "using Pkg\n",
    "Pkg.activate(\".\")"
   ]
  },
  {
   "cell_type": "code",
   "execution_count": 85,
   "metadata": {},
   "outputs": [],
   "source": [
    "using Macro,CSV,DataFrames"
   ]
  },
  {
   "cell_type": "markdown",
   "metadata": {},
   "source": [
    "Start MACRO model generation (units: MWh for energy, $ for costs)"
   ]
  },
  {
   "cell_type": "code",
   "execution_count": 86,
   "metadata": {},
   "outputs": [],
   "source": [
    "T = 8760;\n",
    "macro_settings = (Commodities = Dict(Electricity=>Dict(:HoursPerTimeStep=>1,:HoursPerSubperiod=>T),\n",
    "                                    Hydrogen=>Dict(:HoursPerTimeStep=>1,:HoursPerSubperiod=>T),\n",
    "                                    NaturalGas=>Dict(:HoursPerTimeStep=>1,:HoursPerSubperiod=>T),\n",
    "                                    CO2=>Dict(:HoursPerTimeStep=>1,:HoursPerSubperiod=>T)),\n",
    "                PeriodLength = T);"
   ]
  },
  {
   "cell_type": "code",
   "execution_count": 87,
   "metadata": {},
   "outputs": [
    {
     "data": {
      "text/plain": [
       "(Commodities = Dict{DataType, Dict{Symbol, Int64}}(CO2 => Dict(:HoursPerSubperiod => 8760, :HoursPerTimeStep => 1), Electricity => Dict(:HoursPerSubperiod => 8760, :HoursPerTimeStep => 1), Hydrogen => Dict(:HoursPerSubperiod => 8760, :HoursPerTimeStep => 1), NaturalGas => Dict(:HoursPerSubperiod => 8760, :HoursPerTimeStep => 1)), PeriodLength = 8760)"
      ]
     },
     "metadata": {},
     "output_type": "display_data"
    }
   ],
   "source": [
    "macro_settings"
   ]
  },
  {
   "cell_type": "code",
   "execution_count": 88,
   "metadata": {},
   "outputs": [],
   "source": [
    "\n",
    "H2_MWh = 33.33 # MWh per tonne of H2\n",
    "NG_MWh = 0.29307107 # MWh per MMBTU of NG\n",
    "\n",
    "df = CSV.read(\"time_series_data.csv\",DataFrame)\n",
    "\n",
    "electricity_demand = df[1:T,:Electricity_Demand_MW]; # MWh\n",
    "solar_capacity_factor = df[1:T,:Solar_Capacity_Factor]; # factor between 0 and 1\n",
    "ng_fuel_price = df[1:T,:NG_Price]/NG_MWh; # $/MWh of natural gas\n",
    "h2_demand = H2_MWh*df[1:T,:H2_Demand_tonne] # MWh of hydrogen\n",
    "\n",
    "solar_inv_cost = 85300; # $/MW\n",
    "solar_fom_cost = 18760.0; # $/MW\n",
    "\n",
    "battery_inv_cost = 19584.0; #$/MW\n",
    "battery_fom_cost = 4895; # $/MW\n",
    "battery_vom_cost = 0.15; #$/MW\n",
    "battery_inv_cost_storage = 22494.0; #$/MWh\n",
    "battery_fom_cost_storage = 5622; #$/MWh\n",
    "battery_vom_cost_storage = 0.15; #$/MWh\n",
    "battery_eff_up = 0.92;\n",
    "battery_eff_down = 0.92;\n",
    "\n",
    "ngcc_inv_cost = 65400;# $/MW\n",
    "ngcc_fom_cost = 10287.0;# $/MW\n",
    "ngcc_vom_cost = 3.55; #$/MW\n",
    "ngcc_capsize = 250.0;\n",
    "ngcc_heatrate = 7.43*NG_MWh; # MWh of natural gas / MWh of electricity\n",
    "ngcc_fuel_CO2 = 0.05306/NG_MWh; # Tonnes of CO2 / MWh of natural gas\n",
    "\n",
    "ngcc_ccs_inv_cost = 66400;# $/MW\n",
    "ngcc_ccs_fom_cost = 12287.0;# $/MW\n",
    "ngcc_ccs_vom_cost = 3.65; #$/MW\n",
    "ngcc_ccs_capsize = 250.0;\n",
    "ngcc_ccs_heatrate = 7.43*NG_MWh; # MWh of natural gas / MWh of electricity\n",
    "ngcc_ccs_fuel_CO2 = 0.05306/NG_MWh; # Tonnes of CO2 / MWh of natural gas\n",
    "ngcc_ccs_CO2_captured_rate = 0.9; #Tonnes of CO2 captured/Tonness of CO2 produced by fuel\n",
    "\n",
    "electrolyzer_capsize = 2*H2_MWh # MWh of H2\n",
    "electrolyzer_efficiency = 1/(45/H2_MWh) # MWh of H2 / MWh of electricity\n",
    "electrolyzer_inv_cost = 2033333/H2_MWh # $/MW of H2\n",
    "electrolyzer_fom_cost = 30500/H2_MWh # $/MW of H2\n",
    "electrolyzer_vom_cost = 0.0;\n",
    "\n",
    "smr_inv_cost = 1033333/H2_MWh;# $/MW of H2\n",
    "smr_fom_cost = 20500/H2_MWh;# $/MW of H2\n",
    "smr_vom_cost = 0.0; #$/MW of H2\n",
    "smr_capsize = 20*H2_MWh;\n",
    "smr_heatrate = 7.43*NG_MWh; # MWh of natural gas / MWh of H2\n",
    "smr_fuel_CO2 = 0.05306/NG_MWh; # Tonnes of CO2 / MWh of natural gas\n",
    "\n",
    "smr_ccs_inv_cost = 1133333/H2_MWh;# $/MW of H2\n",
    "smr_ccs_fom_cost = 21500/H2_MWh;# $/MW of H2\n",
    "smr_ccs_vom_cost = 0.0; #$/MW of H2\n",
    "smr_ccs_capsize = 20*H2_MWh;\n",
    "smr_ccs_heatrate = 7.43*NG_MWh; # MWh of natural gas / MWh of H2\n",
    "smr_ccs_fuel_CO2 = 0.05306/NG_MWh; # Tonnes of CO2 / MWh of natural gas\n",
    "smr_ccs_CO2_captured_rate = 0.9; #Tonnes of CO2 captured/Tons of CO2 produced by fuel\n"
   ]
  },
  {
   "cell_type": "code",
   "execution_count": 89,
   "metadata": {},
   "outputs": [
    {
     "data": {
      "text/plain": [
       "subperiods (generic function with 1 method)"
      ]
     },
     "metadata": {},
     "output_type": "display_data"
    }
   ],
   "source": [
    "### For now, we use the same temporal resolution and subperiods for every commodity, but MACRO will allow to use different temporal resolution for different commodities\n",
    "\n",
    "hours_per_timestep(c) = macro_settings.Commodities[c][:HoursPerTimeStep];\n",
    "hours_per_subperiod(c) = macro_settings.Commodities[c][:HoursPerSubperiod]\n",
    "time_interval(c)= 1:hours_per_timestep(c):macro_settings.PeriodLength\n",
    "\n",
    "subperiods(c) = collect(Iterators.partition(time_interval(c), Int(hours_per_subperiod(c) / hours_per_timestep(c))),)"
   ]
  },
  {
   "cell_type": "markdown",
   "metadata": {},
   "source": [
    "Let's start from creating an electricity node:"
   ]
  },
  {
   "cell_type": "code",
   "execution_count": 90,
   "metadata": {},
   "outputs": [
    {
     "data": {
      "text/plain": [
       "Node{Electricity}(:E_node, [7850.0, 7424.0, 7107.0, 6947.0, 6922.0, 7045.0, 7307.0, 7544.0, 7946.0, 8340.0  …  10438.0, 10469.0, 11228.0, 11908.0, 11562.0, 9923.0, 9461.0, 9018.0, 8551.0, 8089.0], 1:1:8760, StepRange{Int64, Int64}[1:1:8760], [0.0], [50000.0], Dict{Any, Any}(), Dict{Any, Any}(), Macro.AbstractTypeConstraint[Macro.DemandBalanceConstraint(missing, missing, missing), Macro.MaxNonServedDemandConstraint(missing, missing, missing)])"
      ]
     },
     "metadata": {},
     "output_type": "display_data"
    }
   ],
   "source": [
    "e_node = Node{Electricity}(;\n",
    "    id = Symbol(\"E_node\"),\n",
    "    demand =  electricity_demand,\n",
    "    time_interval = time_interval(Electricity),\n",
    "    subperiods = subperiods(Electricity),\n",
    "    max_nsd = [0.0],\n",
    "    price_nsd = [50000],\n",
    "    constraints = [Macro.DemandBalanceConstraint(),Macro.MaxNonServedDemandConstraint()]\n",
    ")"
   ]
  },
  {
   "cell_type": "markdown",
   "metadata": {},
   "source": [
    "We assign a solar PV generator to this electricity node:"
   ]
  },
  {
   "cell_type": "code",
   "execution_count": 91,
   "metadata": {},
   "outputs": [
    {
     "data": {
      "text/plain": [
       "Resource{Electricity}(Node{Electricity}(:E_node, [7850.0, 7424.0, 7107.0, 6947.0, 6922.0, 7045.0, 7307.0, 7544.0, 7946.0, 8340.0  …  10438.0, 10469.0, 11228.0, 11908.0, 11562.0, 9923.0, 9461.0, 9018.0, 8551.0, 8089.0], 1:1:8760, StepRange{Int64, Int64}[1:1:8760], [0.0], [50000.0], Dict{Any, Any}(), Dict{Any, Any}(), Macro.AbstractTypeConstraint[Macro.DemandBalanceConstraint(missing, missing, missing), Macro.MaxNonServedDemandConstraint(missing, missing, missing)]), :Solar_PV, [0.0, 0.0, 0.0, 0.0, 0.0, 0.0, 0.0, 0.0, 0.1779, 0.429  …  0.3834, 0.2594, 0.078, 0.0, 0.0, 0.0, 0.0, 0.0, 0.0, 0.0], 1.0, Float64[], 1:1:8760, StepRange{Int64, Int64}[1:1:8760], 0.0, Inf, 0.0, true, false, 85300.0, 18760.0, 0.0, Dict{Symbol, Any}(), Dict{Symbol, Any}(), Macro.AbstractTypeConstraint[CapacityConstraint(missing, missing, missing)])"
      ]
     },
     "metadata": {},
     "output_type": "display_data"
    }
   ],
   "source": [
    "solar_pv = Resource{Electricity}(;\n",
    "    id = :Solar_PV,\n",
    "    node = e_node,\n",
    "    time_interval = time_interval(Electricity),\n",
    "    subperiods = subperiods(Electricity),\n",
    "    capacity_factor = solar_capacity_factor,\n",
    "    can_expand = true, \n",
    "    can_retire = false,\n",
    "    existing_capacity = 0.0,\n",
    "    investment_cost = solar_inv_cost,\n",
    "    fixed_om_cost = solar_fom_cost,\n",
    "    constraints = [Macro.CapacityConstraint()]\n",
    ")"
   ]
  },
  {
   "cell_type": "markdown",
   "metadata": {},
   "source": [
    "We can also assigne a battery storage to the node:"
   ]
  },
  {
   "cell_type": "code",
   "execution_count": 92,
   "metadata": {},
   "outputs": [
    {
     "data": {
      "text/plain": [
       "SymmetricStorage{Electricity}(Node{Electricity}(:E_node, [7850.0, 7424.0, 7107.0, 6947.0, 6922.0, 7045.0, 7307.0, 7544.0, 7946.0, 8340.0  …  10438.0, 10469.0, 11228.0, 11908.0, 11562.0, 9923.0, 9461.0, 9018.0, 8551.0, 8089.0], 1:1:8760, StepRange{Int64, Int64}[1:1:8760], [0.0], [50000.0], Dict{Any, Any}(), Dict{Any, Any}(), Macro.AbstractTypeConstraint[Macro.DemandBalanceConstraint(missing, missing, missing), Macro.MaxNonServedDemandConstraint(missing, missing, missing)]), :battery, 1:1:8760, StepRange{Int64, Int64}[1:1:8760], [1.0, 1.0, 1.0, 1.0, 1.0, 1.0, 1.0, 1.0, 1.0, 1.0  …  1.0, 1.0, 1.0, 1.0, 1.0, 1.0, 1.0, 1.0, 1.0, 1.0], 0.0, Inf, 0.0, Inf, 0.0, 0.0, true, false, 19584.0, 22494.0, 0.0, 4895.0, 5622.0, 0.0, 0.15, 0.15, 0.0, 0.92, 0.92, 0.0, 1.0, 10.0, 0.0, Dict{Any, Any}(), Dict{Any, Any}(), Macro.AbstractTypeConstraint[CapacityConstraint(missing, missing, missing), Macro.StorageCapacityConstraint(missing, missing, missing)])"
      ]
     },
     "metadata": {},
     "output_type": "display_data"
    }
   ],
   "source": [
    "battery = SymmetricStorage{Electricity}(;\n",
    "    id = :battery,\n",
    "    node = e_node,\n",
    "    time_interval = time_interval(Electricity),\n",
    "    subperiods = subperiods(Electricity),\n",
    "    can_expand = true,\n",
    "    can_retire = false,\n",
    "    existing_capacity = 0.0,\n",
    "    investment_cost = battery_inv_cost,\n",
    "    investment_cost_storage = battery_inv_cost_storage,\n",
    "    fixed_om_cost = battery_fom_cost,\n",
    "    fixed_om_cost_storage = battery_fom_cost_storage,\n",
    "    variable_om_cost = battery_vom_cost,\n",
    "    variable_om_cost_storage = battery_vom_cost_storage,\n",
    "    efficiency_injection = battery_eff_down,\n",
    "    efficiency_withdrawal = battery_eff_up,\n",
    "    constraints = [Macro.CapacityConstraint(),Macro.StorageCapacityConstraint()]\n",
    ")"
   ]
  },
  {
   "cell_type": "markdown",
   "metadata": {},
   "source": [
    "We also consider a hydrogen demand node:"
   ]
  },
  {
   "cell_type": "code",
   "execution_count": 93,
   "metadata": {},
   "outputs": [
    {
     "data": {
      "text/plain": [
       "Node{Hydrogen}(:H2_node, [53.9946, 40.6626, 58.3275, 133.32, 274.6392, 446.95529999999997, 559.6107, 641.2692, 674.5991999999999, 714.2619  …  901.9097999999999, 864.5802, 820.2512999999999, 725.2608, 603.9396, 460.2873, 349.965, 243.9756, 150.9849, 89.3244], 1:1:8760, StepRange{Int64, Int64}[1:1:8760], [0.0], [0.0], Dict{Any, Any}(), Dict{Any, Any}(), Macro.AbstractTypeConstraint[Macro.DemandBalanceConstraint(missing, missing, missing), Macro.MaxNonServedDemandConstraint(missing, missing, missing)])"
      ]
     },
     "metadata": {},
     "output_type": "display_data"
    }
   ],
   "source": [
    "h2_node = Node{Hydrogen}(;\n",
    "    id = Symbol(\"H2_node\"),\n",
    "    demand =  h2_demand,\n",
    "    time_interval = time_interval(Hydrogen),\n",
    "    subperiods = subperiods(Hydrogen),\n",
    "    max_nsd = [0.0],\n",
    "    price_nsd = [0.0],\n",
    "    constraints = [Macro.DemandBalanceConstraint(),Macro.MaxNonServedDemandConstraint()]\n",
    ")"
   ]
  },
  {
   "cell_type": "markdown",
   "metadata": {},
   "source": [
    "We model an exogenous inflow of natural gas into the system using by introducing a natural gas source node (with zero demand):"
   ]
  },
  {
   "cell_type": "code",
   "execution_count": 94,
   "metadata": {},
   "outputs": [
    {
     "data": {
      "text/plain": [
       "Node{NaturalGas}(:NG_node, [0.0, 0.0, 0.0, 0.0, 0.0, 0.0, 0.0, 0.0, 0.0, 0.0  …  0.0, 0.0, 0.0, 0.0, 0.0, 0.0, 0.0, 0.0, 0.0, 0.0], 1:1:8760, StepRange{Int64, Int64}[1:1:8760], [0.0], [0.0], Dict{Any, Any}(), Dict{Any, Any}(), Macro.AbstractTypeConstraint[Macro.DemandBalanceConstraint(missing, missing, missing)])"
      ]
     },
     "metadata": {},
     "output_type": "display_data"
    }
   ],
   "source": [
    "ng_node = Node{NaturalGas}(;\n",
    "    id = Symbol(\"NG_node\"),\n",
    "    time_interval = time_interval(NaturalGas),\n",
    "    subperiods = subperiods(NaturalGas),\n",
    "    demand = zeros(length(time_interval(NaturalGas))),\n",
    "    max_nsd = [0.0],\n",
    "    price_nsd = [0.0],\n",
    "    constraints = [Macro.DemandBalanceConstraint()]\n",
    ")"
   ]
  },
  {
   "cell_type": "code",
   "execution_count": 95,
   "metadata": {},
   "outputs": [
    {
     "data": {
      "text/plain": [
       "Resource{NaturalGas}(Node{NaturalGas}(:NG_node, [0.0, 0.0, 0.0, 0.0, 0.0, 0.0, 0.0, 0.0, 0.0, 0.0  …  0.0, 0.0, 0.0, 0.0, 0.0, 0.0, 0.0, 0.0, 0.0, 0.0], 1:1:8760, StepRange{Int64, Int64}[1:1:8760], [0.0], [0.0], Dict{Any, Any}(), Dict{Any, Any}(), Macro.AbstractTypeConstraint[Macro.DemandBalanceConstraint(missing, missing, missing)]), :NG_Source, Float64[], 1.0, [18.01610783350264, 18.01610783350264, 18.01610783350264, 18.01610783350264, 18.01610783350264, 18.01610783350264, 18.01610783350264, 18.01610783350264, 18.01610783350264, 18.01610783350264  …  14.603966198369564, 14.603966198369564, 14.603966198369564, 14.603966198369564, 14.603966198369564, 14.603966198369564, 14.603966198369564, 14.603966198369564, 14.603966198369564, 14.603966198369564], 1:1:8760, StepRange{Int64, Int64}[1:1:8760], 0.0, Inf, Inf, false, false, 0.0, 0.0, 0.0, Dict{Symbol, Any}(), Dict{Symbol, Any}(), Macro.AbstractTypeConstraint[])"
      ]
     },
     "metadata": {},
     "output_type": "display_data"
    }
   ],
   "source": [
    "ng_source = Resource{NaturalGas}(;\n",
    "id = :NG_Source,\n",
    "node = ng_node,\n",
    "time_interval = time_interval(NaturalGas),\n",
    "subperiods = subperiods(NaturalGas),\n",
    "can_expand = false, \n",
    "can_retire = false,\n",
    "price = ng_fuel_price,\n",
    "existing_capacity = Inf,\n",
    ")"
   ]
  },
  {
   "cell_type": "markdown",
   "metadata": {},
   "source": [
    "We define an atmospheric CO2 node (which is also going to provide input int DAC with CO2 from the atmosphere to capture):"
   ]
  },
  {
   "cell_type": "code",
   "execution_count": 96,
   "metadata": {},
   "outputs": [
    {
     "data": {
      "text/plain": [
       "Node{CO2}(:CO2_node, [0.0, 0.0, 0.0, 0.0, 0.0, 0.0, 0.0, 0.0, 0.0, 0.0  …  0.0, 0.0, 0.0, 0.0, 0.0, 0.0, 0.0, 0.0, 0.0, 0.0], 1:1:8760, StepRange{Int64, Int64}[1:1:8760], [0.0], [0.0], Dict{Any, Any}(), Dict{Any, Any}(), Macro.AbstractTypeConstraint[])"
      ]
     },
     "metadata": {},
     "output_type": "display_data"
    }
   ],
   "source": [
    "co2_node = Node{CO2}(;\n",
    "id = Symbol(\"CO2_node\"),\n",
    "time_interval = time_interval(CO2),\n",
    "subperiods = subperiods(CO2),\n",
    "demand = zeros(length(time_interval(CO2))),\n",
    "max_nsd = [0.0],\n",
    "price_nsd = [0.0]\n",
    ")\n"
   ]
  },
  {
   "cell_type": "markdown",
   "metadata": {},
   "source": [
    "We define captured CO2 node and sink to account for captured CO2. Instead of a sink, we could also define a storage resource!"
   ]
  },
  {
   "cell_type": "code",
   "execution_count": 97,
   "metadata": {},
   "outputs": [
    {
     "data": {
      "text/plain": [
       "Sink{CO2}(Node{CO2}(:CO2_captured_node, [0.0, 0.0, 0.0, 0.0, 0.0, 0.0, 0.0, 0.0, 0.0, 0.0  …  0.0, 0.0, 0.0, 0.0, 0.0, 0.0, 0.0, 0.0, 0.0, 0.0], 1:1:8760, StepRange{Int64, Int64}[1:1:8760], [0.0], [0.0], Dict{Any, Any}(), Dict{Any, Any}(), Macro.AbstractTypeConstraint[Macro.DemandBalanceConstraint(missing, missing, missing)]), :CO2_captured_sink, Float64[], 1:1:8760, StepRange{Int64, Int64}[1:1:8760], Dict{Symbol, Any}(), Macro.AbstractTypeConstraint[])"
      ]
     },
     "metadata": {},
     "output_type": "display_data"
    }
   ],
   "source": [
    "co2_captured_node = Node{CO2}(;\n",
    "id = Symbol(\"CO2_captured_node\"),\n",
    "time_interval = time_interval(CO2),\n",
    "subperiods = subperiods(CO2),\n",
    "demand = zeros(length(time_interval(CO2))),\n",
    "max_nsd = [0.0],\n",
    "price_nsd = [0.0],\n",
    "constraints = [Macro.DemandBalanceConstraint()]\n",
    ")\n",
    "co2_captured_sink = Sink{CO2}(;\n",
    "node = co2_captured_node,\n",
    "id = Symbol(\"CO2_captured_sink\"),\n",
    "time_interval = time_interval(CO2),\n",
    "subperiods = subperiods(CO2),\n",
    ")"
   ]
  },
  {
   "cell_type": "markdown",
   "metadata": {},
   "source": [
    "We are now ready to define a natural gas plant! Note that we require two stoichiometry balances:\n",
    "\n",
    "Heat_Rate $\\times$ Electricity = NaturalGas\n",
    "\n",
    "Fuel_CO2 $\\times$ NaturalGas = CO2\n",
    "\n",
    "This transformation has 3 edges: each edge carries a specific commodity flow"
   ]
  },
  {
   "cell_type": "code",
   "execution_count": 98,
   "metadata": {},
   "outputs": [
    {
     "data": {
      "text/plain": [
       "TEdge{CO2}(:CO2, Node{CO2}(:CO2_node, [0.0, 0.0, 0.0, 0.0, 0.0, 0.0, 0.0, 0.0, 0.0, 0.0  …  0.0, 0.0, 0.0, 0.0, 0.0, 0.0, 0.0, 0.0, 0.0, 0.0], 1:1:8760, StepRange{Int64, Int64}[1:1:8760], [0.0], [0.0], Dict{Any, Any}(), Dict{Any, Any}(), Macro.AbstractTypeConstraint[]), Transformation{NaturalGasPower}(:NGCC, 1:1:8760, [:energy, :emissions], Dict{Symbol, TEdge}(:NG => TEdge{NaturalGas}(:NG, Node{NaturalGas}(:NG_node, [0.0, 0.0, 0.0, 0.0, 0.0, 0.0, 0.0, 0.0, 0.0, 0.0  …  0.0, 0.0, 0.0, 0.0, 0.0, 0.0, 0.0, 0.0, 0.0, 0.0], 1:1:8760, StepRange{Int64, Int64}[1:1:8760], [0.0], [0.0], Dict{Any, Any}(), Dict{Any, Any}(), Macro.AbstractTypeConstraint[Macro.DemandBalanceConstraint(missing, missing, missing)]), Transformation{NaturalGasPower}(#= circular reference @-3 =#), :input, false, false, false, 1.0, 1:1:8760, StepRange{Int64, Int64}[1:1:8760], Dict(:emissions => 0.181048235160161, :energy => 1.0), 0.0, Inf, 0.0, 0.0, 0.0, 0.0, 0.0, false, 0.0, 0.0, 0, 0, 0.0, Dict{Any, Any}(), Dict{Any, Any}(), Macro.AbstractTypeConstraint[]), :CO2 => TEdge{CO2}(#= circular reference @-3 =#), :E => TEdge{Electricity}(:E, Node{Electricity}(:E_node, [7850.0, 7424.0, 7107.0, 6947.0, 6922.0, 7045.0, 7307.0, 7544.0, 7946.0, 8340.0  …  10438.0, 10469.0, 11228.0, 11908.0, 11562.0, 9923.0, 9461.0, 9018.0, 8551.0, 8089.0], 1:1:8760, StepRange{Int64, Int64}[1:1:8760], [0.0], [50000.0], Dict{Any, Any}(), Dict{Any, Any}(), Macro.AbstractTypeConstraint[Macro.DemandBalanceConstraint(missing, missing, missing), Macro.MaxNonServedDemandConstraint(missing, missing, missing)]), Transformation{NaturalGasPower}(#= circular reference @-3 =#), :output, true, false, true, 250.0, 1:1:8760, StepRange{Int64, Int64}[1:1:8760], Dict(:emissions => 0.0, :energy => 2.1775180500999998), 0.0, Inf, 0.0, 65400.0, 10287.0, 3.55, 0.0, false, 0.0, 0.0, 0, 0, 0.0, Dict{Any, Any}(), Dict{Any, Any}(), Macro.AbstractTypeConstraint[CapacityConstraint(missing, missing, missing)])), Dict{Any, Any}(), Macro.AbstractTypeConstraint[Macro.StoichiometryBalanceConstraint(missing, missing, missing)]), :output, false, false, false, 1.0, 1:1:8760, StepRange{Int64, Int64}[1:1:8760], Dict(:emissions => 1.0, :energy => 0.0), 0.0, Inf, 0.0, 0.0, 0.0, 0.0, 0.0, false, 0.0, 0.0, 0, 0, 0.0, Dict{Any, Any}(), Dict{Any, Any}(), Macro.AbstractTypeConstraint[])"
      ]
     },
     "metadata": {},
     "output_type": "display_data"
    }
   ],
   "source": [
    "ngcc = Transformation{NaturalGasPower}(;\n",
    "id = :NGCC,\n",
    "time_interval = time_interval(Electricity),\n",
    "stoichiometry_balance_names = [:energy,:emissions],\n",
    "constraints = [Macro.StoichiometryBalanceConstraint()]\n",
    ")\n",
    "\n",
    "ngcc.TEdges[:E] = TEdge{Electricity}(;\n",
    "id = :E,\n",
    "node = e_node,\n",
    "transformation = ngcc,\n",
    "direction = :output,\n",
    "has_planning_variables = true,\n",
    "can_expand = true,\n",
    "can_retire = false,\n",
    "capacity_size = ngcc_capsize,\n",
    "time_interval = time_interval(Electricity),\n",
    "subperiods = subperiods(Electricity),\n",
    "st_coeff = Dict(:energy=>ngcc_heatrate,:emissions=>0.0),\n",
    "existing_capacity = 0.0,\n",
    "investment_cost = ngcc_inv_cost,\n",
    "fixed_om_cost = ngcc_fom_cost,\n",
    "variable_om_cost = ngcc_vom_cost,\n",
    "constraints = [CapacityConstraint()]\n",
    ")\n",
    "\n",
    "ngcc.TEdges[:NG] = TEdge{NaturalGas}(;\n",
    "id =  :NG,\n",
    "node = ng_node,\n",
    "transformation = ngcc,\n",
    "direction = :input,\n",
    "has_planning_variables = false,\n",
    "time_interval = time_interval(NaturalGas),\n",
    "subperiods = subperiods(NaturalGas),\n",
    "st_coeff = Dict(:energy=>1.0,:emissions=>ngcc_fuel_CO2)\n",
    ")\n",
    "\n",
    "ngcc.TEdges[:CO2] = TEdge{CO2}(;\n",
    "    id = :CO2,\n",
    "    node = co2_node,\n",
    "    transformation = ngcc,\n",
    "    direction = :output,\n",
    "    has_planning_variables = false,\n",
    "    time_interval = time_interval(CO2),\n",
    "    subperiods = subperiods(CO2),\n",
    "    st_coeff = Dict(:energy=>0.0,:emissions=>1.0)\n",
    ")"
   ]
  },
  {
   "cell_type": "markdown",
   "metadata": {},
   "source": [
    "We are now ready to define a natural gas plant with CCS! Note that we require three stoichiometry balances:\n",
    "\n",
    "Heat_Rate $\\times$ Electricity = NaturalGas\n",
    "\n",
    "Fuel_CO2 $\\times$ NaturalGas $\\times$ (1-CCS rate) = CO2\n",
    "\n",
    "Fuel_CO2 $\\times$ NaturalGas $\\times$ CCS rate = CO2_Captured\n",
    "\n",
    "This transformation has 4 edges: each edge carries a specific commodity flow"
   ]
  },
  {
   "cell_type": "code",
   "execution_count": 99,
   "metadata": {},
   "outputs": [
    {
     "data": {
      "text/plain": [
       "TEdge{CO2}(:CO2_Captured, Node{CO2}(:CO2_captured_node, [0.0, 0.0, 0.0, 0.0, 0.0, 0.0, 0.0, 0.0, 0.0, 0.0  …  0.0, 0.0, 0.0, 0.0, 0.0, 0.0, 0.0, 0.0, 0.0, 0.0], 1:1:8760, StepRange{Int64, Int64}[1:1:8760], [0.0], [0.0], Dict{Any, Any}(), Dict{Any, Any}(), Macro.AbstractTypeConstraint[Macro.DemandBalanceConstraint(missing, missing, missing)]), Transformation{NaturalGasPowerCCS}(:NGCC_CCS, 1:1:8760, [:energy, :emissions, :captured_emissions], Dict{Symbol, TEdge}(:CO2_Captured => TEdge{CO2}(#= circular reference @-3 =#), :NG => TEdge{NaturalGas}(:NG, Node{NaturalGas}(:NG_node, [0.0, 0.0, 0.0, 0.0, 0.0, 0.0, 0.0, 0.0, 0.0, 0.0  …  0.0, 0.0, 0.0, 0.0, 0.0, 0.0, 0.0, 0.0, 0.0, 0.0], 1:1:8760, StepRange{Int64, Int64}[1:1:8760], [0.0], [0.0], Dict{Any, Any}(), Dict{Any, Any}(), Macro.AbstractTypeConstraint[Macro.DemandBalanceConstraint(missing, missing, missing)]), Transformation{NaturalGasPowerCCS}(#= circular reference @-3 =#), :input, false, false, false, 1.0, 1:1:8760, StepRange{Int64, Int64}[1:1:8760], Dict(:emissions => 0.018104823516016097, :energy => 1.0, :captured_emissions => 0.16294341164414491), 0.0, Inf, 0.0, 0.0, 0.0, 0.0, 0.0, false, 0.0, 0.0, 0, 0, 0.0, Dict{Any, Any}(), Dict{Any, Any}(), Macro.AbstractTypeConstraint[]), :CO2 => TEdge{CO2}(:CO2, Node{CO2}(:CO2_node, [0.0, 0.0, 0.0, 0.0, 0.0, 0.0, 0.0, 0.0, 0.0, 0.0  …  0.0, 0.0, 0.0, 0.0, 0.0, 0.0, 0.0, 0.0, 0.0, 0.0], 1:1:8760, StepRange{Int64, Int64}[1:1:8760], [0.0], [0.0], Dict{Any, Any}(), Dict{Any, Any}(), Macro.AbstractTypeConstraint[]), Transformation{NaturalGasPowerCCS}(#= circular reference @-3 =#), :output, false, false, false, 1.0, 1:1:8760, StepRange{Int64, Int64}[1:1:8760], Dict(:emissions => 1.0, :energy => 0.0, :captured_emissions => 0.0), 0.0, Inf, 0.0, 0.0, 0.0, 0.0, 0.0, false, 0.0, 0.0, 0, 0, 0.0, Dict{Any, Any}(), Dict{Any, Any}(), Macro.AbstractTypeConstraint[]), :E => TEdge{Electricity}(:E, Node{Electricity}(:E_node, [7850.0, 7424.0, 7107.0, 6947.0, 6922.0, 7045.0, 7307.0, 7544.0, 7946.0, 8340.0  …  10438.0, 10469.0, 11228.0, 11908.0, 11562.0, 9923.0, 9461.0, 9018.0, 8551.0, 8089.0], 1:1:8760, StepRange{Int64, Int64}[1:1:8760], [0.0], [50000.0], Dict{Any, Any}(), Dict{Any, Any}(), Macro.AbstractTypeConstraint[Macro.DemandBalanceConstraint(missing, missing, missing), Macro.MaxNonServedDemandConstraint(missing, missing, missing)]), Transformation{NaturalGasPowerCCS}(#= circular reference @-3 =#), :output, true, false, true, 250.0, 1:1:8760, StepRange{Int64, Int64}[1:1:8760], Dict(:emissions => 0.0, :energy => 2.1775180500999998, :captured_emissions => 0.0), 0.0, Inf, 0.0, 66400.0, 12287.0, 3.65, 0.0, false, 0.0, 0.0, 0, 0, 0.0, Dict{Any, Any}(), Dict{Any, Any}(), Macro.AbstractTypeConstraint[CapacityConstraint(missing, missing, missing)])), Dict{Any, Any}(), Macro.AbstractTypeConstraint[Macro.StoichiometryBalanceConstraint(missing, missing, missing)]), :output, false, false, false, 1.0, 1:1:8760, StepRange{Int64, Int64}[1:1:8760], Dict(:emissions => 0.0, :energy => 0.0, :captured_emissions => 1.0), 0.0, Inf, 0.0, 0.0, 0.0, 0.0, 0.0, false, 0.0, 0.0, 0, 0, 0.0, Dict{Any, Any}(), Dict{Any, Any}(), Macro.AbstractTypeConstraint[])"
      ]
     },
     "metadata": {},
     "output_type": "display_data"
    }
   ],
   "source": [
    "ngcc_ccs = Transformation{NaturalGasPowerCCS}(;\n",
    "id = :NGCC_CCS,\n",
    "time_interval = time_interval(Electricity),\n",
    "stoichiometry_balance_names = [:energy,:emissions,:captured_emissions],\n",
    "constraints = [Macro.StoichiometryBalanceConstraint()]\n",
    ")\n",
    "\n",
    "ngcc_ccs.TEdges[:E] = TEdge{Electricity}(;\n",
    "id = :E,\n",
    "node = e_node,\n",
    "transformation = ngcc_ccs,\n",
    "direction = :output,\n",
    "has_planning_variables = true,\n",
    "can_expand = true,\n",
    "can_retire = false,\n",
    "capacity_size = ngcc_ccs_capsize,\n",
    "time_interval = time_interval(Electricity),\n",
    "subperiods = subperiods(Electricity),\n",
    "st_coeff = Dict(:energy=>ngcc_ccs_heatrate,:emissions=>0.0,:captured_emissions=>0.0),\n",
    "existing_capacity = 0.0,\n",
    "investment_cost = ngcc_ccs_inv_cost,\n",
    "fixed_om_cost = ngcc_ccs_fom_cost,\n",
    "variable_om_cost = ngcc_ccs_vom_cost,\n",
    "constraints = [CapacityConstraint()]\n",
    ")\n",
    "\n",
    "ngcc_ccs.TEdges[:NG] = TEdge{NaturalGas}(;\n",
    "id =  :NG,\n",
    "node = ng_node,\n",
    "transformation = ngcc_ccs,\n",
    "direction = :input,\n",
    "has_planning_variables = false,\n",
    "time_interval = time_interval(NaturalGas),\n",
    "subperiods = subperiods(NaturalGas),\n",
    "st_coeff = Dict(:energy=>1.0,:emissions=>ngcc_ccs_fuel_CO2*(1-ngcc_ccs_CO2_captured_rate),:captured_emissions=>ngcc_ccs_fuel_CO2*ngcc_ccs_CO2_captured_rate)\n",
    ")\n",
    "\n",
    "ngcc_ccs.TEdges[:CO2] = TEdge{CO2}(;\n",
    "    id = :CO2,\n",
    "    node = co2_node,\n",
    "    transformation = ngcc_ccs,\n",
    "    direction = :output,\n",
    "    has_planning_variables = false,\n",
    "    time_interval = time_interval(CO2),\n",
    "    subperiods = subperiods(CO2),\n",
    "    st_coeff = Dict(:energy=>0.0,:emissions=>1.0,:captured_emissions=>0.0)\n",
    ")\n",
    "\n",
    "ngcc_ccs.TEdges[:CO2_Captured]=TEdge{CO2}(;\n",
    "    id = :CO2_Captured,\n",
    "    node = co2_captured_node,\n",
    "    transformation = ngcc_ccs,\n",
    "    direction = :output,\n",
    "    has_planning_variables = false,\n",
    "    time_interval = time_interval(CO2),\n",
    "    subperiods = subperiods(CO2),\n",
    "    st_coeff = Dict(:energy=>0.0,:emissions=>0.0,:captured_emissions=>1.0)\n",
    ")"
   ]
  },
  {
   "cell_type": "markdown",
   "metadata": {},
   "source": [
    "We can also create an electrolyzer, which is defined by a single stoichiometry balance: electrolyzer_efficiency $\\times$ Electricity = H2"
   ]
  },
  {
   "cell_type": "code",
   "execution_count": 100,
   "metadata": {},
   "outputs": [
    {
     "data": {
      "text/plain": [
       "TEdge{Electricity}(:E, Node{Electricity}(:E_node, [7850.0, 7424.0, 7107.0, 6947.0, 6922.0, 7045.0, 7307.0, 7544.0, 7946.0, 8340.0  …  10438.0, 10469.0, 11228.0, 11908.0, 11562.0, 9923.0, 9461.0, 9018.0, 8551.0, 8089.0], 1:1:8760, StepRange{Int64, Int64}[1:1:8760], [0.0], [50000.0], Dict{Any, Any}(), Dict{Any, Any}(), Macro.AbstractTypeConstraint[Macro.DemandBalanceConstraint(missing, missing, missing), Macro.MaxNonServedDemandConstraint(missing, missing, missing)]), Transformation{Electrolyzer}(:Electrolyzer, 1:1:8760, [:energy], Dict{Symbol, TEdge}(:H2 => TEdge{Hydrogen}(:H2, Node{Hydrogen}(:H2_node, [53.9946, 40.6626, 58.3275, 133.32, 274.6392, 446.95529999999997, 559.6107, 641.2692, 674.5991999999999, 714.2619  …  901.9097999999999, 864.5802, 820.2512999999999, 725.2608, 603.9396, 460.2873, 349.965, 243.9756, 150.9849, 89.3244], 1:1:8760, StepRange{Int64, Int64}[1:1:8760], [0.0], [0.0], Dict{Any, Any}(), Dict{Any, Any}(), Macro.AbstractTypeConstraint[Macro.DemandBalanceConstraint(missing, missing, missing), Macro.MaxNonServedDemandConstraint(missing, missing, missing)]), Transformation{Electrolyzer}(#= circular reference @-3 =#), :output, true, false, true, 66.66, 1:1:8760, StepRange{Int64, Int64}[1:1:8760], Dict(:energy => 1.0), 0.0, Inf, 0.0, 61006.090609060906, 915.0915091509152, 0.0, 0.0, false, 0.0, 0.0, 0, 0, 0.0, Dict{Any, Any}(), Dict{Any, Any}(), Macro.AbstractTypeConstraint[CapacityConstraint(missing, missing, missing)]), :E => TEdge{Electricity}(#= circular reference @-3 =#)), Dict{Any, Any}(), Macro.AbstractTypeConstraint[Macro.StoichiometryBalanceConstraint(missing, missing, missing)]), :input, false, false, false, 1.0, 1:1:8760, StepRange{Int64, Int64}[1:1:8760], Dict(:energy => 0.7406666666666667), 0.0, Inf, 0.0, 0.0, 0.0, 0.0, 0.0, false, 0.0, 0.0, 0, 0, 0.0, Dict{Any, Any}(), Dict{Any, Any}(), Macro.AbstractTypeConstraint[])"
      ]
     },
     "metadata": {},
     "output_type": "display_data"
    }
   ],
   "source": [
    "electrolyzer = Transformation{Electrolyzer}(;\n",
    "                id = :Electrolyzer,\n",
    "                time_interval = time_interval(Electricity),\n",
    "                stoichiometry_balance_names = [:energy],\n",
    "                constraints = [Macro.StoichiometryBalanceConstraint()]\n",
    "                )\n",
    "\n",
    "electrolyzer.TEdges[:H2] = TEdge{Hydrogen}(;\n",
    "    id = :H2,\n",
    "    node = h2_node,\n",
    "    transformation = electrolyzer,\n",
    "    direction = :output,\n",
    "    has_planning_variables = true,\n",
    "    can_expand = true,\n",
    "    can_retire = false,\n",
    "    capacity_size = electrolyzer_capsize,\n",
    "    time_interval = time_interval(Hydrogen),\n",
    "    subperiods = subperiods(Hydrogen),\n",
    "    st_coeff = Dict(:energy=>1.0),\n",
    "    existing_capacity = 0.0,\n",
    "    investment_cost = electrolyzer_inv_cost,\n",
    "    fixed_om_cost = electrolyzer_fom_cost,\n",
    "    variable_om_cost = electrolyzer_vom_cost,\n",
    "    constraints = [CapacityConstraint()]\n",
    ")\n",
    "\n",
    "electrolyzer.TEdges[:E] = TEdge{Electricity}(;\n",
    "    id = :E,\n",
    "    node = e_node,\n",
    "    transformation = electrolyzer,\n",
    "    direction = :input,\n",
    "    has_planning_variables = false,\n",
    "    time_interval = time_interval(Electricity),\n",
    "    subperiods = subperiods(Electricity),\n",
    "    st_coeff = Dict(:energy=>electrolyzer_efficiency)\n",
    ")"
   ]
  },
  {
   "cell_type": "markdown",
   "metadata": {},
   "source": [
    "We are now ready to define a natural gas hydrogen plant or SMR similar to a natural gas power plant"
   ]
  },
  {
   "cell_type": "code",
   "execution_count": 101,
   "metadata": {},
   "outputs": [
    {
     "data": {
      "text/plain": [
       "TEdge{CO2}(:CO2, Node{CO2}(:CO2_node, [0.0, 0.0, 0.0, 0.0, 0.0, 0.0, 0.0, 0.0, 0.0, 0.0  …  0.0, 0.0, 0.0, 0.0, 0.0, 0.0, 0.0, 0.0, 0.0, 0.0], 1:1:8760, StepRange{Int64, Int64}[1:1:8760], [0.0], [0.0], Dict{Any, Any}(), Dict{Any, Any}(), Macro.AbstractTypeConstraint[]), Transformation{NaturalGasHydrogen}(:SMR, 1:1:8760, [:energy, :emissions], Dict{Symbol, TEdge}(:NG => TEdge{NaturalGas}(:NG, Node{NaturalGas}(:NG_node, [0.0, 0.0, 0.0, 0.0, 0.0, 0.0, 0.0, 0.0, 0.0, 0.0  …  0.0, 0.0, 0.0, 0.0, 0.0, 0.0, 0.0, 0.0, 0.0, 0.0], 1:1:8760, StepRange{Int64, Int64}[1:1:8760], [0.0], [0.0], Dict{Any, Any}(), Dict{Any, Any}(), Macro.AbstractTypeConstraint[Macro.DemandBalanceConstraint(missing, missing, missing)]), Transformation{NaturalGasHydrogen}(#= circular reference @-3 =#), :input, false, false, false, 1.0, 1:1:8760, StepRange{Int64, Int64}[1:1:8760], Dict(:emissions => 0.181048235160161, :energy => 1.0), 0.0, Inf, 0.0, 0.0, 0.0, 0.0, 0.0, false, 0.0, 0.0, 0, 0, 0.0, Dict{Any, Any}(), Dict{Any, Any}(), Macro.AbstractTypeConstraint[]), :H2 => TEdge{Hydrogen}(:H2, Node{Hydrogen}(:H2_node, [53.9946, 40.6626, 58.3275, 133.32, 274.6392, 446.95529999999997, 559.6107, 641.2692, 674.5991999999999, 714.2619  …  901.9097999999999, 864.5802, 820.2512999999999, 725.2608, 603.9396, 460.2873, 349.965, 243.9756, 150.9849, 89.3244], 1:1:8760, StepRange{Int64, Int64}[1:1:8760], [0.0], [0.0], Dict{Any, Any}(), Dict{Any, Any}(), Macro.AbstractTypeConstraint[Macro.DemandBalanceConstraint(missing, missing, missing), Macro.MaxNonServedDemandConstraint(missing, missing, missing)]), Transformation{NaturalGasHydrogen}(#= circular reference @-3 =#), :output, true, false, true, 666.5999999999999, 1:1:8760, StepRange{Int64, Int64}[1:1:8760], Dict(:emissions => 0.0, :energy => 2.1775180500999998), 0.0, Inf, 0.0, 31003.090309030904, 615.0615061506151, 0.0, 0.0, false, 0.0, 0.0, 0, 0, 0.0, Dict{Any, Any}(), Dict{Any, Any}(), Macro.AbstractTypeConstraint[CapacityConstraint(missing, missing, missing)]), :CO2 => TEdge{CO2}(#= circular reference @-3 =#)), Dict{Any, Any}(), Macro.AbstractTypeConstraint[Macro.StoichiometryBalanceConstraint(missing, missing, missing)]), :output, false, false, false, 1.0, 1:1:8760, StepRange{Int64, Int64}[1:1:8760], Dict(:emissions => 1.0, :energy => 0.0), 0.0, Inf, 0.0, 0.0, 0.0, 0.0, 0.0, false, 0.0, 0.0, 0, 0, 0.0, Dict{Any, Any}(), Dict{Any, Any}(), Macro.AbstractTypeConstraint[])"
      ]
     },
     "metadata": {},
     "output_type": "display_data"
    }
   ],
   "source": [
    "smr = Transformation{NaturalGasHydrogen}(;\n",
    "                id = :SMR,\n",
    "                time_interval = time_interval(Hydrogen),\n",
    "                stoichiometry_balance_names = [:energy,:emissions],\n",
    "                constraints = [Macro.StoichiometryBalanceConstraint()]\n",
    "                )\n",
    "\n",
    "smr.TEdges[:H2] = TEdge{Hydrogen}(;\n",
    "    id = :H2,\n",
    "    node = h2_node,\n",
    "    transformation = smr,\n",
    "    direction = :output,\n",
    "    has_planning_variables = true,\n",
    "    can_expand = true,\n",
    "    can_retire = false,\n",
    "    capacity_size = smr_capsize,\n",
    "    time_interval = time_interval(Hydrogen),\n",
    "    subperiods = subperiods(Hydrogen),\n",
    "    st_coeff = Dict(:energy=>smr_heatrate,:emissions=>0.0),\n",
    "    existing_capacity = 0.0,\n",
    "    investment_cost = smr_inv_cost,\n",
    "    fixed_om_cost = smr_fom_cost,\n",
    "    variable_om_cost = smr_vom_cost,\n",
    "    constraints = [CapacityConstraint()]\n",
    ")\n",
    "\n",
    "smr.TEdges[:NG] = TEdge{NaturalGas}(;\n",
    "id =  :NG,\n",
    "node = ng_node,\n",
    "transformation = smr,\n",
    "direction = :input,\n",
    "has_planning_variables = false,\n",
    "time_interval = time_interval(NaturalGas),\n",
    "subperiods = subperiods(NaturalGas),\n",
    "st_coeff = Dict(:energy=>1.0,:emissions=>smr_fuel_CO2)\n",
    ")\n",
    "\n",
    "smr.TEdges[:CO2] = TEdge{CO2}(;\n",
    "    id = :CO2,\n",
    "    node = co2_node,\n",
    "    transformation = smr,\n",
    "    direction = :output,\n",
    "    has_planning_variables = false,\n",
    "    time_interval = time_interval(CO2),\n",
    "    subperiods = subperiods(CO2),\n",
    "    st_coeff = Dict(:energy=>0.0,:emissions=>1.0)\n",
    ")"
   ]
  },
  {
   "cell_type": "markdown",
   "metadata": {},
   "source": [
    "Now, let's add a SMR hydrogen plant with CCS, similar to a natural gas power plant with CCS"
   ]
  },
  {
   "cell_type": "code",
   "execution_count": 102,
   "metadata": {},
   "outputs": [
    {
     "data": {
      "text/plain": [
       "TEdge{CO2}(:CO2_Captured, Node{CO2}(:CO2_captured_node, [0.0, 0.0, 0.0, 0.0, 0.0, 0.0, 0.0, 0.0, 0.0, 0.0  …  0.0, 0.0, 0.0, 0.0, 0.0, 0.0, 0.0, 0.0, 0.0, 0.0], 1:1:8760, StepRange{Int64, Int64}[1:1:8760], [0.0], [0.0], Dict{Any, Any}(), Dict{Any, Any}(), Macro.AbstractTypeConstraint[Macro.DemandBalanceConstraint(missing, missing, missing)]), Transformation{NaturalGasHydrogenCCS}(:SMR_CCS, 1:1:8760, [:energy, :emissions, :captured_emissions], Dict{Symbol, TEdge}(:CO2_Captured => TEdge{CO2}(#= circular reference @-3 =#), :NG => TEdge{NaturalGas}(:NG, Node{NaturalGas}(:NG_node, [0.0, 0.0, 0.0, 0.0, 0.0, 0.0, 0.0, 0.0, 0.0, 0.0  …  0.0, 0.0, 0.0, 0.0, 0.0, 0.0, 0.0, 0.0, 0.0, 0.0], 1:1:8760, StepRange{Int64, Int64}[1:1:8760], [0.0], [0.0], Dict{Any, Any}(), Dict{Any, Any}(), Macro.AbstractTypeConstraint[Macro.DemandBalanceConstraint(missing, missing, missing)]), Transformation{NaturalGasHydrogenCCS}(#= circular reference @-3 =#), :input, false, false, false, 1.0, 1:1:8760, StepRange{Int64, Int64}[1:1:8760], Dict(:emissions => 0.018104823516016097, :energy => 1.0, :captured_emissions => 0.16294341164414491), 0.0, Inf, 0.0, 0.0, 0.0, 0.0, 0.0, false, 0.0, 0.0, 0, 0, 0.0, Dict{Any, Any}(), Dict{Any, Any}(), Macro.AbstractTypeConstraint[]), :H2 => TEdge{Hydrogen}(:H2, Node{Hydrogen}(:H2_node, [53.9946, 40.6626, 58.3275, 133.32, 274.6392, 446.95529999999997, 559.6107, 641.2692, 674.5991999999999, 714.2619  …  901.9097999999999, 864.5802, 820.2512999999999, 725.2608, 603.9396, 460.2873, 349.965, 243.9756, 150.9849, 89.3244], 1:1:8760, StepRange{Int64, Int64}[1:1:8760], [0.0], [0.0], Dict{Any, Any}(), Dict{Any, Any}(), Macro.AbstractTypeConstraint[Macro.DemandBalanceConstraint(missing, missing, missing), Macro.MaxNonServedDemandConstraint(missing, missing, missing)]), Transformation{NaturalGasHydrogenCCS}(#= circular reference @-3 =#), :output, true, false, true, 666.5999999999999, 1:1:8760, StepRange{Int64, Int64}[1:1:8760], Dict(:emissions => 0.0, :energy => 2.1775180500999998, :captured_emissions => 0.0), 0.0, Inf, 0.0, 34003.390339033904, 645.0645064506451, 0.0, 0.0, false, 0.0, 0.0, 0, 0, 0.0, Dict{Any, Any}(), Dict{Any, Any}(), Macro.AbstractTypeConstraint[CapacityConstraint(missing, missing, missing)]), :CO2 => TEdge{CO2}(:CO2, Node{CO2}(:CO2_node, [0.0, 0.0, 0.0, 0.0, 0.0, 0.0, 0.0, 0.0, 0.0, 0.0  …  0.0, 0.0, 0.0, 0.0, 0.0, 0.0, 0.0, 0.0, 0.0, 0.0], 1:1:8760, StepRange{Int64, Int64}[1:1:8760], [0.0], [0.0], Dict{Any, Any}(), Dict{Any, Any}(), Macro.AbstractTypeConstraint[]), Transformation{NaturalGasHydrogenCCS}(#= circular reference @-3 =#), :output, false, false, false, 1.0, 1:1:8760, StepRange{Int64, Int64}[1:1:8760], Dict(:emissions => 1.0, :energy => 0.0, :captured_emissions => 0.0), 0.0, Inf, 0.0, 0.0, 0.0, 0.0, 0.0, false, 0.0, 0.0, 0, 0, 0.0, Dict{Any, Any}(), Dict{Any, Any}(), Macro.AbstractTypeConstraint[])), Dict{Any, Any}(), Macro.AbstractTypeConstraint[Macro.StoichiometryBalanceConstraint(missing, missing, missing)]), :output, false, false, false, 1.0, 1:1:8760, StepRange{Int64, Int64}[1:1:8760], Dict(:emissions => 0.0, :energy => 0.0, :captured_emissions => 1.0), 0.0, Inf, 0.0, 0.0, 0.0, 0.0, 0.0, false, 0.0, 0.0, 0, 0, 0.0, Dict{Any, Any}(), Dict{Any, Any}(), Macro.AbstractTypeConstraint[])"
      ]
     },
     "metadata": {},
     "output_type": "display_data"
    }
   ],
   "source": [
    "smr_ccs = Transformation{NaturalGasHydrogenCCS}(;\n",
    "                id = :SMR_CCS,\n",
    "                time_interval = time_interval(Hydrogen),\n",
    "                stoichiometry_balance_names = [:energy,:emissions,:captured_emissions],\n",
    "                constraints = [Macro.StoichiometryBalanceConstraint()]\n",
    "                )\n",
    "\n",
    "smr_ccs.TEdges[:H2] = TEdge{Hydrogen}(;\n",
    "    id = :H2,\n",
    "    node = h2_node,\n",
    "    transformation = smr_ccs,\n",
    "    direction = :output,\n",
    "    has_planning_variables = true,\n",
    "    can_expand = true,\n",
    "    can_retire = false,\n",
    "    capacity_size = smr_ccs_capsize,\n",
    "    time_interval = time_interval(Hydrogen),\n",
    "    subperiods = subperiods(Hydrogen),\n",
    "    st_coeff = Dict(:energy=>smr_ccs_heatrate,:emissions=>0.0,:captured_emissions=>0.0),\n",
    "    existing_capacity = 0.0,\n",
    "    investment_cost = smr_ccs_inv_cost,\n",
    "    fixed_om_cost = smr_ccs_fom_cost,\n",
    "    variable_om_cost = smr_ccs_vom_cost,\n",
    "    constraints = [CapacityConstraint()]\n",
    ")\n",
    "\n",
    "smr_ccs.TEdges[:NG] = TEdge{NaturalGas}(;\n",
    "id =  :NG,\n",
    "node = ng_node,\n",
    "transformation = smr_ccs,\n",
    "direction = :input,\n",
    "has_planning_variables = false,\n",
    "time_interval = time_interval(NaturalGas),\n",
    "subperiods = subperiods(NaturalGas),\n",
    "st_coeff = Dict(:energy=>1.0,:emissions=>smr_ccs_fuel_CO2*(1-smr_ccs_CO2_captured_rate),:captured_emissions=>smr_ccs_fuel_CO2*smr_ccs_CO2_captured_rate)\n",
    ")\n",
    "\n",
    "smr_ccs.TEdges[:CO2] = TEdge{CO2}(;\n",
    "    id = :CO2,\n",
    "    node = co2_node,\n",
    "    transformation = smr_ccs,\n",
    "    direction = :output,\n",
    "    has_planning_variables = false,\n",
    "    time_interval = time_interval(CO2),\n",
    "    subperiods = subperiods(CO2),\n",
    "    st_coeff = Dict(:energy=>0.0,:emissions=>1.0,:captured_emissions=>0.0)\n",
    ")\n",
    "\n",
    "smr_ccs.TEdges[:CO2_Captured] = TEdge{CO2}(;\n",
    "    id = :CO2_Captured,\n",
    "    node = co2_captured_node,\n",
    "    transformation = smr_ccs,\n",
    "    direction = :output,\n",
    "    has_planning_variables = false,\n",
    "    time_interval = time_interval(CO2),\n",
    "    subperiods = subperiods(CO2),\n",
    "    st_coeff = Dict(:energy=>0.0,:emissions=>0.0,:captured_emissions=>1.0)\n",
    ")"
   ]
  },
  {
   "cell_type": "markdown",
   "metadata": {},
   "source": [
    "Now that we have implemented different technologies, we can create the JuMP model."
   ]
  },
  {
   "cell_type": "code",
   "execution_count": 103,
   "metadata": {},
   "outputs": [],
   "source": [
    "components = [solar_pv; battery; ngcc; ngcc_ccs; electrolyzer; smr; smr_ccs;ng_source;co2_captured_sink];\n",
    "nodes = [e_node; h2_node; ng_node; co2_node; co2_captured_node];\n",
    "system = [nodes;components];"
   ]
  },
  {
   "cell_type": "code",
   "execution_count": 104,
   "metadata": {},
   "outputs": [],
   "source": [
    "model = Macro.JuMP.Model();\n",
    "Macro.@variable(model,vREF==1)\n",
    "Macro.@expression(model, eFixedCost, 0 * model[:vREF]);\n",
    "Macro.@expression(model, eVariableCost, 0 * model[:vREF]);"
   ]
  },
  {
   "cell_type": "code",
   "execution_count": 105,
   "metadata": {},
   "outputs": [],
   "source": [
    "add_planning_variables!.(components,model);"
   ]
  },
  {
   "cell_type": "code",
   "execution_count": 106,
   "metadata": {},
   "outputs": [],
   "source": [
    "add_operation_variables!.(system, model);"
   ]
  },
  {
   "cell_type": "code",
   "execution_count": 107,
   "metadata": {},
   "outputs": [
    {
     "name": "stderr",
     "output_type": "stream",
     "text": [
      "┌ Warning: MaxNonServedDemandConstraint required for a node that does not have a non-served demand variable so MACRO will not create this constraint\n",
      "└ @ Macro c:\\Users\\pecci\\Code\\MACRO-dev\\src\\node.jl:84\n",
      "┌ Warning: MaxNonServedDemandConstraint required for a node that does not have a non-served demand variable so MACRO will not create this constraint\n",
      "└ @ Macro c:\\Users\\pecci\\Code\\MACRO-dev\\src\\node.jl:84\n"
     ]
    }
   ],
   "source": [
    "add_all_model_constraints!.(system, model);"
   ]
  },
  {
   "cell_type": "code",
   "execution_count": 108,
   "metadata": {},
   "outputs": [],
   "source": [
    "Macro.@objective(model, Min, model[:eFixedCost] + model[:eVariableCost]);\n"
   ]
  },
  {
   "cell_type": "code",
   "execution_count": 109,
   "metadata": {},
   "outputs": [
    {
     "name": "stdout",
     "output_type": "stream",
     "text": [
      "-vFLOW_NGCC_NG[5] + 2.1775180500999998 vFLOW_NGCC_E[5] == 0\n"
     ]
    }
   ],
   "source": [
    "println(ngcc.constraints[1].constraint_ref[:energy,5])"
   ]
  },
  {
   "cell_type": "code",
   "execution_count": 110,
   "metadata": {},
   "outputs": [
    {
     "name": "stdout",
     "output_type": "stream",
     "text": [
      "-0.181048235160161 vFLOW_NGCC_NG[5] + vFLOW_NGCC_CO2[5] == 0\n"
     ]
    }
   ],
   "source": [
    "println(ngcc.constraints[1].constraint_ref[:emissions,5])"
   ]
  },
  {
   "cell_type": "code",
   "execution_count": 111,
   "metadata": {},
   "outputs": [
    {
     "name": "stdout",
     "output_type": "stream",
     "text": [
      "-vFLOW_NGCC_CCS_NG[5] + 2.1775180500999998 vFLOW_NGCC_CCS_E[5] == 0\n"
     ]
    }
   ],
   "source": [
    "println(ngcc_ccs.constraints[1].constraint_ref[:energy,5])"
   ]
  },
  {
   "cell_type": "code",
   "execution_count": 112,
   "metadata": {},
   "outputs": [
    {
     "name": "stdout",
     "output_type": "stream",
     "text": [
      "-0.018104823516016097 vFLOW_NGCC_CCS_NG[5] + vFLOW_NGCC_CCS_CO2[5] == 0\n"
     ]
    }
   ],
   "source": [
    "println(ngcc_ccs.constraints[1].constraint_ref[:emissions,5])"
   ]
  },
  {
   "cell_type": "code",
   "execution_count": 113,
   "metadata": {},
   "outputs": [
    {
     "name": "stdout",
     "output_type": "stream",
     "text": [
      "vFLOW_NGCC_CCS_CO2_Captured[5] - 0.16294341164414491 vFLOW_NGCC_CCS_NG[5] == 0\n"
     ]
    }
   ],
   "source": [
    "println(ngcc_ccs.constraints[1].constraint_ref[:captured_emissions,5])"
   ]
  },
  {
   "cell_type": "code",
   "execution_count": 114,
   "metadata": {},
   "outputs": [
    {
     "name": "stdout",
     "output_type": "stream",
     "text": [
      "vFLOW_Electrolyzer_H2[5] - 0.7406666666666667 vFLOW_Electrolyzer_E[5] == 0\n"
     ]
    }
   ],
   "source": [
    "println(electrolyzer.constraints[1].constraint_ref[:energy,5])"
   ]
  },
  {
   "cell_type": "code",
   "execution_count": 115,
   "metadata": {},
   "outputs": [
    {
     "name": "stdout",
     "output_type": "stream",
     "text": [
      "-vFLOW_SMR_NG[5] + 2.1775180500999998 vFLOW_SMR_H2[5] == 0\n"
     ]
    }
   ],
   "source": [
    "println(smr.constraints[1].constraint_ref[:energy,5])"
   ]
  },
  {
   "cell_type": "code",
   "execution_count": 116,
   "metadata": {},
   "outputs": [
    {
     "name": "stdout",
     "output_type": "stream",
     "text": [
      "-0.181048235160161 vFLOW_SMR_NG[5] + vFLOW_SMR_CO2[5] == 0\n"
     ]
    }
   ],
   "source": [
    "println(smr.constraints[1].constraint_ref[:emissions,5])"
   ]
  },
  {
   "cell_type": "code",
   "execution_count": 117,
   "metadata": {},
   "outputs": [
    {
     "name": "stdout",
     "output_type": "stream",
     "text": [
      "-vFLOW_SMR_CCS_NG[5] + 2.1775180500999998 vFLOW_SMR_CCS_H2[5] == 0\n"
     ]
    }
   ],
   "source": [
    "println(smr_ccs.constraints[1].constraint_ref[:energy,5])"
   ]
  },
  {
   "cell_type": "code",
   "execution_count": 118,
   "metadata": {},
   "outputs": [
    {
     "name": "stdout",
     "output_type": "stream",
     "text": [
      "-0.018104823516016097 vFLOW_SMR_CCS_NG[5] + vFLOW_SMR_CCS_CO2[5] == 0\n"
     ]
    }
   ],
   "source": [
    "println(smr_ccs.constraints[1].constraint_ref[:emissions,5])"
   ]
  },
  {
   "cell_type": "code",
   "execution_count": 119,
   "metadata": {},
   "outputs": [
    {
     "name": "stdout",
     "output_type": "stream",
     "text": [
      "vFLOW_SMR_CCS_CO2_Captured[5] - 0.16294341164414491 vFLOW_SMR_CCS_NG[5] == 0\n"
     ]
    }
   ],
   "source": [
    "println(smr_ccs.constraints[1].constraint_ref[:captured_emissions,5])"
   ]
  },
  {
   "cell_type": "code",
   "execution_count": 120,
   "metadata": {},
   "outputs": [],
   "source": [
    "using Gurobi"
   ]
  },
  {
   "cell_type": "code",
   "execution_count": 121,
   "metadata": {},
   "outputs": [
    {
     "name": "stdout",
     "output_type": "stream",
     "text": [
      "Set parameter Username\n",
      "Academic license - for non-commercial use only - expires 2025-03-18\n"
     ]
    }
   ],
   "source": [
    "Macro.set_optimizer(model,Gurobi.Optimizer)"
   ]
  },
  {
   "cell_type": "code",
   "execution_count": 122,
   "metadata": {},
   "outputs": [
    {
     "name": "stdout",
     "output_type": "stream",
     "text": [
      "Gurobi Optimizer version 10.0.2 build v10.0.2rc0 (win64)\n",
      "\n",
      "CPU model: Intel(R) Core(TM) i9-9980HK CPU @ 2.40GHz, instruction set [SSE2|AVX|AVX2]\n",
      "Thread count: 8 physical cores, 16 logical processors, using up to 16 threads\n",
      "\n",
      "Optimize a model with 210250 rows, 192745 columns and 512337 nonzeros\n",
      "Model fingerprint: 0x94693eb9\n",
      "Coefficient statistics:\n",
      "  Matrix range     [1e-04, 7e+02]\n",
      "  Objective range  [1e-01, 2e+07]\n",
      "  Bounds range     [1e+00, 1e+00]\n",
      "  RHS range        [4e+01, 2e+04]\n",
      "Presolve removed 118419 rows and 118426 columns\n",
      "Presolve time: 0.23s\n",
      "Presolved: 91831 rows, 74319 columns, 240453 nonzeros\n",
      "\n",
      "Concurrent LP optimizer: primal simplex, dual simplex, and barrier\n",
      "Showing barrier log only...\n",
      "\n",
      "Ordering time: 0.04s\n",
      "\n",
      "Barrier statistics:\n",
      " Dense cols : 8\n",
      " AA' NZ     : 1.837e+05\n",
      " Factor NZ  : 1.447e+06 (roughly 80 MB of memory)\n",
      " Factor Ops : 2.363e+07 (less than 1 second per iteration)\n",
      " Threads    : 6\n",
      "\n",
      "                  Objective                Residual\n",
      "Iter       Primal          Dual         Primal    Dual     Compl     Time\n",
      "   0   2.25508987e+11  0.00000000e+00  1.50e+05 0.00e+00  2.64e+08     1s\n",
      "   1   2.37619304e+11 -1.47866140e+11  2.92e+04 1.20e+03  9.25e+07     1s\n",
      "   2   1.39204312e+11 -1.35857246e+11  3.69e+03 1.22e+02  1.02e+07     1s\n",
      "   3   5.25447318e+10 -1.92951469e+10  1.12e+02 1.13e+00  5.36e+05     1s\n",
      "   4   8.64549574e+09  6.76885543e+08  7.69e+00 3.12e-02  4.87e+04     1s\n",
      "   5   5.16662583e+09  1.79391012e+09  2.73e+00 8.87e-03  2.05e+04     2s\n",
      "   6   4.73822247e+09  2.24560200e+09  2.14e+00 1.33e-10  1.51e+04     2s\n",
      "   7   4.50518373e+09  3.05976083e+09  1.78e+00 2.08e-08  8.73e+03     2s\n",
      "   8   4.18961663e+09  3.18138650e+09  1.17e+00 5.59e-09  6.08e+03     2s\n",
      "\n",
      "Barrier performed 8 iterations in 2.02 seconds (0.51 work units)\n",
      "Barrier solve interrupted - model solved by another algorithm\n",
      "\n",
      "\n",
      "Solved with dual simplex\n",
      "Iteration    Objective       Primal Inf.    Dual Inf.      Time\n",
      "   41262    3.5077394e+09   0.000000e+00   0.000000e+00      2s\n",
      "\n",
      "Solved in 41262 iterations and 2.13 seconds (2.06 work units)\n",
      "Optimal objective  3.507739423e+09\n",
      "\n",
      "User-callback calls 226, time in user-callback 0.00 sec\n"
     ]
    }
   ],
   "source": [
    "Macro.optimize!(model)"
   ]
  },
  {
   "cell_type": "markdown",
   "metadata": {},
   "source": [
    "The installed electrolyzer capacity is:"
   ]
  },
  {
   "cell_type": "code",
   "execution_count": 123,
   "metadata": {},
   "outputs": [
    {
     "data": {
      "text/plain": [
       "0.0"
      ]
     },
     "metadata": {},
     "output_type": "display_data"
    }
   ],
   "source": [
    "Macro.value(Macro.capacity(electrolyzer.TEdges[:H2]))"
   ]
  },
  {
   "cell_type": "markdown",
   "metadata": {},
   "source": [
    "The installed SMR capacity is"
   ]
  },
  {
   "cell_type": "code",
   "execution_count": 124,
   "metadata": {},
   "outputs": [
    {
     "data": {
      "text/plain": [
       "1039.5627"
      ]
     },
     "metadata": {},
     "output_type": "display_data"
    }
   ],
   "source": [
    "Macro.value(Macro.capacity(smr.TEdges[:H2]))"
   ]
  },
  {
   "cell_type": "markdown",
   "metadata": {},
   "source": [
    "The installed SMR CCS capacity is"
   ]
  },
  {
   "cell_type": "code",
   "execution_count": 125,
   "metadata": {},
   "outputs": [
    {
     "data": {
      "text/plain": [
       "0.0"
      ]
     },
     "metadata": {},
     "output_type": "display_data"
    }
   ],
   "source": [
    "Macro.value(Macro.capacity(smr_ccs.TEdges[:H2]))"
   ]
  },
  {
   "cell_type": "markdown",
   "metadata": {},
   "source": [
    "The installed solar capacity in MW is:"
   ]
  },
  {
   "cell_type": "code",
   "execution_count": 126,
   "metadata": {},
   "outputs": [
    {
     "data": {
      "text/plain": [
       "0.0"
      ]
     },
     "metadata": {},
     "output_type": "display_data"
    }
   ],
   "source": [
    "Macro.value(Macro.capacity(solar_pv))"
   ]
  },
  {
   "cell_type": "markdown",
   "metadata": {},
   "source": [
    "The installed battery capacity in MW is:"
   ]
  },
  {
   "cell_type": "code",
   "execution_count": 127,
   "metadata": {},
   "outputs": [
    {
     "data": {
      "text/plain": [
       "100.0"
      ]
     },
     "metadata": {},
     "output_type": "display_data"
    }
   ],
   "source": [
    "Macro.value(Macro.capacity(battery))"
   ]
  },
  {
   "cell_type": "markdown",
   "metadata": {},
   "source": [
    "The installed NGCC capacity in MW is:"
   ]
  },
  {
   "cell_type": "code",
   "execution_count": 128,
   "metadata": {},
   "outputs": [
    {
     "data": {
      "text/plain": [
       "16617.0"
      ]
     },
     "metadata": {},
     "output_type": "display_data"
    }
   ],
   "source": [
    "Macro.value(Macro.capacity(ngcc.TEdges[:E]))"
   ]
  },
  {
   "cell_type": "markdown",
   "metadata": {},
   "source": [
    "The installed NGCC CCS capacity in MW is:"
   ]
  },
  {
   "cell_type": "code",
   "execution_count": 129,
   "metadata": {},
   "outputs": [
    {
     "data": {
      "text/plain": [
       "0.0"
      ]
     },
     "metadata": {},
     "output_type": "display_data"
    }
   ],
   "source": [
    "Macro.value(Macro.capacity(ngcc_ccs.TEdges[:E]))"
   ]
  },
  {
   "cell_type": "markdown",
   "metadata": {},
   "source": [
    "The resulting CO2 emissions from fossil fuel power and H2 production in tonnes are:"
   ]
  },
  {
   "cell_type": "code",
   "execution_count": 130,
   "metadata": {},
   "outputs": [
    {
     "data": {
      "text/plain": [
       "3.429745500731372e7"
      ]
     },
     "metadata": {},
     "output_type": "display_data"
    }
   ],
   "source": [
    "base_emissions  = sum(Macro.value.(Macro.flow(ngcc.TEdges[:CO2]))) +  sum(Macro.value.(Macro.flow(ngcc_ccs.TEdges[:CO2]))) + sum(Macro.value.(Macro.flow(smr.TEdges[:CO2]))) + sum(Macro.value.(Macro.flow(smr_ccs.TEdges[:CO2])))"
   ]
  },
  {
   "cell_type": "markdown",
   "metadata": {},
   "source": [
    "The resulting captured CO2 (Power CCS + H2 CCS) in tonnes that can be transported to storage are:"
   ]
  },
  {
   "cell_type": "code",
   "execution_count": 131,
   "metadata": {},
   "outputs": [
    {
     "data": {
      "text/plain": [
       "0.0"
      ]
     },
     "metadata": {},
     "output_type": "display_data"
    }
   ],
   "source": [
    "base_CO2_captured  =  sum(Macro.value.(Macro.flow(ngcc_ccs.TEdges[:CO2_Captured]))) + sum(Macro.value.(Macro.flow(smr_ccs.TEdges[:CO2_Captured])))"
   ]
  },
  {
   "cell_type": "markdown",
   "metadata": {},
   "source": [
    "Lets add a low CO2 cap:"
   ]
  },
  {
   "cell_type": "code",
   "execution_count": 132,
   "metadata": {},
   "outputs": [],
   "source": [
    "Macro.@constraint(model,CO2Cap,sum(Macro.net_production(co2_node)) <= 1000000);"
   ]
  },
  {
   "cell_type": "code",
   "execution_count": 133,
   "metadata": {},
   "outputs": [
    {
     "name": "stdout",
     "output_type": "stream",
     "text": [
      "Gurobi Optimizer version 10.0.2 build v10.0.2rc0 (win64)\n",
      "\n",
      "CPU model: Intel(R) Core(TM) i9-9980HK CPU @ 2.40GHz, instruction set [SSE2|AVX|AVX2]\n",
      "Thread count: 8 physical cores, 16 logical processors, using up to 16 threads\n",
      "\n",
      "Optimize a model with 210251 rows, 192745 columns and 547377 nonzeros\n",
      "Coefficient statistics:\n",
      "  Matrix range     [1e-04, 7e+02]\n",
      "  Objective range  [1e-01, 2e+07]\n",
      "  Bounds range     [1e+00, 1e+00]\n",
      "  RHS range        [4e+01, 1e+06]\n",
      "Iteration    Objective       Primal Inf.    Dual Inf.      Time\n",
      "       0    3.5077394e+09   3.329746e+07   0.000000e+00      0s\n",
      "    1740    3.5077400e+09   4.258861e+08   0.000000e+00      5s\n",
      "    3350    3.5077426e+09   4.229279e+08   0.000000e+00     10s\n",
      "    4790    3.5169026e+09   4.068218e+08   0.000000e+00     15s\n",
      "    6230    3.5169033e+09   3.642259e+08   0.000000e+00     21s\n",
      "    7510    3.5169037e+09   3.235994e+08   0.000000e+00     25s\n",
      "    8790    3.5169040e+09   2.825609e+08   0.000000e+00     30s\n",
      "   10070    3.5169043e+09   2.430492e+08   0.000000e+00     35s\n",
      "   11520    3.5169045e+09   3.117088e+08   0.000000e+00     40s\n",
      "   13250    3.5169047e+09   1.809408e+08   0.000000e+00     45s\n",
      "   16240    3.5169072e+09   5.095392e+08   0.000000e+00     50s\n",
      "   21310    3.5169788e+09   5.284918e+09   0.000000e+00     55s\n",
      "   23700    3.5551726e+09   8.421282e+07   0.000000e+00     61s\n",
      "   24430    3.5578521e+09   4.363800e+07   0.000000e+00     65s\n",
      "   25490    3.5605183e+09   3.754925e+07   0.000000e+00     70s\n",
      "   26780    3.5662606e+09   3.462658e+07   0.000000e+00     75s\n",
      "   28578    3.5791301e+09   7.604414e+07   0.000000e+00     80s\n",
      "   30058    3.6016373e+09   1.188265e+08   0.000000e+00     85s\n",
      "   31278    3.6239546e+09   5.294333e+07   0.000000e+00     90s\n",
      "   32388    3.6336529e+09   3.832460e+07   0.000000e+00     95s\n",
      "   33458    3.6562226e+09   4.696273e+07   0.000000e+00    100s\n",
      "   34518    3.7557635e+09   5.451290e+08   0.000000e+00    106s\n",
      "   35158    4.2498728e+09   6.189225e+08   0.000000e+00    110s\n",
      "   36117    5.0851235e+09   5.056532e+08   0.000000e+00    117s\n",
      "   36615    5.1698406e+09   4.861607e+08   0.000000e+00    121s\n",
      "   37362    5.3245213e+09   5.465395e+08   0.000000e+00    125s\n",
      "   38109    5.4944444e+09   1.806375e+09   0.000000e+00    130s\n",
      "   38838    5.7684474e+09   1.558195e+09   0.000000e+00    135s\n",
      "   39518    5.9859613e+09   5.423274e+08   0.000000e+00    140s\n",
      "   40378    6.3800185e+09   8.408949e+08   0.000000e+00    146s\n",
      "   40978    6.5344354e+09   7.181068e+09   0.000000e+00    151s\n",
      "   41808    6.7663758e+09   1.275590e+09   0.000000e+00    156s\n",
      "   42378    7.0768614e+09   6.984512e+08   0.000000e+00    160s\n",
      "   43138    7.1989731e+09   5.576026e+08   0.000000e+00    165s\n",
      "   43858    7.3405347e+09   2.570551e+09   0.000000e+00    170s\n",
      "   44538    7.5229123e+09   7.246115e+08   0.000000e+00    176s\n",
      "   45218    7.6449282e+09   2.860588e+08   0.000000e+00    180s\n",
      "   46217    7.9451515e+09   2.979692e+08   0.000000e+00    186s\n",
      "   46797    8.0581562e+09   2.790898e+08   0.000000e+00    190s\n",
      "   47587    8.2190126e+09   2.234049e+08   0.000000e+00    196s\n",
      "   48307    8.3086134e+09   2.275328e+09   0.000000e+00    201s\n",
      "   49007    8.4121337e+09   1.464192e+08   0.000000e+00    205s\n",
      "   49627    8.4918194e+09   1.647336e+08   0.000000e+00    210s\n",
      "   50287    8.5183098e+09   3.192607e+08   0.000000e+00    215s\n",
      "   51147    8.5953789e+09   1.686215e+08   0.000000e+00    221s\n",
      "   51767    8.6345873e+09   2.917134e+07   0.000000e+00    225s\n",
      "   53066    8.7057031e+09   1.224167e+08   0.000000e+00    230s\n",
      "   53846    8.7230710e+09   1.076114e+08   0.000000e+00    235s\n",
      "   55095    8.7357456e+09   1.020626e+05   0.000000e+00    240s\n",
      "   55686    8.7363527e+09   0.000000e+00   0.000000e+00    242s\n",
      "\n",
      "Solved in 55686 iterations and 241.96 seconds (622.57 work units)\n",
      "Optimal objective  8.736352696e+09\n",
      "\n",
      "User-callback calls 55754, time in user-callback 0.16 sec\n"
     ]
    }
   ],
   "source": [
    "Macro.optimize!(model)"
   ]
  },
  {
   "cell_type": "markdown",
   "metadata": {},
   "source": [
    "Now, the electrolyzer capacity is:"
   ]
  },
  {
   "cell_type": "code",
   "execution_count": 134,
   "metadata": {},
   "outputs": [
    {
     "data": {
      "text/plain": [
       "900.2433"
      ]
     },
     "metadata": {},
     "output_type": "display_data"
    }
   ],
   "source": [
    "Macro.value(Macro.capacity(electrolyzer.TEdges[:H2]))"
   ]
  },
  {
   "cell_type": "markdown",
   "metadata": {},
   "source": [
    "The SMR capacity is:"
   ]
  },
  {
   "cell_type": "code",
   "execution_count": 135,
   "metadata": {},
   "outputs": [
    {
     "data": {
      "text/plain": [
       "0.0"
      ]
     },
     "metadata": {},
     "output_type": "display_data"
    }
   ],
   "source": [
    "Macro.value(Macro.capacity(smr.TEdges[:H2]))"
   ]
  },
  {
   "cell_type": "markdown",
   "metadata": {},
   "source": [
    "The SMR CCS capacity is:"
   ]
  },
  {
   "cell_type": "code",
   "execution_count": 136,
   "metadata": {},
   "outputs": [
    {
     "data": {
      "text/plain": [
       "856.9143"
      ]
     },
     "metadata": {},
     "output_type": "display_data"
    }
   ],
   "source": [
    "Macro.value(Macro.capacity(smr_ccs.TEdges[:H2]))"
   ]
  },
  {
   "cell_type": "markdown",
   "metadata": {},
   "source": [
    "Now the solar capacity is:"
   ]
  },
  {
   "cell_type": "code",
   "execution_count": 137,
   "metadata": {},
   "outputs": [
    {
     "data": {
      "text/plain": [
       "46181.92310162161"
      ]
     },
     "metadata": {},
     "output_type": "display_data"
    }
   ],
   "source": [
    "Macro.value(Macro.capacity(solar_pv))"
   ]
  },
  {
   "cell_type": "markdown",
   "metadata": {},
   "source": [
    "The installed battery capacity is:"
   ]
  },
  {
   "cell_type": "code",
   "execution_count": 138,
   "metadata": {},
   "outputs": [
    {
     "data": {
      "text/plain": [
       "8665.940727046356"
      ]
     },
     "metadata": {},
     "output_type": "display_data"
    }
   ],
   "source": [
    "Macro.value(Macro.capacity(battery))"
   ]
  },
  {
   "cell_type": "markdown",
   "metadata": {},
   "source": [
    "The installed NG capacity is:"
   ]
  },
  {
   "cell_type": "code",
   "execution_count": 139,
   "metadata": {},
   "outputs": [
    {
     "data": {
      "text/plain": [
       "0.0"
      ]
     },
     "metadata": {},
     "output_type": "display_data"
    }
   ],
   "source": [
    "Macro.value(Macro.capacity(ngcc.TEdges[:E]))"
   ]
  },
  {
   "cell_type": "markdown",
   "metadata": {},
   "source": [
    "The installed NG CCS capacity is:"
   ]
  },
  {
   "cell_type": "code",
   "execution_count": 140,
   "metadata": {},
   "outputs": [
    {
     "data": {
      "text/plain": [
       "7035.059272953644"
      ]
     },
     "metadata": {},
     "output_type": "display_data"
    }
   ],
   "source": [
    "Macro.value(Macro.capacity(ngcc_ccs.TEdges[:E]))"
   ]
  },
  {
   "cell_type": "markdown",
   "metadata": {},
   "source": [
    "The resulting CO2 emissions from fossil fuel power and H2 production in tonnes are:"
   ]
  },
  {
   "cell_type": "code",
   "execution_count": 141,
   "metadata": {},
   "outputs": [
    {
     "data": {
      "text/plain": [
       "1.0000000000000384e6"
      ]
     },
     "metadata": {},
     "output_type": "display_data"
    }
   ],
   "source": [
    "sum(Macro.value.(Macro.flow(ngcc.TEdges[:CO2]))) +  sum(Macro.value.(Macro.flow(ngcc_ccs.TEdges[:CO2]))) + sum(Macro.value.(Macro.flow(smr.TEdges[:CO2]))) + sum(Macro.value.(Macro.flow(smr_ccs.TEdges[:CO2])))"
   ]
  },
  {
   "cell_type": "markdown",
   "metadata": {},
   "source": [
    "The resulting captured CO2 (Power CCS + H2 CCS) in tonnes that can be transported to storage are:"
   ]
  },
  {
   "cell_type": "code",
   "execution_count": 142,
   "metadata": {},
   "outputs": [
    {
     "data": {
      "text/plain": [
       "8.999999999999842e6"
      ]
     },
     "metadata": {},
     "output_type": "display_data"
    }
   ],
   "source": [
    "sum(Macro.value.(Macro.flow(ngcc_ccs.TEdges[:CO2_Captured]))) + sum(Macro.value.(Macro.flow(smr_ccs.TEdges[:CO2_Captured])))"
   ]
  },
  {
   "cell_type": "markdown",
   "metadata": {},
   "source": [
    "We see that in a low CO2 emission case, Power and H2 CCS are deployed along with PV and electrolyzers"
   ]
  },
  {
   "cell_type": "markdown",
   "metadata": {},
   "source": [
    "However, if we use a net-zero CO2 cap:"
   ]
  },
  {
   "cell_type": "code",
   "execution_count": 143,
   "metadata": {},
   "outputs": [],
   "source": [
    "Macro.@constraint(model,sum(Macro.net_production(co2_node)) <= 0);"
   ]
  },
  {
   "cell_type": "code",
   "execution_count": 144,
   "metadata": {},
   "outputs": [
    {
     "name": "stdout",
     "output_type": "stream",
     "text": [
      "Gurobi Optimizer version 10.0.2 build v10.0.2rc0 (win64)\n",
      "\n",
      "CPU model: Intel(R) Core(TM) i9-9980HK CPU @ 2.40GHz, instruction set [SSE2|AVX|AVX2]\n",
      "Thread count: 8 physical cores, 16 logical processors, using up to 16 threads\n",
      "\n",
      "Optimize a model with 210252 rows, 192745 columns and 582417 nonzeros\n",
      "Coefficient statistics:\n",
      "  Matrix range     [1e-04, 7e+02]\n",
      "  Objective range  [1e-01, 2e+07]\n",
      "  Bounds range     [1e+00, 1e+00]\n",
      "  RHS range        [4e+01, 1e+06]\n",
      "Iteration    Objective       Primal Inf.    Dual Inf.      Time\n",
      "       0    8.7363527e+09   1.000000e+06   0.000000e+00      0s\n",
      "    1540    1.2546261e+10   1.779393e+08   0.000000e+00      6s\n",
      "    2540    1.2754742e+10   1.759612e+09   0.000000e+00     10s\n",
      "    3210    1.2924635e+10   5.266175e+08   0.000000e+00     15s\n",
      "    4270    1.3160337e+10   8.654543e+09   0.000000e+00     20s\n",
      "    5280    1.3300338e+10   2.450093e+08   0.000000e+00     25s\n",
      "    6330    1.3668778e+10   3.359449e+09   0.000000e+00     30s\n",
      "    7670    1.4185866e+10   8.516675e+07   0.000000e+00     35s\n",
      "    8880    1.4906474e+10   5.327851e+08   0.000000e+00     40s\n",
      "   10430    1.6217516e+10   4.352203e+09   0.000000e+00     45s\n",
      "   12040    1.8269582e+10   3.781813e+08   0.000000e+00     50s\n",
      "   14470    2.3111495e+10   2.727237e+06   0.000000e+00     55s\n",
      "   15465    2.4375498e+10   0.000000e+00   0.000000e+00     57s\n",
      "\n",
      "Solved in 15465 iterations and 57.17 seconds (143.70 work units)\n",
      "Optimal objective  2.437549819e+10\n",
      "\n",
      "User-callback calls 15496, time in user-callback 0.02 sec\n"
     ]
    }
   ],
   "source": [
    "Macro.optimize!(model)"
   ]
  },
  {
   "cell_type": "markdown",
   "metadata": {},
   "source": [
    "Now, the electrolyzer capacity is:"
   ]
  },
  {
   "cell_type": "code",
   "execution_count": 145,
   "metadata": {},
   "outputs": [
    {
     "data": {
      "text/plain": [
       "1039.5627"
      ]
     },
     "metadata": {},
     "output_type": "display_data"
    }
   ],
   "source": [
    "Macro.value(Macro.capacity(electrolyzer.TEdges[:H2]))"
   ]
  },
  {
   "cell_type": "markdown",
   "metadata": {},
   "source": [
    "The SMR capacity is:"
   ]
  },
  {
   "cell_type": "code",
   "execution_count": 146,
   "metadata": {},
   "outputs": [
    {
     "data": {
      "text/plain": [
       "0.0"
      ]
     },
     "metadata": {},
     "output_type": "display_data"
    }
   ],
   "source": [
    "Macro.value(Macro.capacity(smr.TEdges[:H2]))"
   ]
  },
  {
   "cell_type": "markdown",
   "metadata": {},
   "source": [
    "The SMR CCS capacity is:"
   ]
  },
  {
   "cell_type": "code",
   "execution_count": 147,
   "metadata": {},
   "outputs": [
    {
     "data": {
      "text/plain": [
       "0.0"
      ]
     },
     "metadata": {},
     "output_type": "display_data"
    }
   ],
   "source": [
    "Macro.value(Macro.capacity(smr_ccs.TEdges[:H2]))"
   ]
  },
  {
   "cell_type": "markdown",
   "metadata": {},
   "source": [
    "Now the solar capacity is:"
   ]
  },
  {
   "cell_type": "code",
   "execution_count": 148,
   "metadata": {},
   "outputs": [
    {
     "data": {
      "text/plain": [
       "133116.22350205318"
      ]
     },
     "metadata": {},
     "output_type": "display_data"
    }
   ],
   "source": [
    "Macro.value(Macro.capacity(solar_pv))"
   ]
  },
  {
   "cell_type": "markdown",
   "metadata": {},
   "source": [
    "The installed battery capacity is:"
   ]
  },
  {
   "cell_type": "code",
   "execution_count": 149,
   "metadata": {},
   "outputs": [
    {
     "data": {
      "text/plain": [
       "16372.85"
      ]
     },
     "metadata": {},
     "output_type": "display_data"
    }
   ],
   "source": [
    "Macro.value(Macro.capacity(battery))"
   ]
  },
  {
   "cell_type": "markdown",
   "metadata": {},
   "source": [
    "The installed NG capacity is:"
   ]
  },
  {
   "cell_type": "code",
   "execution_count": 150,
   "metadata": {},
   "outputs": [
    {
     "data": {
      "text/plain": [
       "0.0"
      ]
     },
     "metadata": {},
     "output_type": "display_data"
    }
   ],
   "source": [
    "Macro.value(Macro.capacity(ngcc.TEdges[:E]))"
   ]
  },
  {
   "cell_type": "markdown",
   "metadata": {},
   "source": [
    "The installed NG CCS capacity is:"
   ]
  },
  {
   "cell_type": "code",
   "execution_count": 151,
   "metadata": {},
   "outputs": [
    {
     "data": {
      "text/plain": [
       "0.0"
      ]
     },
     "metadata": {},
     "output_type": "display_data"
    }
   ],
   "source": [
    "Macro.value(Macro.capacity(ngcc_ccs.TEdges[:E]))"
   ]
  },
  {
   "cell_type": "markdown",
   "metadata": {},
   "source": [
    "The resulting CO2 emissions from fossil fuel power and H2 production in tonnes are:"
   ]
  },
  {
   "cell_type": "code",
   "execution_count": 152,
   "metadata": {},
   "outputs": [
    {
     "data": {
      "text/plain": [
       "0.0"
      ]
     },
     "metadata": {},
     "output_type": "display_data"
    }
   ],
   "source": [
    "sum(Macro.value.(Macro.flow(ngcc.TEdges[:CO2]))) +  sum(Macro.value.(Macro.flow(ngcc_ccs.TEdges[:CO2]))) + sum(Macro.value.(Macro.flow(smr.TEdges[:CO2]))) + sum(Macro.value.(Macro.flow(smr_ccs.TEdges[:CO2])))"
   ]
  },
  {
   "cell_type": "markdown",
   "metadata": {},
   "source": [
    "The resulting captured CO2 (Power CCS + H2 CCS) in tonnes that can be transported to storage are:"
   ]
  },
  {
   "cell_type": "code",
   "execution_count": 153,
   "metadata": {},
   "outputs": [
    {
     "data": {
      "text/plain": [
       "0.0"
      ]
     },
     "metadata": {},
     "output_type": "display_data"
    }
   ],
   "source": [
    "sum(Macro.value.(Macro.flow(ngcc_ccs.TEdges[:CO2_Captured]))) + sum(Macro.value.(Macro.flow(smr_ccs.TEdges[:CO2_Captured])))"
   ]
  },
  {
   "cell_type": "markdown",
   "metadata": {},
   "source": [
    "We see that in a net-zero emission case, only PV power and electrolyzer H2 are deployed."
   ]
  }
 ],
 "metadata": {
  "kernelspec": {
   "display_name": "Julia 1.10.2",
   "language": "julia",
   "name": "julia-1.10"
  },
  "language_info": {
   "file_extension": ".jl",
   "mimetype": "application/julia",
   "name": "julia",
   "version": "1.10.2"
  }
 },
 "nbformat": 4,
 "nbformat_minor": 4
}
