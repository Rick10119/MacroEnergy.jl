{
 "cells": [
  {
   "cell_type": "code",
   "execution_count": 172,
   "metadata": {},
   "outputs": [],
   "source": [
    "using DataFrames, CSV, JuMP"
   ]
  },
  {
   "cell_type": "code",
   "execution_count": 173,
   "metadata": {},
   "outputs": [
    {
     "name": "stdout",
     "output_type": "stream",
     "text": [
      "d:\\github_copies\\Macro\\prototypes\\dynamic_loading"
     ]
    }
   ],
   "source": [
    "src_dir = dirname(@__DIR__)\n",
    "print(src_dir)"
   ]
  },
  {
   "cell_type": "code",
   "execution_count": 174,
   "metadata": {},
   "outputs": [
    {
     "data": {
      "text/plain": [
       "\"d:\\\\github_copies\\\\Macro\\\\prototypes\\\\dynamic_loading\\\\tests\\\\Example_MESS\""
      ]
     },
     "metadata": {},
     "output_type": "display_data"
    }
   ],
   "source": [
    "testdata_dir = joinpath((@__DIR__), \"Example_MESS\")"
   ]
  },
  {
   "cell_type": "code",
   "execution_count": 175,
   "metadata": {},
   "outputs": [
    {
     "data": {
      "text/plain": [
       "load_resources (generic function with 2 methods)"
      ]
     },
     "metadata": {},
     "output_type": "display_data"
    }
   ],
   "source": [
    "include(joinpath(src_dir, \"src\", \"Macro.jl\"))"
   ]
  },
  {
   "cell_type": "code",
   "execution_count": 176,
   "metadata": {},
   "outputs": [
    {
     "name": "stdout",
     "output_type": "stream",
     "text": [
      "Could not find data type: ngcc. Please check the spelling.\n",
      "Could not find data type: fission. Please check the spelling.\n",
      "Could not find data type: ocgt. Please check the spelling.\n"
     ]
    }
   ],
   "source": [
    "for row in eachrow(resource_data)\n",
    "    try @datatype uppercasefirst(row.Type)\n",
    "        println(\"Found data type: \", row.Type)\n",
    "    catch\n",
    "        println(\"Could not find data type: \", row.Type, \". Please check the spelling.\")\n",
    "    end\n",
    "end"
   ]
  },
  {
   "cell_type": "code",
   "execution_count": 177,
   "metadata": {},
   "outputs": [
    {
     "ename": "UndefVarError",
     "evalue": "UndefVarError: `resource_type` not defined",
     "output_type": "error",
     "traceback": [
      "UndefVarError: `resource_type` not defined\n",
      "\n",
      "Stacktrace:\n",
      " [1] load_if_not_present(resource_type::String)\n",
      "   @ Main d:\\github_copies\\Macro\\prototypes\\dynamic_loading\\src\\core\\load_resources.jl:11\n",
      " [2] make_resources(resource_data::DataFrame, resources::Vector{Resource})\n",
      "   @ Main d:\\github_copies\\Macro\\prototypes\\dynamic_loading\\src\\core\\load_resources.jl:38\n",
      " [3] make_resources(resource_data::DataFrame)\n",
      "   @ Main d:\\github_copies\\Macro\\prototypes\\dynamic_loading\\src\\core\\load_resources.jl:36\n",
      " [4] top-level scope\n",
      "   @ d:\\github_copies\\Macro\\prototypes\\dynamic_loading\\tests\\dynamic_loading.ipynb:3"
     ]
    }
   ],
   "source": [
    "resource_filepath = joinpath(testdata_dir, \"elec_resource_example.csv\")\n",
    "resource_data = load_resource_data(resource_filepath)\n",
    "resources = make_resources(resource_data)"
   ]
  }
 ],
 "metadata": {
  "kernelspec": {
   "display_name": "Julia 1.9.3",
   "language": "julia",
   "name": "julia-1.9"
  },
  "language_info": {
   "file_extension": ".jl",
   "mimetype": "application/julia",
   "name": "julia",
   "version": "1.9.3"
  }
 },
 "nbformat": 4,
 "nbformat_minor": 2
}
