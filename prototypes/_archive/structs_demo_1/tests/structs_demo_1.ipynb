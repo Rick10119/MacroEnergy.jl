{
 "cells": [
  {
   "cell_type": "code",
   "execution_count": 16,
   "metadata": {},
   "outputs": [],
   "source": [
    "using JuMP\n",
    "using Gurobi"
   ]
  },
  {
   "cell_type": "code",
   "execution_count": 17,
   "metadata": {},
   "outputs": [
    {
     "data": {
      "text/plain": [
       "loadresources (generic function with 1 method)"
      ]
     },
     "metadata": {},
     "output_type": "display_data"
    }
   ],
   "source": [
    "# Load demand and resource structs\n",
    "include(joinpath(@__DIR__, \"..\", \"src\", \"core\", \"demand.jl\"))\n",
    "include(joinpath(@__DIR__, \"..\", \"src\", \"core\", \"resource.jl\"))"
   ]
  },
  {
   "cell_type": "code",
   "execution_count": 18,
   "metadata": {},
   "outputs": [
    {
     "data": {
      "text/plain": [
       "\"/Users/rmacd/Documents/GitHub/Macro/prototypes/structs_demo_1/tests/../../../Example_MESS\""
      ]
     },
     "metadata": {},
     "output_type": "display_data"
    }
   ],
   "source": [
    "# Find the example data\n",
    "# Search parent directories till we find \"Example_MESS\"\n",
    "function find_dir_upwards(dirname::String)\n",
    "    root_dir = \"\"\n",
    "    current_dir = @__DIR__\n",
    "    while !(dirname in readdir(current_dir))\n",
    "        current_dir = joinpath(current_dir, \"..\")\n",
    "    end\n",
    "    return joinpath(current_dir, dirname)\n",
    "end\n",
    "\n",
    "data_dir = find_dir_upwards(\"Example_MESS\")"
   ]
  },
  {
   "cell_type": "code",
   "execution_count": 19,
   "metadata": {},
   "outputs": [
    {
     "data": {
      "text/plain": [
       "1-element Vector{Demand}:\n",
       " Demand(\"zone_1\", [8936.480641, 8437.556316, 8040.661505, 7712.591491, 7571.235488, 7481.914537, 7059.699734, 7137.242165, 7345.382375, 7893.836139  …  9961.213686, 9963.886339, 10697.47855, 10475.05421, 9896.54686, 9641.545275, 9454.831263, 9884.375519, 10002.72976, 9972.969566], \"electricity\", \"components\")"
      ]
     },
     "metadata": {},
     "output_type": "display_data"
    }
   ],
   "source": [
    "# Load example data\n",
    "resources = loadresources(joinpath(data_dir, \"resource_example.csv\"))\n",
    "demands = loadelecdemands(joinpath(data_dir, \"demand_example.csv\"))"
   ]
  },
  {
   "attachments": {},
   "cell_type": "markdown",
   "metadata": {},
   "source": [
    "# Build model"
   ]
  },
  {
   "cell_type": "code",
   "execution_count": 20,
   "metadata": {},
   "outputs": [
    {
     "name": "stdout",
     "output_type": "stream",
     "text": [
      "Set parameter Username\n",
      "Academic license - for non-commercial use only - expires 2023-11-11\n",
      "Gurobi Optimizer version 10.0.0 build v10.0.0rc2 (mac64[arm])\n",
      "\n",
      "CPU model: Apple M2\n",
      "Thread count: 8 physical cores, 8 logical processors, using up to 8 threads\n",
      "\n",
      "Optimize a model with 35040 rows, 26283 columns and 78840 nonzeros\n",
      "JuMP.Model fingerprint: 0xd583adde\n",
      "Coefficient statistics:\n",
      "  Matrix range     [1e+00, 1e+00]\n",
      "  Objective range  [1e+00, 4e+01]\n",
      "  Bounds range     [0e+00, 0e+00]\n",
      "  RHS range        [7e+03, 1e+04]\n",
      "Presolve time: 0.02s\n",
      "Presolved: 35040 rows, 26283 columns, 78840 nonzeros\n",
      "\n",
      "Concurrent LP optimizer: primal simplex, dual simplex, and barrier\n",
      "Showing barrier log only...\n",
      "\n",
      "Ordering time: 0.00s\n",
      "\n",
      "Barrier statistics:\n",
      " Dense cols : 3\n",
      " AA' NZ     : 5.256e+04\n",
      " Factor NZ  : 1.927e+05 (roughly 26 MB of memory)\n",
      " Factor Ops : 1.104e+06 (less than 1 second per iteration)\n",
      " Threads    : 6\n",
      "\n",
      "Barrier performed 0 iterations in 0.04 seconds (0.04 work units)\n",
      "Barrier solve interrupted - model solved by another algorithm\n",
      "\n",
      "\n",
      "Solved with dual simplex\n",
      "\n",
      "Solved in 43 iterations and 0.05 seconds (0.06 work units)\n",
      "Optimal objective  9.135307356e+07\n",
      "\n",
      "User-callback calls 56, time in user-callback 0.00 sec\n"
     ]
    }
   ],
   "source": [
    "M = JuMP.Model(Gurobi.Optimizer)\n",
    "\n",
    "T = length(demands[1].demand)\n",
    "R = length(resources)\n",
    "\n",
    "JuMP.@variable(M, vCap[1:length(resources)] >= 0)\n",
    "JuMP.@variable(M, vPow[1:T, 1:R] >= 0)\n",
    "\n",
    "JuMP.@constraint(M, cPowerBalance[t=1:T], sum(vPow[t, r] for r in 1:R) == demands[1].demand[t])\n",
    "\n",
    "JuMP.@constraint(M, cCapacity[t=1:T, r=1:R], vCap[r] >= vPow[t, r])\n",
    "\n",
    "@expression(M, eFixCost, sum(vCap[r] * resources[r].fixedcost for r in 1:R))\n",
    "@expression(M, eVarCost, sum(sum(vPow[t, r] for t=1:T) * resources[r].variablecost for r in 1:R))\n",
    "\n",
    "@objective(M, Min, eFixCost + eVarCost)\n",
    "\n",
    "optimize!(M)"
   ]
  }
 ],
 "metadata": {
  "kernelspec": {
   "display_name": "Julia 1.9.3",
   "language": "julia",
   "name": "julia-1.9"
  },
  "language_info": {
   "file_extension": ".jl",
   "mimetype": "application/julia",
   "name": "julia",
   "version": "1.9.3"
  },
  "orig_nbformat": 4
 },
 "nbformat": 4,
 "nbformat_minor": 2
}
