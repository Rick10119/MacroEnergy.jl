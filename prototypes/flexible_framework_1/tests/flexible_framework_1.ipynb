{
 "cells": [
  {
   "cell_type": "code",
   "execution_count": 13,
   "metadata": {},
   "outputs": [],
   "source": [
    "using JuMP\n",
    "using Gurobi\n",
    "using CSV"
   ]
  },
  {
   "cell_type": "code",
   "execution_count": 14,
   "metadata": {},
   "outputs": [],
   "source": [
    "src_filepath = \"../src\"\n",
    "\n",
    "function include_files(dir_contents::Vector{String}, dir_path::String)\n",
    "    for file in dir_contents\n",
    "        if endswith(file, \".jl\")\n",
    "            include(joinpath(dir_path, file))\n",
    "        elseif isdir(joinpath(dir_path, file))\n",
    "            include_files(readdir(joinpath(dir_path, file)), joinpath(dir_path, file))\n",
    "        end\n",
    "    end\n",
    "end\n",
    "\n",
    "include_files(readdir(src_filepath), src_filepath)"
   ]
  },
  {
   "cell_type": "code",
   "execution_count": 15,
   "metadata": {},
   "outputs": [
    {
     "data": {
      "text/plain": [
       "\"/Users/rmacd/Documents/GitHub/Macro/prototypes/flexible_framework_1/tests/../../../Example_MESS\""
      ]
     },
     "metadata": {},
     "output_type": "display_data"
    }
   ],
   "source": [
    "# Find the example data\n",
    "# Search parent directories till we find \"Example_MESS\"\n",
    "function find_dir_upwards(dirname::String)\n",
    "    root_dir = \"\"\n",
    "    current_dir = @__DIR__\n",
    "    while !(dirname in readdir(current_dir))\n",
    "        current_dir = joinpath(current_dir, \"..\")\n",
    "    end\n",
    "    return joinpath(current_dir, dirname)\n",
    "end\n",
    "\n",
    "data_dir = find_dir_upwards(\"Example_MESS\")"
   ]
  },
  {
   "cell_type": "code",
   "execution_count": 19,
   "metadata": {},
   "outputs": [
    {
     "data": {
      "text/plain": [
       "3-element Vector{Resource}:\n",
       " Resource(\"ngcc\", \"ngcc\", \"zone_1\", 20.0, 3.0)\n",
       " Resource(\"fission\", \"fission\", \"zone_1\", 40.0, 1.0)\n",
       " Resource(\"ocgt\", \"ocgt\", \"zone_1\", 10.0, 4.0)"
      ]
     },
     "metadata": {},
     "output_type": "display_data"
    }
   ],
   "source": [
    "# Load the network map\n",
    "# We need this to know how to index resources\n",
    "\n",
    "# Load the resources\n",
    "resources = loadresources(joinpath(data_dir, \"elec_resource_example.csv\"))\n",
    "\n",
    "# Load the demand\n",
    "\n",
    "# Load policies"
   ]
  }
 ],
 "metadata": {
  "kernelspec": {
   "display_name": "Julia 1.9.3",
   "language": "julia",
   "name": "julia-1.9"
  },
  "language_info": {
   "file_extension": ".jl",
   "mimetype": "application/julia",
   "name": "julia",
   "version": "1.9.3"
  }
 },
 "nbformat": 4,
 "nbformat_minor": 2
}
