{
 "cells": [
  {
   "cell_type": "code",
   "execution_count": 1,
   "metadata": {},
   "outputs": [
    {
     "name": "stderr",
     "output_type": "stream",
     "text": [
      "\u001b[32m\u001b[1m  Activating\u001b[22m\u001b[39m project at `c:\\Users\\pecci\\Code\\MACRO-dev\\prototypes\\PrincetonUniversity_Prototypes`"
     ]
    },
    {
     "name": "stderr",
     "output_type": "stream",
     "text": [
      "\n"
     ]
    }
   ],
   "source": [
    "using Pkg\n",
    "Pkg.activate(pwd())"
   ]
  },
  {
   "cell_type": "code",
   "execution_count": 2,
   "metadata": {},
   "outputs": [],
   "source": [
    "@enum Commodity Power Hydrogen"
   ]
  },
  {
   "cell_type": "code",
   "execution_count": 3,
   "metadata": {},
   "outputs": [
    {
     "data": {
      "text/plain": [
       "(Power, Hydrogen)"
      ]
     },
     "metadata": {},
     "output_type": "display_data"
    }
   ],
   "source": [
    "instances(Commodity)"
   ]
  },
  {
   "cell_type": "code",
   "execution_count": 4,
   "metadata": {},
   "outputs": [],
   "source": [
    "using JuMP"
   ]
  },
  {
   "cell_type": "code",
   "execution_count": 5,
   "metadata": {},
   "outputs": [],
   "source": [
    "abstract type AbstractResource end"
   ]
  },
  {
   "cell_type": "code",
   "execution_count": 6,
   "metadata": {},
   "outputs": [],
   "source": [
    "const time_resolution_map = Dict(Power=>1,Hydrogen=>4);\n",
    "const TimeLength = 8760;"
   ]
  },
  {
   "cell_type": "code",
   "execution_count": 7,
   "metadata": {},
   "outputs": [
    {
     "data": {
      "text/plain": [
       "time_resolution (generic function with 1 method)"
      ]
     },
     "metadata": {},
     "output_type": "display_data"
    }
   ],
   "source": [
    "function time_resolution(T::Commodity)   \n",
    "    return Int(TimeLength/time_resolution_map[T])\n",
    "end"
   ]
  },
  {
   "cell_type": "code",
   "execution_count": 8,
   "metadata": {},
   "outputs": [],
   "source": [
    "resource_type(g::AbstractResource) = g.Commodity;"
   ]
  },
  {
   "cell_type": "code",
   "execution_count": 9,
   "metadata": {},
   "outputs": [
    {
     "data": {
      "text/plain": [
       "Resource"
      ]
     },
     "metadata": {},
     "output_type": "display_data"
    }
   ],
   "source": [
    "Base.@kwdef mutable struct Resource <: AbstractResource\n",
    "    Commodity::Commodity\n",
    "    Node::Int64;\n",
    "    R_ID::Int64;\n",
    "    min_capacity::Float64 = 0.0\n",
    "    max_capacity::Float64 = 100.0\n",
    "    existing_capacity::Float64 = 0.0\n",
    "    PolicyMembership::Vector{String} = [\"\"]\n",
    "    CanExpand::Bool = true\n",
    "    CanRetire::Bool = true\n",
    "    InvCost::Float64 = 0.0;\n",
    "    FOMCost::Float64 = 0.0;\n",
    "    VOMCost::Float64 = 0.0;\n",
    "    _new_capacity::Array{VariableRef}  = VariableRef[]\n",
    "    _ret_capacity::Array{VariableRef} = VariableRef[]\n",
    "    _injection::Array{VariableRef} = Array{VariableRef}(undef,time_resolution(Commodity))\n",
    "end"
   ]
  },
  {
   "cell_type": "code",
   "execution_count": 10,
   "metadata": {},
   "outputs": [
    {
     "data": {
      "text/plain": [
       "VariableResource"
      ]
     },
     "metadata": {},
     "output_type": "display_data"
    }
   ],
   "source": [
    "#### TODO : VariableResource struct should \"inherit\" fileds from Resource using macro forward. \n",
    "Base.@kwdef mutable struct VariableResource <: AbstractResource\n",
    "    Commodity::Commodity\n",
    "    Node::Int64;\n",
    "    R_ID::Int64;\n",
    "    min_capacity::Float64 = 0.0\n",
    "    max_capacity::Float64 = 100.0\n",
    "    existing_capacity::Float64 = 0.0\n",
    "    PolicyMembership::Vector{String} = [\"\"]\n",
    "    CanExpand::Bool = true\n",
    "    CanRetire::Bool = true\n",
    "    InvCost::Float64 = 0.0;\n",
    "    FOMCost::Float64 = 0.0;\n",
    "    VOMCost::Float64 = 0.0;\n",
    "    capacity_factor :: Vector{Float64} = ones(time_resolution(Commodity))\n",
    "    _new_capacity::Array{VariableRef}  = VariableRef[]\n",
    "    _ret_capacity::Array{VariableRef} = VariableRef[]\n",
    "    _injection::Array{VariableRef} = Array{VariableRef}(undef,time_resolution(Commodity))\n",
    "end"
   ]
  },
  {
   "cell_type": "code",
   "execution_count": 11,
   "metadata": {},
   "outputs": [],
   "source": []
  },
  {
   "cell_type": "code",
   "execution_count": 12,
   "metadata": {},
   "outputs": [
    {
     "data": {
      "text/plain": [
       "new_capacity! (generic function with 1 method)"
      ]
     },
     "metadata": {},
     "output_type": "display_data"
    }
   ],
   "source": [
    "new_capacity(g::AbstractResource) = g._new_capacity[1];\n",
    "function new_capacity!(g::AbstractResource,v::VariableRef)\n",
    "    g._new_capacity= [v];\n",
    "    return nothing\n",
    "end"
   ]
  },
  {
   "cell_type": "code",
   "execution_count": 13,
   "metadata": {},
   "outputs": [
    {
     "data": {
      "text/plain": [
       "ret_capacity! (generic function with 1 method)"
      ]
     },
     "metadata": {},
     "output_type": "display_data"
    }
   ],
   "source": [
    "ret_capacity(g::AbstractResource) = g._ret_capacity[1];\n",
    "function ret_capacity!(g::AbstractResource,v::VariableRef)\n",
    "    g._ret_capacity = [v];\n",
    "    return nothing\n",
    "end\n"
   ]
  },
  {
   "cell_type": "code",
   "execution_count": 14,
   "metadata": {},
   "outputs": [
    {
     "data": {
      "text/plain": [
       "injection! (generic function with 1 method)"
      ]
     },
     "metadata": {},
     "output_type": "display_data"
    }
   ],
   "source": [
    "injection(g::AbstractResource) = g._injection;\n",
    "function injection!(g::AbstractResource,v::Array{VariableRef})\n",
    "    g._injection = v;\n",
    "    return nothing\n",
    "end"
   ]
  },
  {
   "cell_type": "code",
   "execution_count": 15,
   "metadata": {},
   "outputs": [
    {
     "data": {
      "text/plain": [
       "add_capacity_variables! (generic function with 1 method)"
      ]
     },
     "metadata": {},
     "output_type": "display_data"
    }
   ],
   "source": [
    "function add_capacity_variables!(g::AbstractResource,model::Model)\n",
    "    new_capacity!(g, @variable(model,lower_bound=0.0,base_name=\"vCAP_$(resource_type(g))_$(g.R_ID)\"))\n",
    "    ret_capacity!(g, @variable(model,lower_bound=0.0,base_name=\"vRETCAP_$(resource_type(g))_$(g.R_ID)\"))\n",
    "end\n"
   ]
  },
  {
   "cell_type": "code",
   "execution_count": 16,
   "metadata": {},
   "outputs": [],
   "source": [
    "# function time_resolution(c::Commodity)\n",
    "#     isa(c,Power) && return 24\n"
   ]
  },
  {
   "cell_type": "code",
   "execution_count": 17,
   "metadata": {},
   "outputs": [
    {
     "data": {
      "text/plain": [
       "VariableResource(Power, 1, 1, 0.0, 100.0, 0.0, [\"\"], true, true, 85300.0, 18760.0, 0.0, [1.0, 1.0, 1.0, 1.0, 1.0, 1.0, 1.0, 1.0, 1.0, 1.0  …  1.0, 1.0, 1.0, 1.0, 1.0, 1.0, 1.0, 1.0, 1.0, 1.0], VariableRef[], VariableRef[], VariableRef[#undef, #undef, #undef, #undef, #undef, #undef, #undef, #undef, #undef, #undef  …  #undef, #undef, #undef, #undef, #undef, #undef, #undef, #undef, #undef, #undef])"
      ]
     },
     "metadata": {},
     "output_type": "display_data"
    }
   ],
   "source": [
    "solar = VariableResource(Commodity=Power,Node = 1,R_ID=1,InvCost=85300.0,FOMCost =18760)"
   ]
  },
  {
   "cell_type": "code",
   "execution_count": 18,
   "metadata": {},
   "outputs": [
    {
     "data": {
      "text/plain": [
       "8760-element Vector{Float64}:\n",
       " 1.0\n",
       " 1.0\n",
       " 1.0\n",
       " 1.0\n",
       " 1.0\n",
       " 1.0\n",
       " 1.0\n",
       " 1.0\n",
       " 1.0\n",
       " 1.0\n",
       " ⋮\n",
       " 1.0\n",
       " 1.0\n",
       " 1.0\n",
       " 1.0\n",
       " 1.0\n",
       " 1.0\n",
       " 1.0\n",
       " 1.0\n",
       " 1.0"
      ]
     },
     "metadata": {},
     "output_type": "display_data"
    }
   ],
   "source": [
    "solar.capacity_factor"
   ]
  },
  {
   "cell_type": "code",
   "execution_count": 19,
   "metadata": {},
   "outputs": [
    {
     "data": {
      "text/plain": [
       "A JuMP Model\n",
       "Feasibility problem with:\n",
       "Variables: 0\n",
       "Model mode: AUTOMATIC\n",
       "CachingOptimizer state: NO_OPTIMIZER\n",
       "Solver name: No optimizer attached."
      ]
     },
     "metadata": {},
     "output_type": "display_data"
    }
   ],
   "source": [
    "model = Model()"
   ]
  },
  {
   "cell_type": "code",
   "execution_count": 20,
   "metadata": {},
   "outputs": [],
   "source": [
    "add_capacity_variables!(solar,model)"
   ]
  },
  {
   "cell_type": "code",
   "execution_count": 21,
   "metadata": {},
   "outputs": [
    {
     "name": "stdout",
     "output_type": "stream",
     "text": [
      "Feasibility\n",
      "Subject to\n"
     ]
    },
    {
     "name": "stdout",
     "output_type": "stream",
     "text": [
      " vCAP_Power_1 >= 0\n",
      " vRETCAP_Power_1 >= 0\n",
      "\n"
     ]
    }
   ],
   "source": [
    "println(model)"
   ]
  }
 ],
 "metadata": {
  "kernelspec": {
   "display_name": "Julia 1.9.2",
   "language": "julia",
   "name": "julia-1.9"
  },
  "language_info": {
   "file_extension": ".jl",
   "mimetype": "application/julia",
   "name": "julia",
   "version": "1.9.2"
  }
 },
 "nbformat": 4,
 "nbformat_minor": 2
}
